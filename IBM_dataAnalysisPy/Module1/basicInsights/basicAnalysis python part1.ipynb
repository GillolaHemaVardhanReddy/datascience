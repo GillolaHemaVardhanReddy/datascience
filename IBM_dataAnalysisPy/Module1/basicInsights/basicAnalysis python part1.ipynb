{
 "cells": [
  {
   "cell_type": "code",
   "execution_count": 1,
   "id": "5bc5bdd4",
   "metadata": {},
   "outputs": [],
   "source": [
    "import pandas as pd"
   ]
  },
  {
   "cell_type": "code",
   "execution_count": 2,
   "id": "81c1df48",
   "metadata": {},
   "outputs": [],
   "source": [
    "df = pd.read_csv(\"automobile.csv\")"
   ]
  },
  {
   "cell_type": "code",
   "execution_count": 7,
   "id": "2c706de4",
   "metadata": {},
   "outputs": [
    {
     "data": {
      "text/plain": [
       "Index(['Unnamed: 0', 'symboling', 'normalized-losses', 'make', 'fueltype',\n",
       "       'aspiration', 'no-of-doors', 'body-style', 'drive-wheels',\n",
       "       'engine-location', 'wheel-base', 'length', 'width', 'height',\n",
       "       'curb-weight', 'engine-type', 'no-of-cylinders', 'engine-size',\n",
       "       'fuel-system', 'bore', 'stroke', 'compression-ratio', 'horse-power',\n",
       "       'peak-rpm', 'city-mpg', 'highway-mpg', 'price'],\n",
       "      dtype='object')"
      ]
     },
     "execution_count": 7,
     "metadata": {},
     "output_type": "execute_result"
    }
   ],
   "source": [
    "df.columns # it has all columns names"
   ]
  },
  {
   "cell_type": "code",
   "execution_count": 8,
   "id": "b49c8ba9",
   "metadata": {},
   "outputs": [],
   "source": [
    "# basic insights from the data \n",
    "# before we should check :\n",
    "    # data types \n",
    "    # data distribution \n",
    "# locate potential issues with data "
   ]
  },
  {
   "cell_type": "code",
   "execution_count": 25,
   "id": "25fe9384",
   "metadata": {},
   "outputs": [
    {
     "name": "stdout",
     "output_type": "stream",
     "text": [
      "        data_types_in_pandas | data_types_equivalent\n",
      "0                     object |                string\n",
      "1                      int64 |                   int\n",
      "2                    float64 |                 float\n",
      "3  datetime64 ,timedelta[ns] |           date module\n"
     ]
    }
   ],
   "source": [
    "# check data types first so belows they list of all types in pandas\n",
    "dic = {\n",
    "    \"data_types_in_pandas |\": [\"object |\",\"int64 |\", \"float64 |\", \"datetime64 ,timedelta[ns] |\"],\n",
    "    \"data_types_equivalent\": [\"string\", \"int\", \"float\", \"date module\"]\n",
    "}\n",
    "\n",
    "# Creating DataFrame\n",
    "dataframeTypes = pd.DataFrame(dic)\n",
    "\n",
    "# Displaying DataFrame\n",
    "print(dataframeTypes)"
   ]
  },
  {
   "cell_type": "code",
   "execution_count": 26,
   "id": "71e83f9a",
   "metadata": {},
   "outputs": [],
   "source": [
    "# why check data types \n",
    "    # because there might be data type mismatch ==> if necessary change data type manually\n",
    "    # check which python methods can be applied for specific column before applying"
   ]
  },
  {
   "cell_type": "code",
   "execution_count": 27,
   "id": "bb96ab64",
   "metadata": {},
   "outputs": [
    {
     "data": {
      "text/plain": [
       "Unnamed: 0             int64\n",
       "symboling              int64\n",
       "normalized-losses     object\n",
       "make                  object\n",
       "fueltype              object\n",
       "aspiration            object\n",
       "no-of-doors           object\n",
       "body-style            object\n",
       "drive-wheels          object\n",
       "engine-location       object\n",
       "wheel-base           float64\n",
       "length               float64\n",
       "width                float64\n",
       "height               float64\n",
       "curb-weight            int64\n",
       "engine-type           object\n",
       "no-of-cylinders       object\n",
       "engine-size            int64\n",
       "fuel-system           object\n",
       "bore                  object\n",
       "stroke                object\n",
       "compression-ratio    float64\n",
       "horse-power           object\n",
       "peak-rpm              object\n",
       "city-mpg               int64\n",
       "highway-mpg            int64\n",
       "price                 object\n",
       "dtype: object"
      ]
     },
     "execution_count": 27,
     "metadata": {},
     "output_type": "execute_result"
    }
   ],
   "source": [
    "# to check data type we actually use dataframe.dtypes => it returns all columns data types\n",
    "df.dtypes"
   ]
  },
  {
   "cell_type": "code",
   "execution_count": null,
   "id": "e87ff78a",
   "metadata": {},
   "outputs": [],
   "source": [
    "# here bore must actually be int but its object lets fix it in next parts"
   ]
  }
 ],
 "metadata": {
  "kernelspec": {
   "display_name": "Python 3 (ipykernel)",
   "language": "python",
   "name": "python3"
  },
  "language_info": {
   "codemirror_mode": {
    "name": "ipython",
    "version": 3
   },
   "file_extension": ".py",
   "mimetype": "text/x-python",
   "name": "python",
   "nbconvert_exporter": "python",
   "pygments_lexer": "ipython3",
   "version": "3.11.1"
  }
 },
 "nbformat": 4,
 "nbformat_minor": 5
}
