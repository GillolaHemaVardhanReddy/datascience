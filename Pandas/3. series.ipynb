{
 "cells": [
  {
   "cell_type": "markdown",
   "id": "36b88a17",
   "metadata": {},
   "source": [
    "# DATA STRUCTURES"
   ]
  },
  {
   "cell_type": "markdown",
   "id": "698e0376",
   "metadata": {},
   "source": [
    "import pandas first to get started"
   ]
  },
  {
   "cell_type": "code",
   "execution_count": 10,
   "id": "06ffa023",
   "metadata": {},
   "outputs": [],
   "source": [
    "import pandas as pd"
   ]
  },
  {
   "cell_type": "markdown",
   "id": "ef5a7eb0",
   "metadata": {},
   "source": [
    "## SERIES"
   ]
  },
  {
   "cell_type": "raw",
   "id": "0b3c7182",
   "metadata": {},
   "source": [
    "SERIES is 1D labelled array capable of holding any data type\n",
    "(integers, strings, floating point numbers, Python objects, etc.)\n",
    "The axis labels are collectively referred to as the index.\n",
    "only one data type is allowed in series coloumn"
   ]
  },
  {
   "cell_type": "markdown",
   "id": "f5793c95",
   "metadata": {},
   "source": [
    "### creation of series"
   ]
  },
  {
   "cell_type": "raw",
   "id": "0a919741",
   "metadata": {},
   "source": [
    "The basic method to create a Series is to call:\n",
    "s = pd.Series(data, index=index)\n",
    "data :\n",
    "    a python dictionary\n",
    "    an nd array \n",
    "    a scalar value\n",
    "The passed index is a list of axis labels. Thus, this separates into a few cases depending on what data is:"
   ]
  },
  {
   "cell_type": "markdown",
   "id": "86142044",
   "metadata": {},
   "source": [
    "#### SERIES FROM ND array"
   ]
  },
  {
   "cell_type": "raw",
   "id": "c7c8debf",
   "metadata": {},
   "source": [
    "if data is an ND array index must be the same length of data. if index is not specified it will be automatically created from range of 0 - (n-1)"
   ]
  },
  {
   "cell_type": "code",
   "execution_count": 12,
   "id": "d5e45087",
   "metadata": {},
   "outputs": [
    {
     "data": {
      "text/plain": [
       "a     hema\n",
       "b    ranga\n",
       "c    ganga\n",
       "dtype: object"
      ]
     },
     "execution_count": 12,
     "metadata": {},
     "output_type": "execute_result"
    }
   ],
   "source": [
    "s = pd.Series([\"hema\",'ranga',\"ganga\"],index=['a','b','c']) # index is specified\n",
    "s"
   ]
  },
  {
   "cell_type": "code",
   "execution_count": 13,
   "id": "bd96a9b1",
   "metadata": {},
   "outputs": [
    {
     "data": {
      "text/plain": [
       "0     hema\n",
       "1    ranga\n",
       "2    ganga\n",
       "dtype: object"
      ]
     },
     "execution_count": 13,
     "metadata": {},
     "output_type": "execute_result"
    }
   ],
   "source": [
    "s = pd.Series([\"hema\",'ranga',\"ganga\"]) # index is not specified\n",
    "s"
   ]
  },
  {
   "cell_type": "markdown",
   "id": "03ba5371",
   "metadata": {},
   "source": [
    "#### SERIES FROM DICTIONARY"
   ]
  },
  {
   "cell_type": "code",
   "execution_count": 18,
   "id": "222ea7f8",
   "metadata": {},
   "outputs": [
    {
     "data": {
      "text/plain": [
       "a    3.0\n",
       "b    1.0\n",
       "c    2.0\n",
       "d    NaN\n",
       "dtype: float64"
      ]
     },
     "execution_count": 18,
     "metadata": {},
     "output_type": "execute_result"
    }
   ],
   "source": [
    "d = {\"b\":1,\"c\":2,\"a\":3} \n",
    "s = pd.Series(d,index=[\"a\",\"b\",\"c\",\"d\"]) # index is specified\n",
    "s"
   ]
  },
  {
   "cell_type": "code",
   "execution_count": 20,
   "id": "190e8d95",
   "metadata": {},
   "outputs": [
    {
     "data": {
      "text/plain": [
       "b    1\n",
       "c    2\n",
       "a    3\n",
       "dtype: int64"
      ]
     },
     "execution_count": 20,
     "metadata": {},
     "output_type": "execute_result"
    }
   ],
   "source": [
    "d = {\"b\":1,\"c\":2,\"a\":3} \n",
    "s = pd.Series(d) # index is not specified then keys are taken as indexes\n",
    "s"
   ]
  },
  {
   "cell_type": "markdown",
   "id": "ae8322e4",
   "metadata": {},
   "source": [
    "#### SERIES FROM SCALAR"
   ]
  },
  {
   "cell_type": "raw",
   "id": "7a5f8370",
   "metadata": {},
   "source": [
    "if data is a scalar value an index must be provided\n",
    "the value will be repeated to match no.of indexes"
   ]
  },
  {
   "cell_type": "code",
   "execution_count": 22,
   "id": "0eef9c83",
   "metadata": {},
   "outputs": [
    {
     "data": {
      "text/plain": [
       "a    5\n",
       "b    5\n",
       "c    5\n",
       "d    5\n",
       "dtype: int64"
      ]
     },
     "execution_count": 22,
     "metadata": {},
     "output_type": "execute_result"
    }
   ],
   "source": [
    "s = pd.Series(5,index=[\"a\",\"b\",\"c\",\"d\"])\n",
    "s"
   ]
  },
  {
   "cell_type": "markdown",
   "id": "b4871716",
   "metadata": {},
   "source": [
    "### SLICING & ACCESING ELEMENTS SERIES"
   ]
  },
  {
   "cell_type": "raw",
   "id": "4193fece",
   "metadata": {},
   "source": [
    "accessing elements using iloc(n) --> n = ele position\n",
    "slicing uses method .iloc(start:end) or .loc(startEle,endEle)\n",
    "series is same as dictionary we can just access elements using axes label"
   ]
  },
  {
   "cell_type": "code",
   "execution_count": 50,
   "id": "21f19a53",
   "metadata": {},
   "outputs": [
    {
     "data": {
      "text/plain": [
       "2    3\n",
       "1    2\n",
       "dtype: int64"
      ]
     },
     "execution_count": 50,
     "metadata": {},
     "output_type": "execute_result"
    }
   ],
   "source": [
    "s.iloc[[2, 1]] # accessing elements with indexes"
   ]
  },
  {
   "cell_type": "code",
   "execution_count": 51,
   "id": "e1d06a07",
   "metadata": {},
   "outputs": [
    {
     "data": {
      "text/plain": [
       "0    1\n",
       "1    2\n",
       "dtype: int64"
      ]
     },
     "execution_count": 51,
     "metadata": {},
     "output_type": "execute_result"
    }
   ],
   "source": [
    "s.iloc[0:2]"
   ]
  },
  {
   "cell_type": "code",
   "execution_count": 60,
   "id": "387c4cb6",
   "metadata": {},
   "outputs": [
    {
     "data": {
      "text/plain": [
       "3"
      ]
     },
     "execution_count": 60,
     "metadata": {},
     "output_type": "execute_result"
    }
   ],
   "source": [
    "s.iloc[2]"
   ]
  },
  {
   "cell_type": "code",
   "execution_count": 63,
   "id": "5d664405",
   "metadata": {},
   "outputs": [
    {
     "data": {
      "text/plain": [
       "2"
      ]
     },
     "execution_count": 63,
     "metadata": {},
     "output_type": "execute_result"
    }
   ],
   "source": [
    "s[1] # dict-like"
   ]
  },
  {
   "cell_type": "raw",
   "id": "33e77685",
   "metadata": {},
   "source": [
    "if we try to access non index then it raises error\n",
    "so to avoid we use .get(indexlabel) method"
   ]
  },
  {
   "cell_type": "code",
   "execution_count": 68,
   "id": "ac3753af",
   "metadata": {},
   "outputs": [
    {
     "ename": "KeyError",
     "evalue": "4",
     "output_type": "error",
     "traceback": [
      "\u001b[1;31m---------------------------------------------------------------------------\u001b[0m",
      "\u001b[1;31mValueError\u001b[0m                                Traceback (most recent call last)",
      "File \u001b[1;32m~\\AppData\\Local\\Programs\\Python\\Python311\\Lib\\site-packages\\pandas\\core\\indexes\\range.py:345\u001b[0m, in \u001b[0;36mRangeIndex.get_loc\u001b[1;34m(self, key)\u001b[0m\n\u001b[0;32m    344\u001b[0m \u001b[38;5;28;01mtry\u001b[39;00m:\n\u001b[1;32m--> 345\u001b[0m     \u001b[38;5;28;01mreturn\u001b[39;00m \u001b[38;5;28;43mself\u001b[39;49m\u001b[38;5;241;43m.\u001b[39;49m\u001b[43m_range\u001b[49m\u001b[38;5;241;43m.\u001b[39;49m\u001b[43mindex\u001b[49m\u001b[43m(\u001b[49m\u001b[43mnew_key\u001b[49m\u001b[43m)\u001b[49m\n\u001b[0;32m    346\u001b[0m \u001b[38;5;28;01mexcept\u001b[39;00m \u001b[38;5;167;01mValueError\u001b[39;00m \u001b[38;5;28;01mas\u001b[39;00m err:\n",
      "\u001b[1;31mValueError\u001b[0m: 4 is not in range",
      "\nThe above exception was the direct cause of the following exception:\n",
      "\u001b[1;31mKeyError\u001b[0m                                  Traceback (most recent call last)",
      "Cell \u001b[1;32mIn[68], line 1\u001b[0m\n\u001b[1;32m----> 1\u001b[0m \u001b[43ms\u001b[49m\u001b[43m[\u001b[49m\u001b[38;5;241;43m4\u001b[39;49m\u001b[43m]\u001b[49m\n",
      "File \u001b[1;32m~\\AppData\\Local\\Programs\\Python\\Python311\\Lib\\site-packages\\pandas\\core\\series.py:1007\u001b[0m, in \u001b[0;36mSeries.__getitem__\u001b[1;34m(self, key)\u001b[0m\n\u001b[0;32m   1004\u001b[0m     \u001b[38;5;28;01mreturn\u001b[39;00m \u001b[38;5;28mself\u001b[39m\u001b[38;5;241m.\u001b[39m_values[key]\n\u001b[0;32m   1006\u001b[0m \u001b[38;5;28;01melif\u001b[39;00m key_is_scalar:\n\u001b[1;32m-> 1007\u001b[0m     \u001b[38;5;28;01mreturn\u001b[39;00m \u001b[38;5;28;43mself\u001b[39;49m\u001b[38;5;241;43m.\u001b[39;49m\u001b[43m_get_value\u001b[49m\u001b[43m(\u001b[49m\u001b[43mkey\u001b[49m\u001b[43m)\u001b[49m\n\u001b[0;32m   1009\u001b[0m \u001b[38;5;28;01mif\u001b[39;00m is_hashable(key):\n\u001b[0;32m   1010\u001b[0m     \u001b[38;5;66;03m# Otherwise index.get_value will raise InvalidIndexError\u001b[39;00m\n\u001b[0;32m   1011\u001b[0m     \u001b[38;5;28;01mtry\u001b[39;00m:\n\u001b[0;32m   1012\u001b[0m         \u001b[38;5;66;03m# For labels that don't resolve as scalars like tuples and frozensets\u001b[39;00m\n",
      "File \u001b[1;32m~\\AppData\\Local\\Programs\\Python\\Python311\\Lib\\site-packages\\pandas\\core\\series.py:1116\u001b[0m, in \u001b[0;36mSeries._get_value\u001b[1;34m(self, label, takeable)\u001b[0m\n\u001b[0;32m   1113\u001b[0m     \u001b[38;5;28;01mreturn\u001b[39;00m \u001b[38;5;28mself\u001b[39m\u001b[38;5;241m.\u001b[39m_values[label]\n\u001b[0;32m   1115\u001b[0m \u001b[38;5;66;03m# Similar to Index.get_value, but we do not fall back to positional\u001b[39;00m\n\u001b[1;32m-> 1116\u001b[0m loc \u001b[38;5;241m=\u001b[39m \u001b[38;5;28;43mself\u001b[39;49m\u001b[38;5;241;43m.\u001b[39;49m\u001b[43mindex\u001b[49m\u001b[38;5;241;43m.\u001b[39;49m\u001b[43mget_loc\u001b[49m\u001b[43m(\u001b[49m\u001b[43mlabel\u001b[49m\u001b[43m)\u001b[49m\n\u001b[0;32m   1118\u001b[0m \u001b[38;5;28;01mif\u001b[39;00m is_integer(loc):\n\u001b[0;32m   1119\u001b[0m     \u001b[38;5;28;01mreturn\u001b[39;00m \u001b[38;5;28mself\u001b[39m\u001b[38;5;241m.\u001b[39m_values[loc]\n",
      "File \u001b[1;32m~\\AppData\\Local\\Programs\\Python\\Python311\\Lib\\site-packages\\pandas\\core\\indexes\\range.py:347\u001b[0m, in \u001b[0;36mRangeIndex.get_loc\u001b[1;34m(self, key)\u001b[0m\n\u001b[0;32m    345\u001b[0m         \u001b[38;5;28;01mreturn\u001b[39;00m \u001b[38;5;28mself\u001b[39m\u001b[38;5;241m.\u001b[39m_range\u001b[38;5;241m.\u001b[39mindex(new_key)\n\u001b[0;32m    346\u001b[0m     \u001b[38;5;28;01mexcept\u001b[39;00m \u001b[38;5;167;01mValueError\u001b[39;00m \u001b[38;5;28;01mas\u001b[39;00m err:\n\u001b[1;32m--> 347\u001b[0m         \u001b[38;5;28;01mraise\u001b[39;00m \u001b[38;5;167;01mKeyError\u001b[39;00m(key) \u001b[38;5;28;01mfrom\u001b[39;00m \u001b[38;5;21;01merr\u001b[39;00m\n\u001b[0;32m    348\u001b[0m \u001b[38;5;28;01mif\u001b[39;00m \u001b[38;5;28misinstance\u001b[39m(key, Hashable):\n\u001b[0;32m    349\u001b[0m     \u001b[38;5;28;01mraise\u001b[39;00m \u001b[38;5;167;01mKeyError\u001b[39;00m(key)\n",
      "\u001b[1;31mKeyError\u001b[0m: 4"
     ]
    }
   ],
   "source": [
    "s[4]"
   ]
  },
  {
   "cell_type": "code",
   "execution_count": 72,
   "id": "5dedc443",
   "metadata": {},
   "outputs": [
    {
     "data": {
      "text/plain": [
       "3"
      ]
     },
     "execution_count": 72,
     "metadata": {},
     "output_type": "execute_result"
    }
   ],
   "source": [
    "s.get(2)"
   ]
  },
  {
   "cell_type": "code",
   "execution_count": 73,
   "id": "e0bd5f66",
   "metadata": {},
   "outputs": [],
   "source": [
    "s.get(4) # won't raise error"
   ]
  },
  {
   "cell_type": "markdown",
   "id": "748a07b2",
   "metadata": {},
   "source": [
    "check if the given is in label or in indexes we use \"in\" operator "
   ]
  },
  {
   "cell_type": "code",
   "execution_count": 65,
   "id": "92434882",
   "metadata": {},
   "outputs": [
    {
     "data": {
      "text/plain": [
       "True"
      ]
     },
     "execution_count": 65,
     "metadata": {},
     "output_type": "execute_result"
    }
   ],
   "source": [
    "1 in s"
   ]
  },
  {
   "cell_type": "code",
   "execution_count": 67,
   "id": "82f8993f",
   "metadata": {},
   "outputs": [
    {
     "data": {
      "text/plain": [
       "False"
      ]
     },
     "execution_count": 67,
     "metadata": {},
     "output_type": "execute_result"
    }
   ],
   "source": [
    "4 in s"
   ]
  },
  {
   "cell_type": "markdown",
   "id": "e43cd6ad",
   "metadata": {},
   "source": [
    "### METHODS"
   ]
  },
  {
   "cell_type": "raw",
   "id": "45ff62ed",
   "metadata": {},
   "source": [
    "1. mean\n",
    "2. median\n",
    "3. max\n",
    "4. min\n",
    "5. to_numpy"
   ]
  },
  {
   "cell_type": "code",
   "execution_count": 55,
   "id": "7039fa60",
   "metadata": {},
   "outputs": [
    {
     "data": {
      "text/plain": [
       "2.5"
      ]
     },
     "execution_count": 55,
     "metadata": {},
     "output_type": "execute_result"
    }
   ],
   "source": [
    "s = pd.Series([1,2,3,4])\n",
    "s.mean()"
   ]
  },
  {
   "cell_type": "code",
   "execution_count": 56,
   "id": "f6ba0381",
   "metadata": {},
   "outputs": [
    {
     "data": {
      "text/plain": [
       "2.5"
      ]
     },
     "execution_count": 56,
     "metadata": {},
     "output_type": "execute_result"
    }
   ],
   "source": [
    "s.median()"
   ]
  },
  {
   "cell_type": "code",
   "execution_count": 57,
   "id": "a800f961",
   "metadata": {},
   "outputs": [
    {
     "data": {
      "text/plain": [
       "4"
      ]
     },
     "execution_count": 57,
     "metadata": {},
     "output_type": "execute_result"
    }
   ],
   "source": [
    "s.max()"
   ]
  },
  {
   "cell_type": "code",
   "execution_count": 58,
   "id": "c3e08e06",
   "metadata": {},
   "outputs": [
    {
     "data": {
      "text/plain": [
       "1"
      ]
     },
     "execution_count": 58,
     "metadata": {},
     "output_type": "execute_result"
    }
   ],
   "source": [
    "s.min()"
   ]
  },
  {
   "cell_type": "code",
   "execution_count": 59,
   "id": "5aa981dd",
   "metadata": {},
   "outputs": [
    {
     "data": {
      "text/plain": [
       "array([1, 2, 3, 4], dtype=int64)"
      ]
     },
     "execution_count": 59,
     "metadata": {},
     "output_type": "execute_result"
    }
   ],
   "source": [
    "s.to_numpy()"
   ]
  },
  {
   "cell_type": "markdown",
   "id": "9d287f87",
   "metadata": {},
   "source": [
    "### slecting row with condition"
   ]
  },
  {
   "cell_type": "code",
   "execution_count": 53,
   "id": "71fdaed5",
   "metadata": {},
   "outputs": [
    {
     "data": {
      "text/plain": [
       "2    3\n",
       "3    4\n",
       "dtype: int64"
      ]
     },
     "execution_count": 53,
     "metadata": {},
     "output_type": "execute_result"
    }
   ],
   "source": [
    "s[s > s.median()] # selecting rows with ele > median"
   ]
  },
  {
   "cell_type": "markdown",
   "id": "3522dce9",
   "metadata": {},
   "source": [
    "### attributes"
   ]
  },
  {
   "cell_type": "markdown",
   "id": "cb99cd1f",
   "metadata": {},
   "source": [
    "1. dtype"
   ]
  },
  {
   "cell_type": "code",
   "execution_count": 54,
   "id": "f0d52e06",
   "metadata": {},
   "outputs": [
    {
     "data": {
      "text/plain": [
       "dtype('int64')"
      ]
     },
     "execution_count": 54,
     "metadata": {},
     "output_type": "execute_result"
    }
   ],
   "source": [
    "s.dtype"
   ]
  },
  {
   "cell_type": "markdown",
   "id": "6a9ab4a7",
   "metadata": {},
   "source": [
    "### mathematical operations on series"
   ]
  },
  {
   "cell_type": "markdown",
   "id": "2ba40143",
   "metadata": {},
   "source": [
    "1. addition with constant\n",
    "2. addition with other series\n",
    "3. subtraction with constant\n",
    "4. subtratction with other series\n",
    "5. multiply with constant\n",
    "6. multiply with other series"
   ]
  },
  {
   "cell_type": "code",
   "execution_count": 76,
   "id": "fd9fafd2",
   "metadata": {},
   "outputs": [
    {
     "data": {
      "text/plain": [
       "0    2\n",
       "1    3\n",
       "2    4\n",
       "3    5\n",
       "dtype: int64"
      ]
     },
     "execution_count": 76,
     "metadata": {},
     "output_type": "execute_result"
    }
   ],
   "source": [
    "s+1 # adds 1 to all elements in series"
   ]
  },
  {
   "cell_type": "code",
   "execution_count": 78,
   "id": "ed1e0f55",
   "metadata": {},
   "outputs": [
    {
     "data": {
      "text/plain": [
       "0    2\n",
       "1    4\n",
       "2    6\n",
       "3    8\n",
       "dtype: int64"
      ]
     },
     "execution_count": 78,
     "metadata": {},
     "output_type": "execute_result"
    }
   ],
   "source": [
    "s+s # adds exactly equivalent sides so two series must be of same size"
   ]
  },
  {
   "cell_type": "code",
   "execution_count": 80,
   "id": "ec72feba",
   "metadata": {},
   "outputs": [
    {
     "data": {
      "text/plain": [
       "0    2.0\n",
       "1    4.0\n",
       "2    NaN\n",
       "3    NaN\n",
       "dtype: float64"
      ]
     },
     "execution_count": 80,
     "metadata": {},
     "output_type": "execute_result"
    }
   ],
   "source": [
    "s+pd.Series([1,2]) # as s and series created are of diffrent length so its showing nan after loest lentgh series "
   ]
  },
  {
   "cell_type": "code",
   "execution_count": 82,
   "id": "3dd2119c",
   "metadata": {},
   "outputs": [
    {
     "data": {
      "text/plain": [
       "0    0\n",
       "1    1\n",
       "2    2\n",
       "3    3\n",
       "dtype: int64"
      ]
     },
     "execution_count": 82,
     "metadata": {},
     "output_type": "execute_result"
    }
   ],
   "source": [
    "s-1 # subtract 1 with all elements of s"
   ]
  },
  {
   "cell_type": "code",
   "execution_count": 83,
   "id": "db3002f8",
   "metadata": {},
   "outputs": [
    {
     "data": {
      "text/plain": [
       "0    0\n",
       "1    0\n",
       "2    0\n",
       "3    0\n",
       "dtype: int64"
      ]
     },
     "execution_count": 83,
     "metadata": {},
     "output_type": "execute_result"
    }
   ],
   "source": [
    "s-s"
   ]
  },
  {
   "cell_type": "markdown",
   "id": "59a4a402",
   "metadata": {},
   "source": [
    " above all work same for both addition and division too"
   ]
  },
  {
   "cell_type": "markdown",
   "id": "4c8c6e7e",
   "metadata": {},
   "source": [
    "### NAME attribute of series"
   ]
  },
  {
   "cell_type": "raw",
   "id": "ddb848b3",
   "metadata": {},
   "source": [
    "series also has a name attribute\n",
    "The Series name can be assigned automatically in many cases, in particular, when selecting a single column from a DataFrame, the name will be assigned the column label."
   ]
  },
  {
   "cell_type": "code",
   "execution_count": 85,
   "id": "a153394c",
   "metadata": {},
   "outputs": [
    {
     "data": {
      "text/plain": [
       "0    1\n",
       "1    2\n",
       "2    3\n",
       "3    4\n",
       "Name: roll.no, dtype: int64"
      ]
     },
     "execution_count": 85,
     "metadata": {},
     "output_type": "execute_result"
    }
   ],
   "source": [
    "s1 = pd.Series([1,2,3,4],name=\"roll.no\")\n",
    "s1"
   ]
  }
 ],
 "metadata": {
  "kernelspec": {
   "display_name": "Python 3 (ipykernel)",
   "language": "python",
   "name": "python3"
  },
  "language_info": {
   "codemirror_mode": {
    "name": "ipython",
    "version": 3
   },
   "file_extension": ".py",
   "mimetype": "text/x-python",
   "name": "python",
   "nbconvert_exporter": "python",
   "pygments_lexer": "ipython3",
   "version": "3.11.1"
  }
 },
 "nbformat": 4,
 "nbformat_minor": 5
}
