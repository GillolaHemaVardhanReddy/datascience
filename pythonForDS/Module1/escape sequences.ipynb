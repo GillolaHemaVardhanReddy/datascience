{
 "cells": [
  {
   "cell_type": "code",
   "execution_count": 1,
   "id": "1db6a935",
   "metadata": {},
   "outputs": [
    {
     "name": "stdout",
     "output_type": "stream",
     "text": [
      "hello\n",
      "bro\n"
     ]
    }
   ],
   "source": [
    "# escape sequences are strings that are difficult to input\n",
    "# \\ are meant to proceed escape sequences\n",
    "print(\"hello\\nbro\")"
   ]
  },
  {
   "cell_type": "code",
   "execution_count": 5,
   "id": "abc87c72",
   "metadata": {},
   "outputs": [
    {
     "name": "stdout",
     "output_type": "stream",
     "text": [
      "hello \\ bro\n",
      "hellp \\ bro\n"
     ]
    }
   ],
   "source": [
    "print(\"hello \\\\ bro\") # to print \\ \n",
    "# or \n",
    "print(r\"hellp \\ bro\") # use r before input string"
   ]
  },
  {
   "cell_type": "code",
   "execution_count": null,
   "id": "9abf5a5e",
   "metadata": {},
   "outputs": [],
   "source": []
  }
 ],
 "metadata": {
  "kernelspec": {
   "display_name": "Python 3 (ipykernel)",
   "language": "python",
   "name": "python3"
  },
  "language_info": {
   "codemirror_mode": {
    "name": "ipython",
    "version": 3
   },
   "file_extension": ".py",
   "mimetype": "text/x-python",
   "name": "python",
   "nbconvert_exporter": "python",
   "pygments_lexer": "ipython3",
   "version": "3.11.1"
  }
 },
 "nbformat": 4,
 "nbformat_minor": 5
}
