{
 "cells": [
  {
   "cell_type": "code",
   "execution_count": 1,
   "id": "13bfe9cb",
   "metadata": {},
   "outputs": [
    {
     "data": {
      "text/plain": [
       "60"
      ]
     },
     "execution_count": 1,
     "metadata": {},
     "output_type": "execute_result"
    }
   ],
   "source": [
    "12+12+12+12+12 # addition"
   ]
  },
  {
   "cell_type": "code",
   "execution_count": 2,
   "id": "356995d8",
   "metadata": {},
   "outputs": [
    {
     "data": {
      "text/plain": [
       "60"
      ]
     },
     "execution_count": 2,
     "metadata": {},
     "output_type": "execute_result"
    }
   ],
   "source": [
    "12*5 # multiplication"
   ]
  },
  {
   "cell_type": "code",
   "execution_count": 3,
   "id": "c4e0a765",
   "metadata": {},
   "outputs": [
    {
     "data": {
      "text/plain": [
       "9"
      ]
     },
     "execution_count": 3,
     "metadata": {},
     "output_type": "execute_result"
    }
   ],
   "source": [
    "12-3 # subtraction"
   ]
  },
  {
   "cell_type": "code",
   "execution_count": 4,
   "id": "d009132a",
   "metadata": {},
   "outputs": [
    {
     "data": {
      "text/plain": [
       "-9"
      ]
     },
     "execution_count": 4,
     "metadata": {},
     "output_type": "execute_result"
    }
   ],
   "source": [
    "3-12"
   ]
  },
  {
   "cell_type": "code",
   "execution_count": 5,
   "id": "82c02c5f",
   "metadata": {},
   "outputs": [
    {
     "data": {
      "text/plain": [
       "6.0"
      ]
     },
     "execution_count": 5,
     "metadata": {},
     "output_type": "execute_result"
    }
   ],
   "source": [
    "12/2 # division"
   ]
  },
  {
   "cell_type": "code",
   "execution_count": 6,
   "id": "80ccef76",
   "metadata": {},
   "outputs": [
    {
     "data": {
      "text/plain": [
       "6"
      ]
     },
     "execution_count": 6,
     "metadata": {},
     "output_type": "execute_result"
    }
   ],
   "source": [
    "12//2 # foor division"
   ]
  },
  {
   "cell_type": "code",
   "execution_count": 7,
   "id": "947fa2ea",
   "metadata": {},
   "outputs": [
    {
     "data": {
      "text/plain": [
       "4"
      ]
     },
     "execution_count": 7,
     "metadata": {},
     "output_type": "execute_result"
    }
   ],
   "source": [
    "2**2 # power"
   ]
  },
  {
   "cell_type": "code",
   "execution_count": 8,
   "id": "84cdcc96",
   "metadata": {},
   "outputs": [],
   "source": [
    "x = 12 # variable"
   ]
  },
  {
   "cell_type": "code",
   "execution_count": 9,
   "id": "5c762703",
   "metadata": {},
   "outputs": [],
   "source": [
    "y = 2.3"
   ]
  },
  {
   "cell_type": "code",
   "execution_count": 10,
   "id": "c27e7772",
   "metadata": {},
   "outputs": [
    {
     "data": {
      "text/plain": [
       "5.217391304347826"
      ]
     },
     "execution_count": 10,
     "metadata": {},
     "output_type": "execute_result"
    }
   ],
   "source": [
    "x/y"
   ]
  },
  {
   "cell_type": "code",
   "execution_count": 13,
   "id": "ef757bcf",
   "metadata": {},
   "outputs": [
    {
     "data": {
      "text/plain": [
       "5.0"
      ]
     },
     "execution_count": 13,
     "metadata": {},
     "output_type": "execute_result"
    }
   ],
   "source": [
    "x//y # here even though doing floor division we won't get int because one of the is float"
   ]
  },
  {
   "cell_type": "code",
   "execution_count": null,
   "id": "16e47897",
   "metadata": {},
   "outputs": [],
   "source": []
  }
 ],
 "metadata": {
  "kernelspec": {
   "display_name": "Python 3 (ipykernel)",
   "language": "python",
   "name": "python3"
  },
  "language_info": {
   "codemirror_mode": {
    "name": "ipython",
    "version": 3
   },
   "file_extension": ".py",
   "mimetype": "text/x-python",
   "name": "python",
   "nbconvert_exporter": "python",
   "pygments_lexer": "ipython3",
   "version": "3.11.1"
  }
 },
 "nbformat": 4,
 "nbformat_minor": 5
}
