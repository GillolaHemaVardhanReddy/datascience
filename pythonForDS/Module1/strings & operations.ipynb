{
 "cells": [
  {
   "cell_type": "code",
   "execution_count": 1,
   "id": "9a228c58",
   "metadata": {},
   "outputs": [],
   "source": [
    "x = \"hello bro!\"\n",
    "# h  e  l  l    o  b  r  o  !\n",
    "# 0  1  2  3  4  5  6  7  8  9  indexes\n",
    "#-10 -9 -8 -7 -6 -5 -4 -3 -2 -1 neg indexes"
   ]
  },
  {
   "cell_type": "code",
   "execution_count": 2,
   "id": "549fff10",
   "metadata": {},
   "outputs": [
    {
     "data": {
      "text/plain": [
       "'he'"
      ]
     },
     "execution_count": 2,
     "metadata": {},
     "output_type": "execute_result"
    }
   ],
   "source": [
    "x[0:2] # slicing start from 0 end before 2 \"excluding 2\""
   ]
  },
  {
   "cell_type": "code",
   "execution_count": 4,
   "id": "02f5bf8f",
   "metadata": {},
   "outputs": [
    {
     "data": {
      "text/plain": [
       "'ro'"
      ]
     },
     "execution_count": 4,
     "metadata": {},
     "output_type": "execute_result"
    }
   ],
   "source": [
    "x[-3:-1]  # slicing start from -2 end -1 \"excluding -3\""
   ]
  },
  {
   "cell_type": "code",
   "execution_count": 5,
   "id": "20ef5ea2",
   "metadata": {},
   "outputs": [
    {
     "data": {
      "text/plain": [
       "'hlob'"
      ]
     },
     "execution_count": 5,
     "metadata": {},
     "output_type": "execute_result"
    }
   ],
   "source": [
    "x[0:8:2] # slicing start from 0 end before 8 with interval of 2 => 0 2 4 6"
   ]
  },
  {
   "cell_type": "code",
   "execution_count": 6,
   "id": "b7c87c01",
   "metadata": {},
   "outputs": [
    {
     "data": {
      "text/plain": [
       "'hlobo'"
      ]
     },
     "execution_count": 6,
     "metadata": {},
     "output_type": "execute_result"
    }
   ],
   "source": [
    "x[::2] # slicing start from 0 to end with interval of 2 => 0 2 4 6 8"
   ]
  },
  {
   "cell_type": "code",
   "execution_count": 7,
   "id": "1fd577b9",
   "metadata": {},
   "outputs": [
    {
     "data": {
      "text/plain": [
       "'hello bro!hello bro!'"
      ]
     },
     "execution_count": 7,
     "metadata": {},
     "output_type": "execute_result"
    }
   ],
   "source": [
    "# string multiplication\n",
    "x*2"
   ]
  },
  {
   "cell_type": "code",
   "execution_count": 8,
   "id": "51d54cdc",
   "metadata": {},
   "outputs": [],
   "source": [
    "\n",
    "\n",
    "# string methods\n",
    "\n",
    "\n",
    "# A --> stringMethod --> B here A is one string and B is diffrent"
   ]
  },
  {
   "cell_type": "code",
   "execution_count": 9,
   "id": "1faffe98",
   "metadata": {},
   "outputs": [],
   "source": [
    "\n",
    "x = \"hello sri How are You\""
   ]
  },
  {
   "cell_type": "code",
   "execution_count": 13,
   "id": "a07aa36f",
   "metadata": {},
   "outputs": [
    {
     "name": "stdout",
     "output_type": "stream",
     "text": [
      "HELLO SRI HOW ARE YOU\n"
     ]
    }
   ],
   "source": [
    "y = x.upper() # here y is other string which has all char in x as upper case\n",
    "print(y)"
   ]
  },
  {
   "cell_type": "code",
   "execution_count": 15,
   "id": "1a656682",
   "metadata": {},
   "outputs": [
    {
     "name": "stdout",
     "output_type": "stream",
     "text": [
      "hello jagan How are You\n"
     ]
    }
   ],
   "source": [
    "y = x.replace(\"sri\",\"jagan\") # here char that match sri will be replaced with jagan and returns new string\n",
    "print(y)"
   ]
  },
  {
   "cell_type": "code",
   "execution_count": 19,
   "id": "f38a4775",
   "metadata": {},
   "outputs": [
    {
     "data": {
      "text/plain": [
       "6"
      ]
     },
     "execution_count": 19,
     "metadata": {},
     "output_type": "execute_result"
    }
   ],
   "source": [
    "y.find(\"ja\") # here method returns the first index that matches string ja in y\n",
    "# if its not present then it returns -1"
   ]
  },
  {
   "cell_type": "code",
   "execution_count": 23,
   "id": "3de39280",
   "metadata": {},
   "outputs": [],
   "source": [
    "# \\d\tMatches any digit character (0-9)\t\"123\" matches \"\\d\\d\\d\"\n",
    "# \\D\tMatches any non-digit character\t\"hello\" matches \"\\D\\D\\D\\D\\D\"\n",
    "# \\w\tMatches any word character (a-z, A-Z, 0-9, and _)\t\"hello_world\" matches \"\\w\\w\\w\\w\\w\\w\\w\\w\\w\\w\\w\"\n",
    "# \\W\tMatches any non-word character\t\"@#$%\" matches \"\\W\\W\\W\\W\"\n",
    "# \\s\tMatches any whitespace character (space, tab, newline, etc.)\t\"hello world\" matches \"\\w\\w\\w\\w\\w\\s\\w\\w\\w\\w\\w\"\n",
    "# \\S\tMatches any non-whitespace character\t\"hello_world\" matches \"\\S\\S\\S\\S\\S\\S\\S\\S\\S\"\n",
    "# \\b\tMatches the boundary between a word character and a non-word character\t\"cat\" matches \"\\bcat\\b\" in \"The cat sat on the mat\"\n",
    "# \\B\tMatches any position that is not a word boundary\t\"cat\" matches \"\\Bcat\\B\" in \"category\" but not in \"The cat sat on the mat\""
   ]
  },
  {
   "cell_type": "code",
   "execution_count": 25,
   "id": "935399d2",
   "metadata": {},
   "outputs": [
    {
     "data": {
      "text/plain": [
       "['hema,raju,jagan']"
      ]
     },
     "execution_count": 25,
     "metadata": {},
     "output_type": "execute_result"
    }
   ],
   "source": [
    "x = \"hema,raju,jagan\"\n",
    "x.split()"
   ]
  },
  {
   "cell_type": "code",
   "execution_count": 29,
   "id": "0d7c183f",
   "metadata": {},
   "outputs": [
    {
     "name": "stdout",
     "output_type": "stream",
     "text": [
      "<re.Match object; span=(5, 8), match='raj'>\n"
     ]
    }
   ],
   "source": [
    "import re # this package is regex\n",
    "re.search(\"raj\",x)"
   ]
  },
  {
   "cell_type": "code",
   "execution_count": null,
   "id": "679ab8ed",
   "metadata": {},
   "outputs": [],
   "source": []
  }
 ],
 "metadata": {
  "kernelspec": {
   "display_name": "Python 3 (ipykernel)",
   "language": "python",
   "name": "python3"
  },
  "language_info": {
   "codemirror_mode": {
    "name": "ipython",
    "version": 3
   },
   "file_extension": ".py",
   "mimetype": "text/x-python",
   "name": "python",
   "nbconvert_exporter": "python",
   "pygments_lexer": "ipython3",
   "version": "3.11.1"
  }
 },
 "nbformat": 4,
 "nbformat_minor": 5
}
