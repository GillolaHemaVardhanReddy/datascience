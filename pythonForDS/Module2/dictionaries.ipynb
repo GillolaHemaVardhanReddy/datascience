{
 "cells": [
  {
   "cell_type": "code",
   "execution_count": 1,
   "id": "89f17037",
   "metadata": {},
   "outputs": [],
   "source": [
    "# dictionaries are a type of collections in python \n",
    "# it has keys and values \n",
    "# keys are known as indexes in lists but they are 0,1,2,3,....\n",
    "# but in dictionaries keys can be given any types \n",
    "# dictionaries are denoted using curly braces\n",
    "# keys have to be immutable and unique\n",
    "# values can be mutable , immutable and duplicates \n",
    "# each key and value is separated using : colon\n",
    "# each keyValue pair is separated using comma \",\"\n",
    "dic = {\"hitler\": 1923,\"niclaus\": 1543, 1981:\"latha\"}"
   ]
  },
  {
   "cell_type": "code",
   "execution_count": 2,
   "id": "83a8daf9",
   "metadata": {},
   "outputs": [
    {
     "data": {
      "text/plain": [
       "{'hitler': 1923, 'niclaus': 1543, 1981: 'latha'}"
      ]
     },
     "execution_count": 2,
     "metadata": {},
     "output_type": "execute_result"
    }
   ],
   "source": [
    "dic"
   ]
  },
  {
   "cell_type": "code",
   "execution_count": 5,
   "id": "709500e4",
   "metadata": {},
   "outputs": [
    {
     "data": {
      "text/plain": [
       "1923"
      ]
     },
     "execution_count": 5,
     "metadata": {},
     "output_type": "execute_result"
    }
   ],
   "source": [
    "dic[\"hitler\"]"
   ]
  },
  {
   "cell_type": "code",
   "execution_count": 8,
   "id": "2efd4e1f",
   "metadata": {},
   "outputs": [
    {
     "data": {
      "text/plain": [
       "{'hitler': 1923, 'niclaus': 1543, 1981: 'latha', 'hema': 2002}"
      ]
     },
     "execution_count": 8,
     "metadata": {},
     "output_type": "execute_result"
    }
   ],
   "source": [
    "# adding new key value pair \n",
    "dic[\"hema\"] = 2002\n",
    "dic"
   ]
  },
  {
   "cell_type": "code",
   "execution_count": 9,
   "id": "b3779358",
   "metadata": {},
   "outputs": [
    {
     "data": {
      "text/plain": [
       "{'hitler': 1923, 'niclaus': 1543, 1981: 'latha'}"
      ]
     },
     "execution_count": 9,
     "metadata": {},
     "output_type": "execute_result"
    }
   ],
   "source": [
    "# delete a key value pair \n",
    "del(dic[\"hema\"])\n",
    "dic"
   ]
  },
  {
   "cell_type": "code",
   "execution_count": 12,
   "id": "bee229ba",
   "metadata": {},
   "outputs": [
    {
     "data": {
      "text/plain": [
       "True"
      ]
     },
     "execution_count": 12,
     "metadata": {},
     "output_type": "execute_result"
    }
   ],
   "source": [
    "# check if an ele is present in keys of dic\n",
    "\"hitler\" in dic"
   ]
  },
  {
   "cell_type": "code",
   "execution_count": 13,
   "id": "0dcac390",
   "metadata": {},
   "outputs": [
    {
     "data": {
      "text/plain": [
       "dict_keys(['hitler', 'niclaus', 1981])"
      ]
     },
     "execution_count": 13,
     "metadata": {},
     "output_type": "execute_result"
    }
   ],
   "source": [
    "# to get all keys\n",
    "dic.keys()"
   ]
  },
  {
   "cell_type": "code",
   "execution_count": 14,
   "id": "6cd223b1",
   "metadata": {},
   "outputs": [
    {
     "data": {
      "text/plain": [
       "dict_values([1923, 1543, 'latha'])"
      ]
     },
     "execution_count": 14,
     "metadata": {},
     "output_type": "execute_result"
    }
   ],
   "source": [
    "# to get all values\n",
    "dic.values()"
   ]
  },
  {
   "cell_type": "code",
   "execution_count": null,
   "id": "3e97b766",
   "metadata": {},
   "outputs": [],
   "source": []
  }
 ],
 "metadata": {
  "kernelspec": {
   "display_name": "Python 3 (ipykernel)",
   "language": "python",
   "name": "python3"
  },
  "language_info": {
   "codemirror_mode": {
    "name": "ipython",
    "version": 3
   },
   "file_extension": ".py",
   "mimetype": "text/x-python",
   "name": "python",
   "nbconvert_exporter": "python",
   "pygments_lexer": "ipython3",
   "version": "3.11.1"
  }
 },
 "nbformat": 4,
 "nbformat_minor": 5
}
