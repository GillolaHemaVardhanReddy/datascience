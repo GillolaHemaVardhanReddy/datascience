{
 "cells": [
  {
   "cell_type": "code",
   "execution_count": 5,
   "id": "a1ad1192",
   "metadata": {},
   "outputs": [],
   "source": [
    "# tuples are immutable\n",
    "# tuples are an ordered sequences which means indexes will be recorded \n",
    "# here is a tuple Ratings\n",
    "# tuples are written as comma-separated elements within paranthesis ()\n",
    "x = (\"hello\",2,3,4)"
   ]
  },
  {
   "cell_type": "code",
   "execution_count": 8,
   "id": "8bff4e69",
   "metadata": {},
   "outputs": [
    {
     "data": {
      "text/plain": [
       "4"
      ]
     },
     "execution_count": 8,
     "metadata": {},
     "output_type": "execute_result"
    }
   ],
   "source": [
    "x[-1]"
   ]
  },
  {
   "cell_type": "code",
   "execution_count": 9,
   "id": "5c81296c",
   "metadata": {},
   "outputs": [
    {
     "data": {
      "text/plain": [
       "'hello'"
      ]
     },
     "execution_count": 9,
     "metadata": {},
     "output_type": "execute_result"
    }
   ],
   "source": [
    "x[0]"
   ]
  },
  {
   "cell_type": "code",
   "execution_count": 10,
   "id": "1e6f81d2",
   "metadata": {},
   "outputs": [],
   "source": [
    "# slicings are same as strings"
   ]
  },
  {
   "cell_type": "code",
   "execution_count": 11,
   "id": "9a9b5f91",
   "metadata": {},
   "outputs": [
    {
     "data": {
      "text/plain": [
       "4"
      ]
     },
     "execution_count": 11,
     "metadata": {},
     "output_type": "execute_result"
    }
   ],
   "source": [
    "len(x) # find length"
   ]
  },
  {
   "cell_type": "code",
   "execution_count": 14,
   "id": "0a32aeda",
   "metadata": {},
   "outputs": [],
   "source": [
    "x1 = x # here tuples x1 and x have both same reference \n",
    "# here no new tuple is created both x1 and x points to same tuple"
   ]
  },
  {
   "cell_type": "code",
   "execution_count": 15,
   "id": "fbbe9d15",
   "metadata": {},
   "outputs": [
    {
     "data": {
      "text/plain": [
       "('hello', 2, 3, 4)"
      ]
     },
     "execution_count": 15,
     "metadata": {},
     "output_type": "execute_result"
    }
   ],
   "source": [
    "x1"
   ]
  },
  {
   "cell_type": "code",
   "execution_count": 17,
   "id": "0f56c3d4",
   "metadata": {},
   "outputs": [
    {
     "ename": "TypeError",
     "evalue": "'<' not supported between instances of 'int' and 'str'",
     "output_type": "error",
     "traceback": [
      "\u001b[1;31m---------------------------------------------------------------------------\u001b[0m",
      "\u001b[1;31mTypeError\u001b[0m                                 Traceback (most recent call last)",
      "Cell \u001b[1;32mIn[17], line 1\u001b[0m\n\u001b[1;32m----> 1\u001b[0m y \u001b[38;5;241m=\u001b[39m \u001b[38;5;28;43msorted\u001b[39;49m\u001b[43m(\u001b[49m\u001b[43mx\u001b[49m\u001b[43m)\u001b[49m\n",
      "\u001b[1;31mTypeError\u001b[0m: '<' not supported between instances of 'int' and 'str'"
     ]
    }
   ],
   "source": [
    "sorted(x)"
   ]
  },
  {
   "cell_type": "code",
   "execution_count": 18,
   "id": "2791db93",
   "metadata": {},
   "outputs": [
    {
     "data": {
      "text/plain": [
       "[0, 1, 3, 8, 12]"
      ]
     },
     "execution_count": 18,
     "metadata": {},
     "output_type": "execute_result"
    }
   ],
   "source": [
    "x = (1,8,0,12,3)\n",
    "sorted(x)"
   ]
  },
  {
   "cell_type": "code",
   "execution_count": 19,
   "id": "b1c42169",
   "metadata": {},
   "outputs": [],
   "source": [
    "x = (1,8,0,(\"hell\",\"Age\",\"insta\"),(5,9,0,(\"hate\",\"mate\")))"
   ]
  },
  {
   "cell_type": "code",
   "execution_count": 20,
   "id": "13f0ebc1",
   "metadata": {},
   "outputs": [
    {
     "data": {
      "text/plain": [
       "('hell', 'Age', 'insta')"
      ]
     },
     "execution_count": 20,
     "metadata": {},
     "output_type": "execute_result"
    }
   ],
   "source": [
    "x[3]"
   ]
  },
  {
   "cell_type": "code",
   "execution_count": 21,
   "id": "dc84c2ef",
   "metadata": {},
   "outputs": [
    {
     "data": {
      "text/plain": [
       "'Age'"
      ]
     },
     "execution_count": 21,
     "metadata": {},
     "output_type": "execute_result"
    }
   ],
   "source": [
    "x[3][1]"
   ]
  },
  {
   "cell_type": "code",
   "execution_count": 22,
   "id": "22ab90df",
   "metadata": {},
   "outputs": [
    {
     "data": {
      "text/plain": [
       "(5, 9, 0, ('hate', 'mate'))"
      ]
     },
     "execution_count": 22,
     "metadata": {},
     "output_type": "execute_result"
    }
   ],
   "source": [
    "x[4]"
   ]
  },
  {
   "cell_type": "code",
   "execution_count": 23,
   "id": "f5fbe243",
   "metadata": {},
   "outputs": [
    {
     "data": {
      "text/plain": [
       "('hate', 'mate')"
      ]
     },
     "execution_count": 23,
     "metadata": {},
     "output_type": "execute_result"
    }
   ],
   "source": [
    "x[4][3]"
   ]
  },
  {
   "cell_type": "code",
   "execution_count": 24,
   "id": "6827a799",
   "metadata": {},
   "outputs": [
    {
     "data": {
      "text/plain": [
       "'mate'"
      ]
     },
     "execution_count": 24,
     "metadata": {},
     "output_type": "execute_result"
    }
   ],
   "source": [
    "x[4][3][1]"
   ]
  },
  {
   "cell_type": "code",
   "execution_count": 26,
   "id": "05d650ec",
   "metadata": {},
   "outputs": [],
   "source": [
    "# lists are ordered sequences which means indexes will be recorded \n",
    "# A list is represented with square brackets\n",
    "# list is mutable\n",
    "L = [1,2,\"hello\",[3,5,[7,0]]]"
   ]
  },
  {
   "cell_type": "code",
   "execution_count": 30,
   "id": "cebed75f",
   "metadata": {},
   "outputs": [
    {
     "data": {
      "text/plain": [
       "1"
      ]
     },
     "execution_count": 30,
     "metadata": {},
     "output_type": "execute_result"
    }
   ],
   "source": [
    "L[0]"
   ]
  },
  {
   "cell_type": "code",
   "execution_count": 31,
   "id": "1b709147",
   "metadata": {},
   "outputs": [
    {
     "data": {
      "text/plain": [
       "[3, 5, [7, 0]]"
      ]
     },
     "execution_count": 31,
     "metadata": {},
     "output_type": "execute_result"
    }
   ],
   "source": [
    "L[3]"
   ]
  },
  {
   "cell_type": "code",
   "execution_count": 32,
   "id": "70aca4d0",
   "metadata": {},
   "outputs": [
    {
     "data": {
      "text/plain": [
       "[7, 0]"
      ]
     },
     "execution_count": 32,
     "metadata": {},
     "output_type": "execute_result"
    }
   ],
   "source": [
    "L[3][2]"
   ]
  },
  {
   "cell_type": "code",
   "execution_count": 33,
   "id": "aec299f1",
   "metadata": {},
   "outputs": [
    {
     "data": {
      "text/plain": [
       "0"
      ]
     },
     "execution_count": 33,
     "metadata": {},
     "output_type": "execute_result"
    }
   ],
   "source": [
    "L[3][2][1]"
   ]
  },
  {
   "cell_type": "code",
   "execution_count": 34,
   "id": "926d6b26",
   "metadata": {},
   "outputs": [],
   "source": [
    "L1 = [44,55]"
   ]
  },
  {
   "cell_type": "code",
   "execution_count": 35,
   "id": "1c5f30f7",
   "metadata": {},
   "outputs": [],
   "source": [
    "L = L+L1"
   ]
  },
  {
   "cell_type": "code",
   "execution_count": 36,
   "id": "620339d7",
   "metadata": {},
   "outputs": [
    {
     "data": {
      "text/plain": [
       "[1, 2, 'hello', [3, 5, [7, 0]], 44, 55]"
      ]
     },
     "execution_count": 36,
     "metadata": {},
     "output_type": "execute_result"
    }
   ],
   "source": [
    "L"
   ]
  },
  {
   "cell_type": "code",
   "execution_count": 39,
   "id": "bbbd2392",
   "metadata": {},
   "outputs": [],
   "source": [
    "L.append(22)\n",
    "L"
   ]
  },
  {
   "cell_type": "code",
   "execution_count": 41,
   "id": "910fd9ba",
   "metadata": {},
   "outputs": [
    {
     "data": {
      "text/plain": [
       "[1, 2, 'hello', [3, 5, [7, 0], 33, 33], 44, 55, 22, 22]"
      ]
     },
     "execution_count": 41,
     "metadata": {},
     "output_type": "execute_result"
    }
   ],
   "source": [
    "L[3].append(33)\n",
    "# or \n",
    "# L.extend([33])\n",
    "L"
   ]
  },
  {
   "cell_type": "code",
   "execution_count": 43,
   "id": "70ea683d",
   "metadata": {},
   "outputs": [
    {
     "data": {
      "text/plain": [
       "[1, 2, 'hello', 55, 22, 22]"
      ]
     },
     "execution_count": 43,
     "metadata": {},
     "output_type": "execute_result"
    }
   ],
   "source": [
    "del(L[3]) # delete a specific element\n",
    "L"
   ]
  },
  {
   "cell_type": "code",
   "execution_count": 46,
   "id": "fb19d98a",
   "metadata": {},
   "outputs": [
    {
     "data": {
      "text/plain": [
       "['hello', 'man']"
      ]
     },
     "execution_count": 46,
     "metadata": {},
     "output_type": "execute_result"
    }
   ],
   "source": [
    "# convert string to List\n",
    "m = \"hello man\"\n",
    "m.split(\" \") # \" \" is a delimiter"
   ]
  },
  {
   "cell_type": "code",
   "execution_count": 48,
   "id": "86a5e67b",
   "metadata": {},
   "outputs": [
    {
     "data": {
      "text/plain": [
       "[1, 2, 'hello', 55, 22, 22]"
      ]
     },
     "execution_count": 48,
     "metadata": {},
     "output_type": "execute_result"
    }
   ],
   "source": [
    "L1 = L \n",
    "L1\n",
    "# here also L1 and L points/references to same List "
   ]
  },
  {
   "cell_type": "code",
   "execution_count": null,
   "id": "58455332",
   "metadata": {},
   "outputs": [],
   "source": []
  }
 ],
 "metadata": {
  "kernelspec": {
   "display_name": "Python 3 (ipykernel)",
   "language": "python",
   "name": "python3"
  },
  "language_info": {
   "codemirror_mode": {
    "name": "ipython",
    "version": 3
   },
   "file_extension": ".py",
   "mimetype": "text/x-python",
   "name": "python",
   "nbconvert_exporter": "python",
   "pygments_lexer": "ipython3",
   "version": "3.11.1"
  }
 },
 "nbformat": 4,
 "nbformat_minor": 5
}
