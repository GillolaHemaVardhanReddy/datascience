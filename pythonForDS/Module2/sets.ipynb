{
 "cells": [
  {
   "cell_type": "code",
   "execution_count": 1,
   "id": "04ce4204",
   "metadata": {},
   "outputs": [],
   "source": [
    "# sets are type of collections\n",
    "# can have diffrent data types in it\n",
    "# they are unordered which means they don't record indexes \n",
    "# sets only have unique elements\n",
    "# sets are defined using curly brackets\n",
    "s = {1,2,2,\"hello\"} # here we have duplicate but duplicates will be eliminated"
   ]
  },
  {
   "cell_type": "code",
   "execution_count": 2,
   "id": "300a3478",
   "metadata": {},
   "outputs": [
    {
     "data": {
      "text/plain": [
       "{1, 2, 'hello'}"
      ]
     },
     "execution_count": 2,
     "metadata": {},
     "output_type": "execute_result"
    }
   ],
   "source": [
    "s "
   ]
  },
  {
   "cell_type": "code",
   "execution_count": 3,
   "id": "9a1a3cda",
   "metadata": {},
   "outputs": [
    {
     "data": {
      "text/plain": [
       "{1, 2, 3, 4}"
      ]
     },
     "execution_count": 3,
     "metadata": {},
     "output_type": "execute_result"
    }
   ],
   "source": [
    "# converting list to set \n",
    "# while converting duplicate elements in list will be eleminated\n",
    "L = [1,2,3,3,4,4]\n",
    "set(L)"
   ]
  },
  {
   "cell_type": "code",
   "execution_count": 13,
   "id": "347c13c5",
   "metadata": {},
   "outputs": [],
   "source": [
    "# set operations\n",
    "x = {1,2,2,3,\"hello\"}"
   ]
  },
  {
   "cell_type": "code",
   "execution_count": 14,
   "id": "b0192212",
   "metadata": {},
   "outputs": [
    {
     "data": {
      "text/plain": [
       "{1, 2, 3, 8, 'hello'}"
      ]
     },
     "execution_count": 14,
     "metadata": {},
     "output_type": "execute_result"
    }
   ],
   "source": [
    "x.add(8)\n",
    "x"
   ]
  },
  {
   "cell_type": "code",
   "execution_count": 15,
   "id": "c1c11c15",
   "metadata": {},
   "outputs": [
    {
     "data": {
      "text/plain": [
       "{1, 3, 8, 'hello'}"
      ]
     },
     "execution_count": 15,
     "metadata": {},
     "output_type": "execute_result"
    }
   ],
   "source": [
    "x.remove(2)\n",
    "x"
   ]
  },
  {
   "cell_type": "code",
   "execution_count": 16,
   "id": "7998ec58",
   "metadata": {},
   "outputs": [
    {
     "data": {
      "text/plain": [
       "True"
      ]
     },
     "execution_count": 16,
     "metadata": {},
     "output_type": "execute_result"
    }
   ],
   "source": [
    "\"hello\" in x # used to check if a ele is present in set \"in\""
   ]
  },
  {
   "cell_type": "code",
   "execution_count": 17,
   "id": "b85fd854",
   "metadata": {},
   "outputs": [],
   "source": [
    "# mathematical operations\n",
    "x = {1,2,2,3,4,5}\n",
    "y = {2,4,6,7,8}"
   ]
  },
  {
   "cell_type": "code",
   "execution_count": 22,
   "id": "597917b0",
   "metadata": {},
   "outputs": [
    {
     "data": {
      "text/plain": [
       "{2, 4}"
      ]
     },
     "execution_count": 22,
     "metadata": {},
     "output_type": "execute_result"
    }
   ],
   "source": [
    "# intersection\n",
    "z = x & y\n",
    "# or x.intersection(y)\n",
    "z"
   ]
  },
  {
   "cell_type": "code",
   "execution_count": 25,
   "id": "76aaabf9",
   "metadata": {},
   "outputs": [
    {
     "data": {
      "text/plain": [
       "{1, 2, 3, 4, 5, 6, 7, 8}"
      ]
     },
     "execution_count": 25,
     "metadata": {},
     "output_type": "execute_result"
    }
   ],
   "source": [
    "# union \n",
    "z = x | y\n",
    "# or x.union(y)\n",
    "z"
   ]
  },
  {
   "cell_type": "code",
   "execution_count": 28,
   "id": "3c66ed22",
   "metadata": {},
   "outputs": [
    {
     "data": {
      "text/plain": [
       "False"
      ]
     },
     "execution_count": 28,
     "metadata": {},
     "output_type": "execute_result"
    }
   ],
   "source": [
    "# check if its subset\n",
    "y in x\n",
    "# or x.issubset(y)"
   ]
  },
  {
   "cell_type": "code",
   "execution_count": null,
   "id": "fd76b913",
   "metadata": {},
   "outputs": [],
   "source": []
  }
 ],
 "metadata": {
  "kernelspec": {
   "display_name": "Python 3 (ipykernel)",
   "language": "python",
   "name": "python3"
  },
  "language_info": {
   "codemirror_mode": {
    "name": "ipython",
    "version": 3
   },
   "file_extension": ".py",
   "mimetype": "text/x-python",
   "name": "python",
   "nbconvert_exporter": "python",
   "pygments_lexer": "ipython3",
   "version": "3.11.1"
  }
 },
 "nbformat": 4,
 "nbformat_minor": 5
}
