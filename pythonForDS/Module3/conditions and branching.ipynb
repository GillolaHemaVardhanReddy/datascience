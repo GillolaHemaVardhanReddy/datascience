{
 "cells": [
  {
   "cell_type": "code",
   "execution_count": 1,
   "id": "d498da16",
   "metadata": {},
   "outputs": [
    {
     "data": {
      "text/plain": [
       "True"
      ]
     },
     "execution_count": 1,
     "metadata": {},
     "output_type": "execute_result"
    }
   ],
   "source": [
    "# comparing\n",
    "a = 6\n",
    "a == 6"
   ]
  },
  {
   "cell_type": "code",
   "execution_count": 2,
   "id": "b382a117",
   "metadata": {},
   "outputs": [
    {
     "data": {
      "text/plain": [
       "False"
      ]
     },
     "execution_count": 2,
     "metadata": {},
     "output_type": "execute_result"
    }
   ],
   "source": [
    "a>7"
   ]
  },
  {
   "cell_type": "code",
   "execution_count": 3,
   "id": "050d7362",
   "metadata": {},
   "outputs": [
    {
     "data": {
      "text/plain": [
       "True"
      ]
     },
     "execution_count": 3,
     "metadata": {},
     "output_type": "execute_result"
    }
   ],
   "source": [
    "a<7"
   ]
  },
  {
   "cell_type": "code",
   "execution_count": 4,
   "id": "d9386626",
   "metadata": {},
   "outputs": [
    {
     "data": {
      "text/plain": [
       "True"
      ]
     },
     "execution_count": 4,
     "metadata": {},
     "output_type": "execute_result"
    }
   ],
   "source": [
    "a>=6"
   ]
  },
  {
   "cell_type": "code",
   "execution_count": 5,
   "id": "3f033d23",
   "metadata": {},
   "outputs": [
    {
     "data": {
      "text/plain": [
       "True"
      ]
     },
     "execution_count": 5,
     "metadata": {},
     "output_type": "execute_result"
    }
   ],
   "source": [
    "a<=7"
   ]
  },
  {
   "cell_type": "code",
   "execution_count": 6,
   "id": "ebd25286",
   "metadata": {},
   "outputs": [],
   "source": [
    "# comparing strings\n",
    "b = \"hello\"\n",
    "c = \"aim\""
   ]
  },
  {
   "cell_type": "code",
   "execution_count": 7,
   "id": "0b74a592",
   "metadata": {},
   "outputs": [
    {
     "data": {
      "text/plain": [
       "True"
      ]
     },
     "execution_count": 7,
     "metadata": {},
     "output_type": "execute_result"
    }
   ],
   "source": [
    "b>c"
   ]
  },
  {
   "cell_type": "code",
   "execution_count": 8,
   "id": "147abdce",
   "metadata": {},
   "outputs": [
    {
     "data": {
      "text/plain": [
       "False"
      ]
     },
     "execution_count": 8,
     "metadata": {},
     "output_type": "execute_result"
    }
   ],
   "source": [
    "b<c"
   ]
  },
  {
   "cell_type": "code",
   "execution_count": 9,
   "id": "5541d4b6",
   "metadata": {},
   "outputs": [
    {
     "data": {
      "text/plain": [
       "False"
      ]
     },
     "execution_count": 9,
     "metadata": {},
     "output_type": "execute_result"
    }
   ],
   "source": [
    "b==c"
   ]
  },
  {
   "cell_type": "code",
   "execution_count": 10,
   "id": "57728bda",
   "metadata": {},
   "outputs": [
    {
     "data": {
      "text/plain": [
       "True"
      ]
     },
     "execution_count": 10,
     "metadata": {},
     "output_type": "execute_result"
    }
   ],
   "source": [
    "b>=c"
   ]
  },
  {
   "cell_type": "code",
   "execution_count": 11,
   "id": "e3788b2e",
   "metadata": {},
   "outputs": [
    {
     "data": {
      "text/plain": [
       "False"
      ]
     },
     "execution_count": 11,
     "metadata": {},
     "output_type": "execute_result"
    }
   ],
   "source": [
    "b<=c"
   ]
  },
  {
   "cell_type": "code",
   "execution_count": 12,
   "id": "d15fea96",
   "metadata": {},
   "outputs": [],
   "source": [
    "# in the if statement if its true then predefined operations will be executed else else block statements will be executed\n",
    "age = 10"
   ]
  },
  {
   "cell_type": "code",
   "execution_count": 13,
   "id": "3f079af2",
   "metadata": {},
   "outputs": [
    {
     "name": "stdout",
     "output_type": "stream",
     "text": [
      "child not valid entry\n"
     ]
    }
   ],
   "source": [
    "if(age>19):\n",
    "    print(\"entry valid adult\")\n",
    "elif(age>16):\n",
    "    print(\"entry valid teen\")\n",
    "else:\n",
    "    print(\"child not valid entry\")"
   ]
  },
  {
   "cell_type": "code",
   "execution_count": null,
   "id": "977242a7",
   "metadata": {},
   "outputs": [],
   "source": [
    "#logical OR\n"
   ]
  }
 ],
 "metadata": {
  "kernelspec": {
   "display_name": "Python 3 (ipykernel)",
   "language": "python",
   "name": "python3"
  },
  "language_info": {
   "codemirror_mode": {
    "name": "ipython",
    "version": 3
   },
   "file_extension": ".py",
   "mimetype": "text/x-python",
   "name": "python",
   "nbconvert_exporter": "python",
   "pygments_lexer": "ipython3",
   "version": "3.11.1"
  }
 },
 "nbformat": 4,
 "nbformat_minor": 5
}
