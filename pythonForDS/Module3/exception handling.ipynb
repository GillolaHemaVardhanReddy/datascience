{
 "cells": [
  {
   "cell_type": "code",
   "execution_count": 1,
   "id": "7571a7ae",
   "metadata": {},
   "outputs": [],
   "source": [
    "# An exception is an error that occurs during the execution of code. \n",
    "# This error causes the code to raise an exception and if not prepared to handle it will halt the execution of the code."
   ]
  },
  {
   "cell_type": "code",
   "execution_count": 2,
   "id": "6bf02ecf",
   "metadata": {},
   "outputs": [],
   "source": [
    "# 1/0 raises an error\n",
    "a = [1,2,3]\n",
    "# accessing a[10] raises error"
   ]
  },
  {
   "cell_type": "code",
   "execution_count": 3,
   "id": "8342e75e",
   "metadata": {},
   "outputs": [],
   "source": [
    "# TRY EXCEPT blocks\n",
    "# A try except will allow you to execute code that might raise an exception and in the case of any exception or a \n",
    "# specific one we can handle or catch the exception and execute specific code\n",
    "# This will allow us to continue the execution of our program even if there is an exception.\n"
   ]
  },
  {
   "cell_type": "code",
   "execution_count": 6,
   "id": "6d3ab69b",
   "metadata": {},
   "outputs": [
    {
     "ename": "IndentationError",
     "evalue": "expected an indented block after 'try' statement on line 5 (2235360309.py, line 7)",
     "output_type": "error",
     "traceback": [
      "\u001b[1;36m  Cell \u001b[1;32mIn[6], line 7\u001b[1;36m\u001b[0m\n\u001b[1;33m    except:\u001b[0m\n\u001b[1;37m    ^\u001b[0m\n\u001b[1;31mIndentationError\u001b[0m\u001b[1;31m:\u001b[0m expected an indented block after 'try' statement on line 5\n"
     ]
    }
   ],
   "source": [
    "# Python tries to execute the code in the try block\n",
    "# In this case if there is any exception raised by the code in the try block, \n",
    "# it will be caught and the code block in the except block will be executed.\n",
    "# After that, the code that comes after the try except will be executed.\n",
    "try:\n",
    "    # code to try to execute\n",
    "except:\n",
    "    # code to execute if there is an exception"
   ]
  },
  {
   "cell_type": "code",
   "execution_count": 7,
   "id": "0fd24f8d",
   "metadata": {},
   "outputs": [
    {
     "ename": "IndentationError",
     "evalue": "expected an indented block after 'try' statement on line 4 (3351647960.py, line 6)",
     "output_type": "error",
     "traceback": [
      "\u001b[1;36m  Cell \u001b[1;32mIn[7], line 6\u001b[1;36m\u001b[0m\n\u001b[1;33m    except (ZeroDivisionError, NameError):\u001b[0m\n\u001b[1;37m    ^\u001b[0m\n\u001b[1;31mIndentationError\u001b[0m\u001b[1;31m:\u001b[0m expected an indented block after 'try' statement on line 4\n"
     ]
    }
   ],
   "source": [
    "# Try Except Specific error catching:\n",
    "# A specific try except allows you to catch certain exceptions and also execute certain code depending on the exception. \n",
    "# This is useful if you do not want to deal with some exceptions and the execution should halt.\n",
    "try:\n",
    "    # code to try to execute\n",
    "except (ZeroDivisionError, NameError):\n",
    "    # code to execute if there is an exception of the given types"
   ]
  },
  {
   "cell_type": "code",
   "execution_count": 8,
   "id": "4ebe71d8",
   "metadata": {},
   "outputs": [
    {
     "ename": "IndentationError",
     "evalue": "expected an indented block after 'try' statement on line 2 (1598515675.py, line 4)",
     "output_type": "error",
     "traceback": [
      "\u001b[1;36m  Cell \u001b[1;32mIn[8], line 4\u001b[1;36m\u001b[0m\n\u001b[1;33m    except ZeroDivisionError:\u001b[0m\n\u001b[1;37m    ^\u001b[0m\n\u001b[1;31mIndentationError\u001b[0m\u001b[1;31m:\u001b[0m expected an indented block after 'try' statement on line 2\n"
     ]
    }
   ],
   "source": [
    "# other way to catch errors multiple excepts\n",
    "try:\n",
    "    # code to try to execute\n",
    "except ZeroDivisionError:\n",
    "    # code to execute if there is a ZeroDivisionError\n",
    "except NameError:\n",
    "    # code to execute if there is a NameError\n",
    "except :\n",
    "    # You can also have an empty except at the end to catch an unexpected exception:"
   ]
  },
  {
   "cell_type": "code",
   "execution_count": 9,
   "id": "e6682fda",
   "metadata": {},
   "outputs": [
    {
     "ename": "IndentationError",
     "evalue": "expected an indented block after 'try' statement on line 4 (997074651.py, line 6)",
     "output_type": "error",
     "traceback": [
      "\u001b[1;36m  Cell \u001b[1;32mIn[9], line 6\u001b[1;36m\u001b[0m\n\u001b[1;33m    except ZeroDivisionError:\u001b[0m\n\u001b[1;37m    ^\u001b[0m\n\u001b[1;31mIndentationError\u001b[0m\u001b[1;31m:\u001b[0m expected an indented block after 'try' statement on line 4\n"
     ]
    }
   ],
   "source": [
    "# Try Except Else \n",
    "# else allows one to check if there was no exception when executing the try block. \n",
    "# This is useful when we want to execute something only if there were no errors.\n",
    "try:\n",
    "    # code to try to execute\n",
    "except ZeroDivisionError:\n",
    "    # code to execute if there is a ZeroDivisionError\n",
    "except NameError:\n",
    "    # code to execute if there is a NameError\n",
    "except:\n",
    "    # code to execute if ther is any exception\n",
    "else:\n",
    "    # code to execute if there is no exception"
   ]
  },
  {
   "cell_type": "code",
   "execution_count": null,
   "id": "1fda8d5f",
   "metadata": {},
   "outputs": [],
   "source": [
    "# finally \n",
    "# finally allows us to always execute something even if there is an exception or not. \n",
    "# This is usually used to signify the end of the try except.\n",
    "try:\n",
    "    # code to try to execute\n",
    "except ZeroDivisionError:\n",
    "    # code to execute if there is a ZeroDivisionError\n",
    "except NameError:\n",
    "    # code to execute if there is a NameError\n",
    "except:\n",
    "    # code to execute if ther is any exception\n",
    "else:\n",
    "    # code to execute if there is no exception\n",
    "finally:\n",
    "    # code to execute at the end of the try except no matter what"
   ]
  }
 ],
 "metadata": {
  "kernelspec": {
   "display_name": "Python 3 (ipykernel)",
   "language": "python",
   "name": "python3"
  },
  "language_info": {
   "codemirror_mode": {
    "name": "ipython",
    "version": 3
   },
   "file_extension": ".py",
   "mimetype": "text/x-python",
   "name": "python",
   "nbconvert_exporter": "python",
   "pygments_lexer": "ipython3",
   "version": "3.11.1"
  }
 },
 "nbformat": 4,
 "nbformat_minor": 5
}
