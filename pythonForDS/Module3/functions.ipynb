{
 "cells": [
  {
   "cell_type": "code",
   "execution_count": 1,
   "id": "b51897c0",
   "metadata": {},
   "outputs": [],
   "source": [
    "# functions are a piece of code which can be reused \n",
    "# it takes an input and returns another value as output"
   ]
  },
  {
   "cell_type": "code",
   "execution_count": 6,
   "id": "e4647a28",
   "metadata": {},
   "outputs": [
    {
     "data": {
      "text/plain": [
       "4"
      ]
     },
     "execution_count": 6,
     "metadata": {},
     "output_type": "execute_result"
    }
   ],
   "source": [
    "# built in function \n",
    "x = [12,3,0,1]\n",
    "len(x) # len is a builtin function"
   ]
  },
  {
   "cell_type": "code",
   "execution_count": 7,
   "id": "44f39188",
   "metadata": {},
   "outputs": [
    {
     "data": {
      "text/plain": [
       "16"
      ]
     },
     "execution_count": 7,
     "metadata": {},
     "output_type": "execute_result"
    }
   ],
   "source": [
    "sum(x) # sum is builtin fxn"
   ]
  },
  {
   "cell_type": "code",
   "execution_count": 11,
   "id": "d4fbf21c",
   "metadata": {},
   "outputs": [
    {
     "data": {
      "text/plain": [
       "[0, 1, 3, 12]"
      ]
     },
     "execution_count": 11,
     "metadata": {},
     "output_type": "execute_result"
    }
   ],
   "source": [
    "# sorted is used because new list is generated instead of disturbing original list\n",
    "# sort function disturbs original list itself\n",
    "x.sort()\n",
    "x"
   ]
  },
  {
   "cell_type": "code",
   "execution_count": 16,
   "id": "02919301",
   "metadata": {},
   "outputs": [
    {
     "data": {
      "text/plain": [
       "5"
      ]
     },
     "execution_count": 16,
     "metadata": {},
     "output_type": "execute_result"
    }
   ],
   "source": [
    "# defining function \n",
    "def add(x):\n",
    "    y = type(x)\n",
    "    sum = 0\n",
    "    if( y == list):\n",
    "        for i in x :\n",
    "            sum+=i\n",
    "    return sum\n",
    "add([5])"
   ]
  },
  {
   "cell_type": "code",
   "execution_count": 21,
   "id": "abc63197",
   "metadata": {},
   "outputs": [
    {
     "name": "stdout",
     "output_type": "stream",
     "text": [
      "Help on function add in module __main__:\n",
      "\n",
      "add(x)\n",
      "    designed for list explicitly\n",
      "\n"
     ]
    }
   ],
   "source": [
    "# documentaion in function\n",
    "# defining function \n",
    "def add(x):\n",
    "    # documentation section\n",
    "    '''\n",
    "        designed for list explicitly \n",
    "    '''\n",
    "    # statements section\n",
    "    y = type(x)\n",
    "    sum = 0\n",
    "    if( y == list):\n",
    "        for i in x :\n",
    "            sum+=i\n",
    "    return sum\n",
    "help(add) # help returns the first string declared in the function"
   ]
  },
  {
   "cell_type": "code",
   "execution_count": 23,
   "id": "9cf1834f",
   "metadata": {},
   "outputs": [
    {
     "name": "stdout",
     "output_type": "stream",
     "text": [
      "None\n"
     ]
    }
   ],
   "source": [
    "# declare function with no body we use \"pass\"\n",
    "def sample():\n",
    "    pass\n",
    "print(sample())"
   ]
  },
  {
   "cell_type": "code",
   "execution_count": 26,
   "id": "96fd22cb",
   "metadata": {},
   "outputs": [
    {
     "name": "stdout",
     "output_type": "stream",
     "text": [
      "12\n"
     ]
    }
   ],
   "source": [
    "# small thing that i dont know and shuold note\n",
    "def hell():\n",
    "    print(age) # if theres no local variable age it prints global variable age\n",
    "hell()\n",
    "age = 12 "
   ]
  },
  {
   "cell_type": "code",
   "execution_count": null,
   "id": "8e27e250",
   "metadata": {},
   "outputs": [],
   "source": []
  }
 ],
 "metadata": {
  "kernelspec": {
   "display_name": "Python 3 (ipykernel)",
   "language": "python",
   "name": "python3"
  },
  "language_info": {
   "codemirror_mode": {
    "name": "ipython",
    "version": 3
   },
   "file_extension": ".py",
   "mimetype": "text/x-python",
   "name": "python",
   "nbconvert_exporter": "python",
   "pygments_lexer": "ipython3",
   "version": "3.11.1"
  }
 },
 "nbformat": 4,
 "nbformat_minor": 5
}
