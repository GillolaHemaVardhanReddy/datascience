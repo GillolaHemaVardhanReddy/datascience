{
 "cells": [
  {
   "cell_type": "code",
   "execution_count": 1,
   "id": "1cbe6824",
   "metadata": {},
   "outputs": [],
   "source": [
    "# every object in python has \n",
    "# 1. a Type \n",
    "# 2. an internal data representation (a blueprint)\n",
    "# 3. a set of procedures for interacting with the objects (methods)\n",
    "# when ever we create list/int here we are creating an object of instance list/int\n",
    "# check type of object using type command"
   ]
  },
  {
   "cell_type": "code",
   "execution_count": 2,
   "id": "b91b3a3a",
   "metadata": {},
   "outputs": [],
   "source": [
    "# methods\n",
    "# when ever we use functions on lists/tuples like them we are interacting with data using its objects methods"
   ]
  },
  {
   "cell_type": "code",
   "execution_count": 3,
   "id": "c6c790b3",
   "metadata": {},
   "outputs": [],
   "source": [
    "# we create a class and then we create instances/objects\n",
    "# eg: list is a class we create objects/instances when we create lists"
   ]
  },
  {
   "cell_type": "code",
   "execution_count": 13,
   "id": "32c08ea8",
   "metadata": {},
   "outputs": [],
   "source": [
    "# defining a class\n",
    "class Circle(object): # this is how we define the class\n",
    "    # here object is parent class we are inheriting from it\n",
    "    '''\n",
    "        This is called inheritance, and it allows the new class (called the derived or child class) \n",
    "        to inherit attributes and methods from the parent class (also known as the base class).\n",
    "    '''\n",
    "    def __init__(self,radius,color): # this is a constructor\n",
    "        self.radius = radius\n",
    "        self.color = color\n",
    "# constructor is a special function named _init_ used for initializing attributes \n",
    "# self acts as this --> referes newly created instance of the class"
   ]
  },
  {
   "cell_type": "code",
   "execution_count": 14,
   "id": "7adcf042",
   "metadata": {},
   "outputs": [],
   "source": [
    "# creating an object/instance of class circle\n",
    "redcircle = Circle(12,\"red\")"
   ]
  },
  {
   "cell_type": "code",
   "execution_count": 21,
   "id": "0c05ad07",
   "metadata": {},
   "outputs": [
    {
     "data": {
      "text/plain": [
       "'red'"
      ]
     },
     "execution_count": 21,
     "metadata": {},
     "output_type": "execute_result"
    }
   ],
   "source": [
    "# accessing data from object/instance redcircle\n",
    "redcircle.color"
   ]
  },
  {
   "cell_type": "code",
   "execution_count": 16,
   "id": "bc3a6110",
   "metadata": {},
   "outputs": [],
   "source": [
    "# changing instance data values directly\n",
    "redcircle.radius = 24"
   ]
  },
  {
   "cell_type": "code",
   "execution_count": 19,
   "id": "bc0cfd4c",
   "metadata": {},
   "outputs": [
    {
     "data": {
      "text/plain": [
       "24"
      ]
     },
     "execution_count": 19,
     "metadata": {},
     "output_type": "execute_result"
    }
   ],
   "source": [
    "redcircle.radius"
   ]
  },
  {
   "cell_type": "code",
   "execution_count": 27,
   "id": "1ab003e0",
   "metadata": {},
   "outputs": [],
   "source": [
    "# methods in class\n",
    "# methods are functions that interact with data inside instance of the class\n",
    "# *** a method always has 1st attribute as self ***\n",
    "class Circle(object):\n",
    "    def __init__(self,radius,color): # this is a constructor\n",
    "        self.radius = radius\n",
    "        self.color = color\n",
    "    def area(self):\n",
    "        r = self.radius\n",
    "        return 3.14*r*r;"
   ]
  },
  {
   "cell_type": "code",
   "execution_count": 30,
   "id": "705df3fd",
   "metadata": {},
   "outputs": [
    {
     "data": {
      "text/plain": [
       "12.56"
      ]
     },
     "execution_count": 30,
     "metadata": {},
     "output_type": "execute_result"
    }
   ],
   "source": [
    "x = Circle(2,\"blue\")\n",
    "x.area() # when calling function no need to worry abour self"
   ]
  },
  {
   "cell_type": "code",
   "execution_count": 31,
   "id": "7e5d5ba3",
   "metadata": {},
   "outputs": [
    {
     "data": {
      "text/plain": [
       "['__class__',\n",
       " '__delattr__',\n",
       " '__dict__',\n",
       " '__dir__',\n",
       " '__doc__',\n",
       " '__eq__',\n",
       " '__format__',\n",
       " '__ge__',\n",
       " '__getattribute__',\n",
       " '__getstate__',\n",
       " '__gt__',\n",
       " '__hash__',\n",
       " '__init__',\n",
       " '__init_subclass__',\n",
       " '__le__',\n",
       " '__lt__',\n",
       " '__module__',\n",
       " '__ne__',\n",
       " '__new__',\n",
       " '__reduce__',\n",
       " '__reduce_ex__',\n",
       " '__repr__',\n",
       " '__setattr__',\n",
       " '__sizeof__',\n",
       " '__str__',\n",
       " '__subclasshook__',\n",
       " '__weakref__',\n",
       " 'area']"
      ]
     },
     "execution_count": 31,
     "metadata": {},
     "output_type": "execute_result"
    }
   ],
   "source": [
    "# to get attributes and methods in a class we use dir\n",
    "dir(Circle)"
   ]
  },
  {
   "cell_type": "code",
   "execution_count": null,
   "id": "a32e7339",
   "metadata": {},
   "outputs": [],
   "source": []
  }
 ],
 "metadata": {
  "kernelspec": {
   "display_name": "Python 3 (ipykernel)",
   "language": "python",
   "name": "python3"
  },
  "language_info": {
   "codemirror_mode": {
    "name": "ipython",
    "version": 3
   },
   "file_extension": ".py",
   "mimetype": "text/x-python",
   "name": "python",
   "nbconvert_exporter": "python",
   "pygments_lexer": "ipython3",
   "version": "3.11.1"
  }
 },
 "nbformat": 4,
 "nbformat_minor": 5
}
