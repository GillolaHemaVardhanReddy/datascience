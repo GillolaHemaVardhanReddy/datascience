{
 "cells": [
  {
   "cell_type": "code",
   "execution_count": null,
   "id": "b05a767b",
   "metadata": {},
   "outputs": [],
   "source": [
    "# It's fairly inefficient to open the file in a or w and then reopen it in r to read any lines. \n",
    "# Luckily we can access the file in the following modes:\n",
    "\n",
    "r : Read only\n",
    "w : write only\n",
    "a : append only\n",
    "r+ : Reading and writing. Cannot truncate the file.\n",
    "w+ : Writing and reading. Truncates the file.\n",
    "a+ : Appending and Reading. Creates a new file, if none exists. You dont have to dwell on the specifics of each mode for this lab"
   ]
  }
 ],
 "metadata": {
  "kernelspec": {
   "display_name": "Python 3 (ipykernel)",
   "language": "python",
   "name": "python3"
  },
  "language_info": {
   "codemirror_mode": {
    "name": "ipython",
    "version": 3
   },
   "file_extension": ".py",
   "mimetype": "text/x-python",
   "name": "python",
   "nbconvert_exporter": "python",
   "pygments_lexer": "ipython3",
   "version": "3.11.1"
  }
 },
 "nbformat": 4,
 "nbformat_minor": 5
}
