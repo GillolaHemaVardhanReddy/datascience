{
 "cells": [
  {
   "cell_type": "code",
   "execution_count": 8,
   "id": "7324efe6",
   "metadata": {},
   "outputs": [
    {
     "name": "stdout",
     "output_type": "stream",
     "text": [
      "\n"
     ]
    }
   ],
   "source": [
    "e1 = \"example1.txt\"\n",
    "with open(e1,\"w+\") as f1:\n",
    "    f1.write(\"hello world\")\n",
    "    print(f1.read())"
   ]
  },
  {
   "cell_type": "code",
   "execution_count": 9,
   "id": "3b1ac1ee",
   "metadata": {},
   "outputs": [],
   "source": [
    "# There were no errors but read() also did not output anything. This is because of our location in the file.\n",
    "# PROBLEM IS :\n",
    "    # in w+ :\n",
    "        # in w cursor directly points begining it writes new text and deletes all other and goes to an end and \n",
    "        # if we then try to read it wont give us any output\n",
    "        # so before reading we need to change cursor position\n",
    "    # to know cursor position we use .tell()\n",
    "    # in a+ :\n",
    "        # # in a cursor directly points at end and it appends new text and goes to an end and \n",
    "        # if we then try to read it wont give us any output\n",
    "        # so before reading we need to change cursor position"
   ]
  },
  {
   "cell_type": "code",
   "execution_count": 10,
   "id": "01ffd82a",
   "metadata": {},
   "outputs": [],
   "source": [
    "# .tell() - returns the current position in bytes\n",
    "# .seek(offset,from) - changes the position by 'offset' bytes with respect to 'from'. \n",
    "     # From can take the value of 0,1,2 corresponding to the beginning, relative to current position and end"
   ]
  },
  {
   "cell_type": "code",
   "execution_count": 22,
   "id": "0c23b543",
   "metadata": {},
   "outputs": [
    {
     "name": "stdout",
     "output_type": "stream",
     "text": [
      "initial position is:  82\n",
      "example line 1\n",
      "example line 2\n",
      "example line 3\n",
      "Please help me\n",
      "\n",
      "Please help me\n",
      "\n"
     ]
    }
   ],
   "source": [
    "e2 = \"example2.txt\"\n",
    "with open(e2,\"a+\") as f2:\n",
    "    print(\"initial position is: \",f2.tell())\n",
    "    f2.seek(0,0) # move cursor from begining to 0 bytes\n",
    "    print(f2.read())"
   ]
  },
  {
   "cell_type": "code",
   "execution_count": 24,
   "id": "52d0de14",
   "metadata": {},
   "outputs": [
    {
     "name": "stdout",
     "output_type": "stream",
     "text": [
      "initial position is:  0\n",
      "example liI am aloneple line 2\n",
      "example line 3\n",
      "Please help me\n",
      "\n",
      "Please help me\n",
      "I am alone\n"
     ]
    }
   ],
   "source": [
    "with open(e2,\"r+\") as f2:\n",
    "    print(\"initial position is: \",f2.tell())\n",
    "    f2.seek(10,0) # move cursor from begining to 0 bytes\n",
    "    f2.write(\"I am alone\") # writes from 10th byte from begining\n",
    "    f2.seek(0,0)\n",
    "    print(f2.read())"
   ]
  },
  {
   "cell_type": "code",
   "execution_count": 25,
   "id": "e248641c",
   "metadata": {},
   "outputs": [
    {
     "data": {
      "text/plain": [
       "['hello', 'man', 'how']"
      ]
     },
     "execution_count": 25,
     "metadata": {},
     "output_type": "execute_result"
    }
   ],
   "source": [
    "x = \"hello       man   how\"\n",
    "x.split()"
   ]
  },
  {
   "cell_type": "code",
   "execution_count": null,
   "id": "d3aa79bc",
   "metadata": {},
   "outputs": [],
   "source": []
  }
 ],
 "metadata": {
  "kernelspec": {
   "display_name": "Python 3 (ipykernel)",
   "language": "python",
   "name": "python3"
  },
  "language_info": {
   "codemirror_mode": {
    "name": "ipython",
    "version": 3
   },
   "file_extension": ".py",
   "mimetype": "text/x-python",
   "name": "python",
   "nbconvert_exporter": "python",
   "pygments_lexer": "ipython3",
   "version": "3.11.1"
  }
 },
 "nbformat": 4,
 "nbformat_minor": 5
}
