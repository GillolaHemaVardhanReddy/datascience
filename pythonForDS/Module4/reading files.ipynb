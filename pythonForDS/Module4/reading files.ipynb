{
 "cells": [
  {
   "cell_type": "code",
   "execution_count": 21,
   "id": "71e88897",
   "metadata": {},
   "outputs": [
    {
     "name": "stdout",
     "output_type": "stream",
     "text": [
      "name:  C:/Users/bittu/Desktop/datascience/Introduction/module1/DS_topics.txt\n",
      "mode: r\n"
     ]
    }
   ],
   "source": [
    "# read files using python builtin function \"open\"\n",
    "# syntax\n",
    "# variable = open(\"filePath/fileName\",\"read,write modes\")\n",
    "file1 = open(\"C:/Users/bittu/Desktop/datascience/Introduction/module1/DS_topics.txt\",\"r\")\n",
    "# to get name of the file we use .name\n",
    "print(\"name: \", file1.name) # variable.name    \n",
    "# to see what mode the object is in using .mode\n",
    "print(\"mode:\" , file1.mode)# variable.mode\n",
    "# always close the file after using with .close() method\n",
    "#file1.close() # variable.close()"
   ]
  },
  {
   "cell_type": "code",
   "execution_count": 19,
   "id": "fa2da8eb",
   "metadata": {},
   "outputs": [
    {
     "name": "stdout",
     "output_type": "stream",
     "text": [
      "topics :\n",
      "1. data visualization (used to communicate results with people who dont understand data)\n",
      "2. regression (helps as basic bridgre for understanding data)\n",
      "3. neural networks \n",
      "STRUCTURED DATA is more like tabular data which is represented using rows and columns \n",
      "UNSTRUCTURED DATA is mostly comming from web where its not tabular its text/video/audio/image\n",
      "we usually take a lot of time and work to make UNSTRUCTURED data into STRUCTURED data \n",
      "then work on analysing\n"
     ]
    }
   ],
   "source": [
    "# instead of directly storing file in some variable and closing it at end of use we sometimes forget\n",
    "# so we use \"with\" --> with automatically closes the file at the end :\n",
    "with open(\"C:/Users/bittu/Desktop/datascience/Introduction/module1/DS_topics.txt\",\"r\") as file1 :\n",
    "    file_stuff = file1.read()\n",
    "    print(file_stuff)"
   ]
  },
  {
   "cell_type": "code",
   "execution_count": 22,
   "id": "824da2ee",
   "metadata": {},
   "outputs": [
    {
     "data": {
      "text/plain": [
       "False"
      ]
     },
     "execution_count": 22,
     "metadata": {},
     "output_type": "execute_result"
    }
   ],
   "source": [
    "# to check if the file is closed use .closed it give bool\n",
    "file1.closed"
   ]
  },
  {
   "cell_type": "code",
   "execution_count": 23,
   "id": "53771418",
   "metadata": {},
   "outputs": [
    {
     "data": {
      "text/plain": [
       "'topics :\\n'"
      ]
     },
     "execution_count": 23,
     "metadata": {},
     "output_type": "execute_result"
    }
   ],
   "source": [
    "# to read nth line of the file use .readline()\n",
    "# 1st time we call readline() gives first line in file\n",
    "# 2nd time we call readline() gives secound line in file\n",
    "# nth time we call readline() gives nth line in file\n",
    "file1.readline()"
   ]
  },
  {
   "cell_type": "code",
   "execution_count": 24,
   "id": "647205f9",
   "metadata": {},
   "outputs": [
    {
     "data": {
      "text/plain": [
       "'1. d'"
      ]
     },
     "execution_count": 24,
     "metadata": {},
     "output_type": "execute_result"
    }
   ],
   "source": [
    "# inorder to get only certain no.of charecters we specify num in readlines(n) --> n is no.of charecters to retrive from line\n",
    "file1.readline(4) # as we called 2nd time it returns 2nd line and 4 charecters of it"
   ]
  },
  {
   "cell_type": "code",
   "execution_count": 25,
   "id": "3e8f9eb0",
   "metadata": {},
   "outputs": [
    {
     "data": {
      "text/plain": [
       "'ata v'"
      ]
     },
     "execution_count": 25,
     "metadata": {},
     "output_type": "execute_result"
    }
   ],
   "source": [
    "# when dealing with no.of charecters when theres left over charecters then next time we call readlines(n) it gives next charecters\n",
    "# but not next line charecters\n",
    "file1.readline(5)"
   ]
  },
  {
   "cell_type": "code",
   "execution_count": 26,
   "id": "f757dc44",
   "metadata": {},
   "outputs": [],
   "source": [
    "file1.close()"
   ]
  },
  {
   "cell_type": "code",
   "execution_count": 28,
   "id": "fae5da4b",
   "metadata": {},
   "outputs": [
    {
     "data": {
      "text/plain": [
       "('Example1.txt', <http.client.HTTPMessage at 0x269fe5be910>)"
      ]
     },
     "execution_count": 28,
     "metadata": {},
     "output_type": "execute_result"
    }
   ],
   "source": [
    "# download data\n",
    "import urllib.request\n",
    "url = 'https://cf-courses-data.s3.us.cloud-object-storage.appdomain.cloud/IBMDeveloperSkillsNetwork-PY0101EN-SkillsNetwork/labs/Module%204/data/example1.txt'\n",
    "filename = 'Example1.txt' # it creates a new file with this name\n",
    "urllib.request.urlretrieve(url, filename) # it copies url data to our new file"
   ]
  },
  {
   "cell_type": "code",
   "execution_count": 43,
   "id": "4082750f",
   "metadata": {},
   "outputs": [],
   "source": [
    "# The mode argument is optional and the default value is r. In this notebook we only cover two modes:\n",
    "\n",
    "# **r**: Read mode for reading files\n",
    "# **w**: Write mode for writing files"
   ]
  },
  {
   "cell_type": "code",
   "execution_count": 46,
   "id": "5cd27f11",
   "metadata": {},
   "outputs": [
    {
     "name": "stdout",
     "output_type": "stream",
     "text": [
      "Iteration 0 :  This is line 1 \n",
      "\n",
      "Iteration 1 :  This is line 2\n",
      "\n",
      "Iteration 2 :  This is line 3\n"
     ]
    }
   ],
   "source": [
    "# Iterate through the lines\n",
    "example1 = \"example1.txt\"\n",
    "with open(example1,\"r\") as file1:\n",
    "        i = 0;\n",
    "        for line in file1:\n",
    "            print(\"Iteration\", str(i), \": \", line)\n",
    "            i = i + 1"
   ]
  },
  {
   "cell_type": "code",
   "execution_count": 52,
   "id": "31d91a06",
   "metadata": {},
   "outputs": [
    {
     "data": {
      "text/plain": [
       "['This is line 1 \\n', 'This is line 2\\n', 'This is line 3']"
      ]
     },
     "execution_count": 52,
     "metadata": {},
     "output_type": "execute_result"
    }
   ],
   "source": [
    "# Read all lines and save as a list\n",
    "\n",
    "with open(example1, \"r\") as file1:\n",
    "    FileList = file1.readlines()\n",
    "FileList"
   ]
  }
 ],
 "metadata": {
  "kernelspec": {
   "display_name": "Python 3 (ipykernel)",
   "language": "python",
   "name": "python3"
  },
  "language_info": {
   "codemirror_mode": {
    "name": "ipython",
    "version": 3
   },
   "file_extension": ".py",
   "mimetype": "text/x-python",
   "name": "python",
   "nbconvert_exporter": "python",
   "pygments_lexer": "ipython3",
   "version": "3.11.1"
  }
 },
 "nbformat": 4,
 "nbformat_minor": 5
}
