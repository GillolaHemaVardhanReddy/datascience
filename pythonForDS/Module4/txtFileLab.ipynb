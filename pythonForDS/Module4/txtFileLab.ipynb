{
 "cells": [
  {
   "cell_type": "code",
   "execution_count": 28,
   "id": "f4fa1d8f",
   "metadata": {},
   "outputs": [],
   "source": [
    "from random import randint as rnd\n",
    "\n",
    "memReg = 'members.txt'\n",
    "exReg = 'inactive.txt'\n",
    "fee =('yes','no')\n",
    "\n",
    "def genFiles(current,old):\n",
    "    with open(current,'w+') as writefile: \n",
    "        writefile.write('Membership No  Date Joined  Active  \\n')\n",
    "        data = \"{:^13}  {:<11}  {:<6}\\n\"\n",
    "\n",
    "        for rowno in range(20):\n",
    "            date = str(rnd(2015,2020))+ '-' + str(rnd(1,12))+'-'+str(rnd(1,25))\n",
    "            writefile.write(data.format(rnd(10000,99999),date,fee[rnd(0,1)]))\n",
    "\n",
    "\n",
    "    with open(old,'w+') as writefile:\n",
    "        writefile.write('Membership No  Date Joined  Active  \\n')\n",
    "        data = \"{:^13}  {:<11}  {:<6}\\n\"\n",
    "        for rowno in range(3):\n",
    "            date = str(rnd(2015,2020))+ '-' + str(rnd(1,12))+'-'+str(rnd(1,25))\n",
    "            writefile.write(data.format(rnd(10000,99999),date,fee[1]))\n",
    "\n",
    "\n",
    "genFiles(memReg,exReg)\n"
   ]
  },
  {
   "cell_type": "code",
   "execution_count": 29,
   "id": "91227df1",
   "metadata": {},
   "outputs": [
    {
     "name": "stdout",
     "output_type": "stream",
     "text": [
      "['Membership No  Date Joined  Active  \\n', '    59546      2015-7-3     yes   \\n', '    40268      2017-11-18   yes   \\n', '    30942      2016-10-19   yes   \\n', '    93457      2020-1-12    yes   \\n', '    27118      2017-6-23    yes   \\n', '    69984      2020-8-13    yes   \\n', '    17483      2016-1-13    yes   \\n', '    93457      2020-1-12    yes   \\n', '    79046      2016-5-17    no    \\n', '    27118      2017-6-23    yes   \\n', '    26777      2018-4-25    no    \\n', '    69984      2020-8-13    yes   \\n', '    71647      2020-8-18    no    \\n', '    49074      2017-9-17    no    \\n', '    61748      2016-9-7     no    \\n', '    62540      2015-9-24    no    \\n', '    52801      2019-8-19    no    \\n', '    15018      2020-12-17   no    \\n', '    85949      2017-7-21    no    \\n', '    17483      2016-1-13    yes   \\n']\n",
      "['Membership No  Date Joined  Active  \\n', '    35870      2016-11-25   no    \\n', '    72401      2019-11-15   no    \\n', '    26686      2017-4-13    no    \\n', '    56728      2015-1-13    no    \\n', '    96997      2017-1-9     no    \\n', '    53047      2015-12-16   no    \\n', '    54857      2015-3-19    no    \\n', '    79046      2016-5-17    no    \\n', '    26777      2018-4-25    no    \\n', '    71647      2020-8-18    no    \\n', '    49074      2017-9-17    no    \\n', '    61748      2016-9-7     no    \\n', '    62540      2015-9-24    no    \\n', '    52801      2019-8-19    no    \\n', '    15018      2020-12-17   no    \\n', '    85949      2017-7-21    no    \\n']\n"
     ]
    }
   ],
   "source": [
    "def filterMembership(curr,old):\n",
    "    with open(curr,\"r+\") as f1:\n",
    "        with open(old,\"a+\") as f2:\n",
    "            f1.seek(0,0)\n",
    "            members = f1.readlines()\n",
    "            header = members[0]\n",
    "            members.pop(0)\n",
    "            \n",
    "            inactive = [member for member in members if('no' in member)]\n",
    "            \n",
    "            f1.seek(0)\n",
    "            f1.write(header)\n",
    "            for member in members:\n",
    "                if(member in inactive):\n",
    "                    f2.write(member)\n",
    "                else:\n",
    "                    f1.write(member)\n",
    "            f1.seek(0)\n",
    "            f2.seek(0)\n",
    "            print(f1.readlines())\n",
    "            print(f2.readlines())\n",
    "filterMembership(memReg,exReg)"
   ]
  },
  {
   "cell_type": "code",
   "execution_count": null,
   "id": "1069e3c9",
   "metadata": {},
   "outputs": [],
   "source": []
  }
 ],
 "metadata": {
  "kernelspec": {
   "display_name": "Python 3 (ipykernel)",
   "language": "python",
   "name": "python3"
  },
  "language_info": {
   "codemirror_mode": {
    "name": "ipython",
    "version": 3
   },
   "file_extension": ".py",
   "mimetype": "text/x-python",
   "name": "python",
   "nbconvert_exporter": "python",
   "pygments_lexer": "ipython3",
   "version": "3.11.1"
  }
 },
 "nbformat": 4,
 "nbformat_minor": 5
}
