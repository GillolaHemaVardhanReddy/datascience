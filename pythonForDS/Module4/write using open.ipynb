{
 "cells": [
  {
   "cell_type": "code",
   "execution_count": 19,
   "id": "4ec2b8be",
   "metadata": {},
   "outputs": [
    {
     "data": {
      "text/plain": [
       "'example line 1\\nexample line 2\\nexample line 3'"
      ]
     },
     "execution_count": 19,
     "metadata": {},
     "output_type": "execute_result"
    }
   ],
   "source": [
    "# we read a file using open and then store it in some file object\n",
    "e1 = \"example1.txt\"\n",
    "with open(e1,\"r\") as f1:\n",
    "    fileContent = f1.read()\n",
    "fileContent"
   ]
  },
  {
   "cell_type": "code",
   "execution_count": 24,
   "id": "c0f6b87c",
   "metadata": {},
   "outputs": [],
   "source": [
    "# we can write to that file object using .write()\n",
    "e2 = \"example2.txt\"\n",
    "with open(e2,\"w\") as f1:\n",
    "    f1.write(\"example 2 line 1\\n\")\n",
    "    f1.write(\"example 2 line 2\")"
   ]
  },
  {
   "cell_type": "code",
   "execution_count": 26,
   "id": "8d9360f1",
   "metadata": {},
   "outputs": [],
   "source": [
    "# write multiple lines using loop\n",
    "lines = [\"this is line1 \\n\",\"this is line2 \\n\",\"this is line3 \\n\"]\n",
    "with open(e2,\"w\") as f1:\n",
    "    for line in lines:\n",
    "        f1.write(line)"
   ]
  },
  {
   "cell_type": "code",
   "execution_count": 25,
   "id": "2f267555",
   "metadata": {},
   "outputs": [],
   "source": [
    "# as we are using w mode to write it overwrites everytime we write after closing "
   ]
  },
  {
   "cell_type": "code",
   "execution_count": 27,
   "id": "681f781d",
   "metadata": {},
   "outputs": [],
   "source": [
    "# UPDATING existing file we use \"a\" mode --> append mode and write method\n",
    "lines = [\"this is line4 \\n\",\"this is line5 \\n\",\"this is line6 \\n\"]\n",
    "with open(e2,\"a\") as updatef1:\n",
    "    for line in lines:\n",
    "        updatef1.write(line) # as it is a mode so it updates existing file"
   ]
  },
  {
   "cell_type": "code",
   "execution_count": 28,
   "id": "fd10b0a8",
   "metadata": {},
   "outputs": [],
   "source": [
    "# copying from one file to another\n",
    "with open(e1,\"r\") as readf1:\n",
    "    with open(e2,\"w\") as writef2:\n",
    "        for line in readf1:\n",
    "            writef2.write(line)"
   ]
  },
  {
   "cell_type": "code",
   "execution_count": null,
   "id": "c268ff68",
   "metadata": {},
   "outputs": [],
   "source": []
  }
 ],
 "metadata": {
  "kernelspec": {
   "display_name": "Python 3 (ipykernel)",
   "language": "python",
   "name": "python3"
  },
  "language_info": {
   "codemirror_mode": {
    "name": "ipython",
    "version": 3
   },
   "file_extension": ".py",
   "mimetype": "text/x-python",
   "name": "python",
   "nbconvert_exporter": "python",
   "pygments_lexer": "ipython3",
   "version": "3.11.1"
  }
 },
 "nbformat": 4,
 "nbformat_minor": 5
}
