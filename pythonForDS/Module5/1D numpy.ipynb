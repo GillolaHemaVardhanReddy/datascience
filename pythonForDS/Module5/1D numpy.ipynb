{
 "cells": [
  {
   "cell_type": "code",
   "execution_count": 1,
   "id": "5a22e3e0",
   "metadata": {},
   "outputs": [],
   "source": [
    "# numpy is used for scintific caliculations with many usefull functions \n",
    "# it is basis for pandas\n",
    "# agenda:\n",
    "    # basics and array creation \n",
    "    # indexing and slicing\n",
    "    # basic operations \n",
    "    # universal functions"
   ]
  },
  {
   "cell_type": "code",
   "execution_count": 2,
   "id": "867e9b75",
   "metadata": {},
   "outputs": [],
   "source": [
    "# numpy array is similar to a list \n",
    "# its usually fixed in size & each element is of same type\n",
    "import numpy as np # import module"
   ]
  },
  {
   "cell_type": "code",
   "execution_count": 4,
   "id": "9d36a35d",
   "metadata": {},
   "outputs": [
    {
     "data": {
      "text/plain": [
       "array([1, 2, 3, 4])"
      ]
     },
     "execution_count": 4,
     "metadata": {},
     "output_type": "execute_result"
    }
   ],
   "source": [
    "# creation of numpy array\n",
    "# 1st way of creating numpy array is casting a list into numpy array\n",
    "a = np.array([1,2,3,4])\n",
    "a"
   ]
  },
  {
   "cell_type": "code",
   "execution_count": 6,
   "id": "3faada6c",
   "metadata": {},
   "outputs": [
    {
     "data": {
      "text/plain": [
       "numpy.ndarray"
      ]
     },
     "execution_count": 6,
     "metadata": {},
     "output_type": "execute_result"
    }
   ],
   "source": [
    "type(a) # check if its numpy array"
   ]
  },
  {
   "cell_type": "code",
   "execution_count": 12,
   "id": "e6b3e8ca",
   "metadata": {},
   "outputs": [
    {
     "data": {
      "text/plain": [
       "dtype('int32')"
      ]
     },
     "execution_count": 12,
     "metadata": {},
     "output_type": "execute_result"
    }
   ],
   "source": [
    "a.dtype # used to check elements data type in numpy arrays"
   ]
  },
  {
   "cell_type": "code",
   "execution_count": 13,
   "id": "129b59a0",
   "metadata": {},
   "outputs": [
    {
     "data": {
      "text/plain": [
       "1"
      ]
     },
     "execution_count": 13,
     "metadata": {},
     "output_type": "execute_result"
    }
   ],
   "source": [
    "# accessing elements\n",
    "a[0]"
   ]
  },
  {
   "cell_type": "code",
   "execution_count": 15,
   "id": "36c97659",
   "metadata": {},
   "outputs": [
    {
     "data": {
      "text/plain": [
       "4"
      ]
     },
     "execution_count": 15,
     "metadata": {},
     "output_type": "execute_result"
    }
   ],
   "source": [
    "# size of array\n",
    "a.size"
   ]
  },
  {
   "cell_type": "code",
   "execution_count": 17,
   "id": "4ba40d77",
   "metadata": {},
   "outputs": [
    {
     "data": {
      "text/plain": [
       "1"
      ]
     },
     "execution_count": 17,
     "metadata": {},
     "output_type": "execute_result"
    }
   ],
   "source": [
    "# to know no.of dimensions or rank of array we use .ndim\n",
    "a.ndim"
   ]
  },
  {
   "cell_type": "code",
   "execution_count": 18,
   "id": "6ed21795",
   "metadata": {},
   "outputs": [
    {
     "data": {
      "text/plain": [
       "(4,)"
      ]
     },
     "execution_count": 18,
     "metadata": {},
     "output_type": "execute_result"
    }
   ],
   "source": [
    "# to know size of array in each dimension we use .shape\n",
    "a.shape"
   ]
  },
  {
   "cell_type": "code",
   "execution_count": 20,
   "id": "cca979d4",
   "metadata": {},
   "outputs": [
    {
     "data": {
      "text/plain": [
       "array([12,  2,  3,  4])"
      ]
     },
     "execution_count": 20,
     "metadata": {},
     "output_type": "execute_result"
    }
   ],
   "source": [
    "# updating ele in array\n",
    "a[0] = 12\n",
    "a"
   ]
  },
  {
   "cell_type": "code",
   "execution_count": 21,
   "id": "3009bb57",
   "metadata": {},
   "outputs": [
    {
     "data": {
      "text/plain": [
       "array([2, 3, 4])"
      ]
     },
     "execution_count": 21,
     "metadata": {},
     "output_type": "execute_result"
    }
   ],
   "source": [
    "# slicing array\n",
    "a[1:]"
   ]
  },
  {
   "cell_type": "code",
   "execution_count": 22,
   "id": "fa70ed48",
   "metadata": {},
   "outputs": [
    {
     "data": {
      "text/plain": [
       "array([12,  3])"
      ]
     },
     "execution_count": 22,
     "metadata": {},
     "output_type": "execute_result"
    }
   ],
   "source": [
    "# strid in arrays\n",
    "a[::2]"
   ]
  },
  {
   "cell_type": "code",
   "execution_count": 25,
   "id": "e7707b19",
   "metadata": {},
   "outputs": [
    {
     "name": "stdout",
     "output_type": "stream",
     "text": [
      "vector addition:  [1 1]\n",
      "vector sub:  [-1  1]\n"
     ]
    }
   ],
   "source": [
    "# basic operations\n",
    "# 1. vector addition and subtraction\n",
    "u = np.array([0,1])\n",
    "v = np.array([1,0])\n",
    "z = u+v\n",
    "print(\"vector addition: \",z)\n",
    "z = u-v\n",
    "print(\"vector sub: \",z)"
   ]
  },
  {
   "cell_type": "code",
   "execution_count": 26,
   "id": "c4c3320a",
   "metadata": {},
   "outputs": [
    {
     "name": "stdout",
     "output_type": "stream",
     "text": [
      "scalar mul :  [-2  2]\n"
     ]
    }
   ],
   "source": [
    "# vector multiplication with scalar\n",
    "y = 2*z\n",
    "print(\"scalar mul : \",y)"
   ]
  },
  {
   "cell_type": "code",
   "execution_count": 27,
   "id": "cee24fec",
   "metadata": {},
   "outputs": [
    {
     "name": "stdout",
     "output_type": "stream",
     "text": [
      "multiplication of u and v :  [0 0]\n"
     ]
    }
   ],
   "source": [
    "# multiplication of two vectors\n",
    "x = u*v\n",
    "print(\"multiplication of u and v : \",x)"
   ]
  },
  {
   "cell_type": "code",
   "execution_count": 29,
   "id": "102ab5a2",
   "metadata": {},
   "outputs": [
    {
     "name": "stdout",
     "output_type": "stream",
     "text": [
      "z is : [-1  1]\n",
      "y is : [-2  2]\n",
      "dot product of z and y is:  4\n"
     ]
    }
   ],
   "source": [
    "# dot product of two vectors\n",
    "# eg dot product of z and y is zTy --> T is transpose\n",
    "print(\"z is :\",z)\n",
    "print(\"y is :\",y)\n",
    "# -1*-2 + 1*2\n",
    "x = np.dot(z,y)\n",
    "print(\"dot product of z and y is: \",x)"
   ]
  },
  {
   "cell_type": "code",
   "execution_count": 30,
   "id": "0057bccd",
   "metadata": {},
   "outputs": [
    {
     "name": "stdout",
     "output_type": "stream",
     "text": [
      "answer is :  [0 2]\n"
     ]
    }
   ],
   "source": [
    "# adding constant to an array\n",
    "# z+1 => [-1+1,1+1]\n",
    "x = z+1\n",
    "print(\"answer is : \",x)"
   ]
  },
  {
   "cell_type": "code",
   "execution_count": 31,
   "id": "1389f296",
   "metadata": {},
   "outputs": [
    {
     "data": {
      "text/plain": [
       "1.0"
      ]
     },
     "execution_count": 31,
     "metadata": {},
     "output_type": "execute_result"
    }
   ],
   "source": [
    "# universal function is a function that can be applied for an N D array\n",
    "# 1. caliculate mean of al elements of array we use .mean()\n",
    "x.mean()"
   ]
  },
  {
   "cell_type": "code",
   "execution_count": 33,
   "id": "3901ddf1",
   "metadata": {},
   "outputs": [
    {
     "data": {
      "text/plain": [
       "2"
      ]
     },
     "execution_count": 33,
     "metadata": {},
     "output_type": "execute_result"
    }
   ],
   "source": [
    "# 2. to find max value in array we use\n",
    "x.max()"
   ]
  },
  {
   "cell_type": "code",
   "execution_count": 34,
   "id": "822fbc9e",
   "metadata": {},
   "outputs": [
    {
     "data": {
      "text/plain": [
       "0"
      ]
     },
     "execution_count": 34,
     "metadata": {},
     "output_type": "execute_result"
    }
   ],
   "source": [
    "# 3. to find min value in array we use\n",
    "x.min()"
   ]
  },
  {
   "cell_type": "code",
   "execution_count": 35,
   "id": "c1a67283",
   "metadata": {},
   "outputs": [
    {
     "data": {
      "text/plain": [
       "3.141592653589793"
      ]
     },
     "execution_count": 35,
     "metadata": {},
     "output_type": "execute_result"
    }
   ],
   "source": [
    "# we can access pi value directly by np.pi\n",
    "np.pi"
   ]
  },
  {
   "cell_type": "code",
   "execution_count": 38,
   "id": "e4e3358a",
   "metadata": {},
   "outputs": [],
   "source": [
    "# x = [0,pi/2,pi/3] is done as below\n",
    "x = [0,np.pi/2,np.pi/3]"
   ]
  },
  {
   "cell_type": "code",
   "execution_count": 39,
   "id": "c867f03a",
   "metadata": {},
   "outputs": [],
   "source": [
    "# we can apply sin function to all vaues of x directly like below\n",
    "y = np.sin(x) # => [sin(0),sin(pi/2),sin(pi/3)]"
   ]
  },
  {
   "cell_type": "code",
   "execution_count": 44,
   "id": "59d843c1",
   "metadata": {},
   "outputs": [
    {
     "data": {
      "text/plain": [
       "array([-2., -1.,  0.,  1.,  2.])"
      ]
     },
     "execution_count": 44,
     "metadata": {},
     "output_type": "execute_result"
    }
   ],
   "source": [
    "np.linspace(-2,2,5) # linspace is used to create an array with starting point -2 and ending point 2 with no.of elements 5\n",
    "# no.of elements determines the equal spacing between the numbers"
   ]
  },
  {
   "cell_type": "code",
   "execution_count": 45,
   "id": "ce1be24e",
   "metadata": {},
   "outputs": [
    {
     "data": {
      "text/plain": [
       "array([-2. , -1.5, -1. , -0.5,  0. ,  0.5,  1. ,  1.5,  2. ])"
      ]
     },
     "execution_count": 45,
     "metadata": {},
     "output_type": "execute_result"
    }
   ],
   "source": [
    "np.linspace(-2,2,9)"
   ]
  },
  {
   "cell_type": "code",
   "execution_count": null,
   "id": "1b38f915",
   "metadata": {},
   "outputs": [],
   "source": []
  }
 ],
 "metadata": {
  "kernelspec": {
   "display_name": "Python 3 (ipykernel)",
   "language": "python",
   "name": "python3"
  },
  "language_info": {
   "codemirror_mode": {
    "name": "ipython",
    "version": 3
   },
   "file_extension": ".py",
   "mimetype": "text/x-python",
   "name": "python",
   "nbconvert_exporter": "python",
   "pygments_lexer": "ipython3",
   "version": "3.11.1"
  }
 },
 "nbformat": 4,
 "nbformat_minor": 5
}
