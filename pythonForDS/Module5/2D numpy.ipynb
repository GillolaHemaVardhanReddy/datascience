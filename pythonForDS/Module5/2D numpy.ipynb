{
 "cells": [
  {
   "cell_type": "code",
   "execution_count": 3,
   "id": "bfa54d56",
   "metadata": {},
   "outputs": [],
   "source": [
    "# table of contents\n",
    "    # 1. basics and array creation in 2D\n",
    "    # 2. indexing and slicing in 2D\n",
    "    # 3. basic operations in 2D\n",
    "import numpy as np"
   ]
  },
  {
   "cell_type": "code",
   "execution_count": 4,
   "id": "afd45c24",
   "metadata": {},
   "outputs": [
    {
     "name": "stdout",
     "output_type": "stream",
     "text": [
      "[[1 2 3]\n",
      " [4 5 6]\n",
      " [7 8 9]]\n"
     ]
    }
   ],
   "source": [
    "# consider a list x with nested lists with equal size of same data type elements\n",
    "x = [[1,2,3],[4,5,6],[7,8,9]]\n",
    "X = np.array(x)\n",
    "print(X)"
   ]
  },
  {
   "cell_type": "code",
   "execution_count": 5,
   "id": "46543175",
   "metadata": {},
   "outputs": [
    {
     "data": {
      "text/plain": [
       "2"
      ]
     },
     "execution_count": 5,
     "metadata": {},
     "output_type": "execute_result"
    }
   ],
   "source": [
    "# find no of dimension by .ndim property\n",
    "X.ndim"
   ]
  },
  {
   "cell_type": "code",
   "execution_count": 6,
   "id": "165cfdec",
   "metadata": {},
   "outputs": [
    {
     "data": {
      "text/plain": [
       "(3, 3)"
      ]
     },
     "execution_count": 6,
     "metadata": {},
     "output_type": "execute_result"
    }
   ],
   "source": [
    "# find no.of elements in each dimension use .shape\n",
    "X.shape"
   ]
  },
  {
   "cell_type": "code",
   "execution_count": 7,
   "id": "100f4ceb",
   "metadata": {},
   "outputs": [
    {
     "data": {
      "text/plain": [
       "9"
      ]
     },
     "execution_count": 7,
     "metadata": {},
     "output_type": "execute_result"
    }
   ],
   "source": [
    "# get no.of elements in matrix using .size\n",
    "X.size"
   ]
  },
  {
   "cell_type": "code",
   "execution_count": 8,
   "id": "1e15af52",
   "metadata": {},
   "outputs": [
    {
     "data": {
      "text/plain": [
       "2"
      ]
     },
     "execution_count": 8,
     "metadata": {},
     "output_type": "execute_result"
    }
   ],
   "source": [
    "# accessing elements\n",
    "# X[rowInd][colInd]\n",
    "X[0][1]"
   ]
  },
  {
   "cell_type": "code",
   "execution_count": 9,
   "id": "314990aa",
   "metadata": {},
   "outputs": [
    {
     "data": {
      "text/plain": [
       "array([1, 2, 3])"
      ]
     },
     "execution_count": 9,
     "metadata": {},
     "output_type": "execute_result"
    }
   ],
   "source": [
    "# slicing in 2D\n",
    "X[0:2][0] # 0th colomn and row from 0 till before ele of 2nd ind"
   ]
  },
  {
   "cell_type": "code",
   "execution_count": 10,
   "id": "bf74433c",
   "metadata": {},
   "outputs": [
    {
     "data": {
      "text/plain": [
       "array([4, 5])"
      ]
     },
     "execution_count": 10,
     "metadata": {},
     "output_type": "execute_result"
    }
   ],
   "source": [
    "X[1][0:2] # 1st row column 0 till before 2nd index of col"
   ]
  },
  {
   "cell_type": "code",
   "execution_count": 11,
   "id": "1a5b9461",
   "metadata": {},
   "outputs": [],
   "source": [
    "# vector addition\n",
    "Y = np.array([[0,0,1],[1,1,0],[0,1,0]])\n",
    "Z = X+Y"
   ]
  },
  {
   "cell_type": "code",
   "execution_count": 12,
   "id": "4122225a",
   "metadata": {},
   "outputs": [
    {
     "data": {
      "text/plain": [
       "array([[1, 2, 4],\n",
       "       [5, 6, 6],\n",
       "       [7, 9, 9]])"
      ]
     },
     "execution_count": 12,
     "metadata": {},
     "output_type": "execute_result"
    }
   ],
   "source": [
    "Z"
   ]
  },
  {
   "cell_type": "code",
   "execution_count": 13,
   "id": "20b125b6",
   "metadata": {},
   "outputs": [
    {
     "data": {
      "text/plain": [
       "array([[ 2,  4,  6],\n",
       "       [ 8, 10, 12],\n",
       "       [14, 16, 18]])"
      ]
     },
     "execution_count": 13,
     "metadata": {},
     "output_type": "execute_result"
    }
   ],
   "source": [
    "# multiplication of constant with vector\n",
    "2*X"
   ]
  },
  {
   "cell_type": "code",
   "execution_count": 15,
   "id": "74229ead",
   "metadata": {},
   "outputs": [
    {
     "data": {
      "text/plain": [
       "array([[0, 0, 3],\n",
       "       [4, 5, 0],\n",
       "       [0, 8, 0]])"
      ]
     },
     "execution_count": 15,
     "metadata": {},
     "output_type": "execute_result"
    }
   ],
   "source": [
    "# multiplication of two vectors\n",
    "A = X*Y\n",
    "A"
   ]
  },
  {
   "cell_type": "code",
   "execution_count": 20,
   "id": "91cce434",
   "metadata": {},
   "outputs": [
    {
     "name": "stdout",
     "output_type": "stream",
     "text": [
      "[[1 2 3]\n",
      " [4 5 6]\n",
      " [7 8 9]] \n",
      "\n",
      " [[0 0 1]\n",
      " [1 1 0]\n",
      " [0 1 0]]\n"
     ]
    },
    {
     "data": {
      "text/plain": [
       "array([[ 2,  5,  1],\n",
       "       [ 5, 11,  4],\n",
       "       [ 8, 17,  7]])"
      ]
     },
     "execution_count": 20,
     "metadata": {},
     "output_type": "execute_result"
    }
   ],
   "source": [
    "# matrix multiplication A*B\n",
    "# check if no.of columns of matrix A == no.of rows in matrix B\n",
    "# in numpy dot product is similar to matrix multiplication\n",
    "print(X,\"\\n\\n\",Y)\n",
    "M = X.dot(Y)\n",
    "M"
   ]
  },
  {
   "cell_type": "code",
   "execution_count": null,
   "id": "9aa7c87d",
   "metadata": {},
   "outputs": [],
   "source": []
  }
 ],
 "metadata": {
  "kernelspec": {
   "display_name": "Python 3 (ipykernel)",
   "language": "python",
   "name": "python3"
  },
  "language_info": {
   "codemirror_mode": {
    "name": "ipython",
    "version": 3
   },
   "file_extension": ".py",
   "mimetype": "text/x-python",
   "name": "python",
   "nbconvert_exporter": "python",
   "pygments_lexer": "ipython3",
   "version": "3.11.1"
  }
 },
 "nbformat": 4,
 "nbformat_minor": 5
}
