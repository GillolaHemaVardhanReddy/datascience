{
 "cells": [
  {
   "cell_type": "code",
   "execution_count": 1,
   "id": "572f09ec",
   "metadata": {},
   "outputs": [],
   "source": [
    "# application program interface\n",
    "# objectives \n",
    "    # 1. what is an API\n",
    "    # 2. API libraries\n",
    "    # 3. REST API"
   ]
  },
  {
   "cell_type": "code",
   "execution_count": 2,
   "id": "7086c1a5",
   "metadata": {},
   "outputs": [],
   "source": [
    "# an API lets two softwares talk to each other\n",
    "# we have some program and other software we can communicate btw them using API inputs and outputs\n",
    "# pandas is much of software components and a lot of it is not written in python\n",
    "# we have a python program , data , other software \n",
    "    # we use pandas API to process the data by communicating with other software components "
   ]
  },
  {
   "cell_type": "code",
   "execution_count": 5,
   "id": "5a94fa7e",
   "metadata": {},
   "outputs": [],
   "source": [
    "# explanation for why is pandas an API\n",
    "# when we create a dictionary and send it to DataFrame method in pandas it stores that data in pandas \n",
    "x = {\"names\":[\"raju\",\"rakesh\",\"jagan\"],\"age\":[19,21,22]}\n",
    "# and we have a reference to that data using some variable\n",
    "import pandas as pd\n",
    "X = pd.DataFrame(x)\n",
    "# here x is that variable"
   ]
  },
  {
   "cell_type": "code",
   "execution_count": 6,
   "id": "97d7baf9",
   "metadata": {},
   "outputs": [
    {
     "data": {
      "text/html": [
       "<div>\n",
       "<style scoped>\n",
       "    .dataframe tbody tr th:only-of-type {\n",
       "        vertical-align: middle;\n",
       "    }\n",
       "\n",
       "    .dataframe tbody tr th {\n",
       "        vertical-align: top;\n",
       "    }\n",
       "\n",
       "    .dataframe thead th {\n",
       "        text-align: right;\n",
       "    }\n",
       "</style>\n",
       "<table border=\"1\" class=\"dataframe\">\n",
       "  <thead>\n",
       "    <tr style=\"text-align: right;\">\n",
       "      <th></th>\n",
       "      <th>names</th>\n",
       "      <th>age</th>\n",
       "    </tr>\n",
       "  </thead>\n",
       "  <tbody>\n",
       "    <tr>\n",
       "      <th>0</th>\n",
       "      <td>raju</td>\n",
       "      <td>19</td>\n",
       "    </tr>\n",
       "    <tr>\n",
       "      <th>1</th>\n",
       "      <td>rakesh</td>\n",
       "      <td>21</td>\n",
       "    </tr>\n",
       "    <tr>\n",
       "      <th>2</th>\n",
       "      <td>jagan</td>\n",
       "      <td>22</td>\n",
       "    </tr>\n",
       "  </tbody>\n",
       "</table>\n",
       "</div>"
      ],
      "text/plain": [
       "    names  age\n",
       "0    raju   19\n",
       "1  rakesh   21\n",
       "2   jagan   22"
      ]
     },
     "execution_count": 6,
     "metadata": {},
     "output_type": "execute_result"
    }
   ],
   "source": [
    "# we use that X and access the data from pandas API\n",
    "X.head()"
   ]
  },
  {
   "cell_type": "code",
   "execution_count": 7,
   "id": "56ea4f55",
   "metadata": {},
   "outputs": [],
   "source": [
    "# REST API's ==> REpresentational State Transfer API's\n",
    "# they allow us to communicate through internet allowing us to take advantage like resources, storage,AI algorithms etc...\n",
    "# in rest API's our program is called client \n",
    "# the api communicates with the web service we call through the internet\n",
    "# Rest apis interact with web service"
   ]
  },
  {
   "cell_type": "code",
   "execution_count": 8,
   "id": "15beb8a8",
   "metadata": {},
   "outputs": [],
   "source": [
    "# they have a set of rules :\n",
    "    # 1. communication \n",
    "    # 2. input or request\n",
    "    # 3. output or response"
   ]
  },
  {
   "cell_type": "code",
   "execution_count": 9,
   "id": "badb0479",
   "metadata": {},
   "outputs": [],
   "source": [
    "# HTTP methods are the way of transmittingdata over the internet\n",
    "# we tell rest API's what to do next by sending a request \n",
    "# the req is usually communicated via HTTP msg\n",
    "# a http msg usually contains a json file"
   ]
  },
  {
   "cell_type": "code",
   "execution_count": null,
   "id": "70170ae7",
   "metadata": {},
   "outputs": [],
   "source": [
    "# sports data using nba API by swar patel"
   ]
  }
 ],
 "metadata": {
  "kernelspec": {
   "display_name": "Python 3 (ipykernel)",
   "language": "python",
   "name": "python3"
  },
  "language_info": {
   "codemirror_mode": {
    "name": "ipython",
    "version": 3
   },
   "file_extension": ".py",
   "mimetype": "text/x-python",
   "name": "python",
   "nbconvert_exporter": "python",
   "pygments_lexer": "ipython3",
   "version": "3.11.1"
  }
 },
 "nbformat": 4,
 "nbformat_minor": 5
}
