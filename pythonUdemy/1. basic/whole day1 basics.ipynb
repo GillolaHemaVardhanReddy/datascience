{
 "cells": [
  {
   "cell_type": "markdown",
   "id": "a51d53e8",
   "metadata": {},
   "source": [
    "# day1"
   ]
  },
  {
   "cell_type": "markdown",
   "id": "0e87a14d",
   "metadata": {},
   "source": [
    "printing statements  \n",
    "anything inside the **print** method string will be printed in console  \n",
    "cehck for indentation while typing any extra indentation or missing will throw error"
   ]
  },
  {
   "cell_type": "code",
   "execution_count": 3,
   "id": "c8c86e0e",
   "metadata": {},
   "outputs": [
    {
     "name": "stdout",
     "output_type": "stream",
     "text": [
      "Hello world\n"
     ]
    }
   ],
   "source": [
    "print(\"Hello world\")"
   ]
  },
  {
   "cell_type": "code",
   "execution_count": 4,
   "id": "d8d7815c",
   "metadata": {},
   "outputs": [
    {
     "name": "stdout",
     "output_type": "stream",
     "text": [
      "hello jagan i am really intrested to code right now!\n",
      "are you too ?\n"
     ]
    }
   ],
   "source": [
    "print(\"hello jagan i am really intrested to code right now!\")\n",
    "print(\"are you too ?\")"
   ]
  },
  {
   "cell_type": "code",
   "execution_count": 5,
   "id": "40077f54",
   "metadata": {},
   "outputs": [
    {
     "name": "stdout",
     "output_type": "stream",
     "text": [
      "hello \"jagan\" i am really intrested to code right now!\n"
     ]
    }
   ],
   "source": [
    "print(\"hello \\\"jagan\\\" i am really intrested to code right now!\")"
   ]
  },
  {
   "cell_type": "markdown",
   "id": "6126da94",
   "metadata": {},
   "source": [
    "# string concatination  "
   ]
  },
  {
   "cell_type": "code",
   "execution_count": 7,
   "id": "5c8d2625",
   "metadata": {},
   "outputs": [
    {
     "name": "stdout",
     "output_type": "stream",
     "text": [
      "hello jagan yahuu\n"
     ]
    }
   ],
   "source": [
    "print(\"hello \"+\"jagan \"+ \"yahuu\")"
   ]
  },
  {
   "cell_type": "markdown",
   "id": "92be0c95",
   "metadata": {},
   "source": [
    "# input function"
   ]
  },
  {
   "cell_type": "code",
   "execution_count": 9,
   "id": "793fb411",
   "metadata": {},
   "outputs": [
    {
     "name": "stdout",
     "output_type": "stream",
     "text": [
      "enter some number: 3\n"
     ]
    }
   ],
   "source": [
    "x = input(\"enter some number: \")"
   ]
  },
  {
   "cell_type": "code",
   "execution_count": 10,
   "id": "d8e361c3",
   "metadata": {},
   "outputs": [
    {
     "name": "stdout",
     "output_type": "stream",
     "text": [
      "3\n"
     ]
    }
   ],
   "source": [
    "print(x)"
   ]
  },
  {
   "cell_type": "code",
   "execution_count": 11,
   "id": "95157efd",
   "metadata": {},
   "outputs": [
    {
     "name": "stdout",
     "output_type": "stream",
     "text": [
      "enter some number: \n",
      "None4\n",
      "you entered :  4\n"
     ]
    }
   ],
   "source": [
    "x = input(print(\"enter some number: \"))\n",
    "print(\"you entered : \",x)"
   ]
  },
  {
   "cell_type": "markdown",
   "id": "e1e4b17a",
   "metadata": {},
   "source": [
    "### how above code executed\n",
    "\n",
    "here text in input function is same as print in command line check out below code"
   ]
  },
  {
   "cell_type": "code",
   "execution_count": 12,
   "id": "12668cd5",
   "metadata": {
    "scrolled": true
   },
   "outputs": [
    {
     "name": "stdout",
     "output_type": "stream",
     "text": [
      "enter your name: hema\n",
      "hello hema\n"
     ]
    }
   ],
   "source": [
    "print(\"hello \"+input(\"enter your name: \"))"
   ]
  },
  {
   "cell_type": "markdown",
   "id": "76721b43",
   "metadata": {},
   "source": [
    "### how is above code running\n",
    "\n",
    "f(g(x)) => here first g(x) executes and then f(x)  \n",
    "there you go thats all there its happening"
   ]
  },
  {
   "cell_type": "markdown",
   "id": "83a5056c",
   "metadata": {},
   "source": [
    "# variables"
   ]
  },
  {
   "cell_type": "code",
   "execution_count": 13,
   "id": "40cfaa4b",
   "metadata": {},
   "outputs": [
    {
     "name": "stdout",
     "output_type": "stream",
     "text": [
      "hello man enter any number: 12\n"
     ]
    }
   ],
   "source": [
    "x = input(\"hello man enter any number: \")"
   ]
  },
  {
   "cell_type": "markdown",
   "id": "66632522",
   "metadata": {},
   "source": [
    "here <b>x</b> is a <b>variable</b>"
   ]
  },
  {
   "cell_type": "code",
   "execution_count": 14,
   "id": "259c996d",
   "metadata": {},
   "outputs": [
    {
     "name": "stdout",
     "output_type": "stream",
     "text": [
      "enter 1st number: 2\n",
      "enter 2nd number: 4\n",
      "8\n"
     ]
    }
   ],
   "source": [
    "x = int(input(\"enter 1st number: \"))\n",
    "y = int(input(\"enter 2nd number: \"))\n",
    "print(x*y)"
   ]
  },
  {
   "cell_type": "markdown",
   "id": "438aa41e",
   "metadata": {},
   "source": [
    "## variable naming\n",
    "\n",
    "variable is made of :\n",
    "   1. numbers\n",
    "   2. alphabets\n",
    "   3. underscore\n",
    "##### rules :  \n",
    "1. numbers cant be at first\n",
    "2. no special charecters used except underscore"
   ]
  }
 ],
 "metadata": {
  "kernelspec": {
   "display_name": "Python 3 (ipykernel)",
   "language": "python",
   "name": "python3"
  },
  "language_info": {
   "codemirror_mode": {
    "name": "ipython",
    "version": 3
   },
   "file_extension": ".py",
   "mimetype": "text/x-python",
   "name": "python",
   "nbconvert_exporter": "python",
   "pygments_lexer": "ipython3",
   "version": "3.11.1"
  }
 },
 "nbformat": 4,
 "nbformat_minor": 5
}
