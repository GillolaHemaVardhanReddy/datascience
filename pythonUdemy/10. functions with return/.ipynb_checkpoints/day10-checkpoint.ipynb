{
 "cells": [
  {
   "cell_type": "markdown",
   "id": "a7c8cf68",
   "metadata": {},
   "source": [
    "# Return in functions\n",
    "\n",
    "when we run a function we can actually return any value using return keyword  \n",
    "the functioncall will be replace with return value when function returns a value"
   ]
  },
  {
   "cell_type": "code",
   "execution_count": 5,
   "id": "194e75f6",
   "metadata": {},
   "outputs": [],
   "source": [
    "def formatName(Fname,Lname):\n",
    "    return Fname+Lname"
   ]
  },
  {
   "cell_type": "code",
   "execution_count": 6,
   "id": "c4fa4e44",
   "metadata": {},
   "outputs": [
    {
     "data": {
      "text/plain": [
       "'hemavardhan'"
      ]
     },
     "execution_count": 6,
     "metadata": {},
     "output_type": "execute_result"
    }
   ],
   "source": [
    "formatName(\"hema\",\"vardhan\")"
   ]
  },
  {
   "cell_type": "markdown",
   "id": "26c389c0",
   "metadata": {},
   "source": [
    "# multiple return values\n",
    "\n",
    "return actually tells a function to stop there and return to main function call  \n",
    "any statements written below will not be executed"
   ]
  },
  {
   "cell_type": "code",
   "execution_count": 7,
   "id": "c27e993d",
   "metadata": {},
   "outputs": [],
   "source": [
    "def formatName(Fname,Lname):\n",
    "    return Fname+Lname\n",
    "    print(\"hey man\")"
   ]
  },
  {
   "cell_type": "code",
   "execution_count": 8,
   "id": "bf8f9b20",
   "metadata": {},
   "outputs": [
    {
     "data": {
      "text/plain": [
       "'hemavardhan'"
      ]
     },
     "execution_count": 8,
     "metadata": {},
     "output_type": "execute_result"
    }
   ],
   "source": [
    "formatName(\"hema\",\"vardhan\")"
   ]
  },
  {
   "cell_type": "raw",
   "id": "2c7a79eb",
   "metadata": {},
   "source": [
    "to return multiple returns we can do it using conditional statements if/else"
   ]
  },
  {
   "cell_type": "markdown",
   "id": "e3600c46",
   "metadata": {},
   "source": [
    "## DOCUMENTATION\n",
    "\n",
    "we can actually write documentation in a function and access it using help(functionName) method  \n",
    "so any string that is written on top level of the function then it is the documentation"
   ]
  },
  {
   "cell_type": "code",
   "execution_count": 12,
   "id": "97f61830",
   "metadata": {},
   "outputs": [],
   "source": [
    "def formatName(Fname,Lname):\n",
    "    \"\"\"\n",
    "        this function concats first and last name and then returns the value\n",
    "    \"\"\"\n",
    "    return Fname+Lname\n",
    "    print(\"hey man\")"
   ]
  },
  {
   "cell_type": "code",
   "execution_count": 13,
   "id": "a58a0928",
   "metadata": {},
   "outputs": [
    {
     "name": "stdout",
     "output_type": "stream",
     "text": [
      "Help on function formatName in module __main__:\n",
      "\n",
      "formatName(Fname, Lname)\n",
      "    this function concats first and last name and then returns the value\n",
      "\n"
     ]
    }
   ],
   "source": [
    "help(formatName)"
   ]
  }
 ],
 "metadata": {
  "kernelspec": {
   "display_name": "Python 3 (ipykernel)",
   "language": "python",
   "name": "python3"
  },
  "language_info": {
   "codemirror_mode": {
    "name": "ipython",
    "version": 3
   },
   "file_extension": ".py",
   "mimetype": "text/x-python",
   "name": "python",
   "nbconvert_exporter": "python",
   "pygments_lexer": "ipython3",
   "version": "3.11.1"
  }
 },
 "nbformat": 4,
 "nbformat_minor": 5
}
