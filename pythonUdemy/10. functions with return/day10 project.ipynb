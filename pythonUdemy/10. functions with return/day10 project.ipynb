{
 "cells": [
  {
   "cell_type": "markdown",
   "id": "26db9d31",
   "metadata": {},
   "source": [
    "# Calculator"
   ]
  },
  {
   "cell_type": "code",
   "execution_count": 1,
   "id": "eb6ebc32",
   "metadata": {},
   "outputs": [],
   "source": [
    "def add(n1,n2):\n",
    "    return n1+n2"
   ]
  },
  {
   "cell_type": "code",
   "execution_count": 2,
   "id": "3769c74b",
   "metadata": {},
   "outputs": [],
   "source": [
    "def sub(n1,n2):\n",
    "    return n1-n2"
   ]
  },
  {
   "cell_type": "code",
   "execution_count": 3,
   "id": "08893467",
   "metadata": {},
   "outputs": [],
   "source": [
    "def mul(n1,n2):\n",
    "    return n1*n2"
   ]
  },
  {
   "cell_type": "code",
   "execution_count": 4,
   "id": "646f277b",
   "metadata": {},
   "outputs": [],
   "source": [
    "def div(n1,n2):\n",
    "    return n1/n2"
   ]
  },
  {
   "cell_type": "code",
   "execution_count": 5,
   "id": "f043b3fa",
   "metadata": {},
   "outputs": [],
   "source": [
    "sym = {\n",
    "    \"+\": add,\n",
    "    \"-\": sub,\n",
    "    \"*\": mul,\n",
    "    \"/\": div\n",
    "}"
   ]
  },
  {
   "cell_type": "code",
   "execution_count": 6,
   "id": "f3d47aa2",
   "metadata": {},
   "outputs": [],
   "source": [
    "def calculate():\n",
    "    n1 = int(input(\"Enter 1st number: \"))\n",
    "    while True :\n",
    "        print('1st numbser is: ',n1)\n",
    "        for item in sym :\n",
    "            print(item)\n",
    "        choice = input(\"choose any operation with above symbols: \")\n",
    "        n2 = int(input(\"Enter 2nd number: \"))\n",
    "        ans = sym[choice](n1,n2)\n",
    "        print(\"answer is: \",ans)\n",
    "        ch = input(\"Want to continue calculation yes(1) No(0) startNew(2): \")\n",
    "        if ch=='0':\n",
    "            break\n",
    "        elif ch=='1':\n",
    "            n1 = ans\n",
    "        else:\n",
    "            calculate()\n",
    "    return"
   ]
  },
  {
   "cell_type": "code",
   "execution_count": 8,
   "id": "1efd5054",
   "metadata": {},
   "outputs": [
    {
     "name": "stdout",
     "output_type": "stream",
     "text": [
      "Enter 1st number: 12\n",
      "1st numbser is:  12\n",
      "+\n",
      "-\n",
      "*\n",
      "/\n",
      "choose any operation with above symbols: /\n",
      "Enter 2nd number: 2\n",
      "answer is:  6.0\n",
      "Want to continue calculation yes(1) No(0) startNew(2): 1\n",
      "1st numbser is:  6.0\n",
      "+\n",
      "-\n",
      "*\n",
      "/\n",
      "choose any operation with above symbols: -\n",
      "Enter 2nd number: 2\n",
      "answer is:  4.0\n",
      "Want to continue calculation yes(1) No(0) startNew(2): 0\n"
     ]
    }
   ],
   "source": [
    "calculate()"
   ]
  },
  {
   "cell_type": "code",
   "execution_count": null,
   "id": "f6bf4535",
   "metadata": {},
   "outputs": [],
   "source": []
  }
 ],
 "metadata": {
  "kernelspec": {
   "display_name": "Python 3 (ipykernel)",
   "language": "python",
   "name": "python3"
  },
  "language_info": {
   "codemirror_mode": {
    "name": "ipython",
    "version": 3
   },
   "file_extension": ".py",
   "mimetype": "text/x-python",
   "name": "python",
   "nbconvert_exporter": "python",
   "pygments_lexer": "ipython3",
   "version": "3.11.1"
  }
 },
 "nbformat": 4,
 "nbformat_minor": 5
}
