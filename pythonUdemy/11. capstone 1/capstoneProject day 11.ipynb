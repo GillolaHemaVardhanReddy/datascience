{
 "cells": [
  {
   "cell_type": "markdown",
   "id": "ac644241",
   "metadata": {},
   "source": [
    "# Our Blackjack House Rules\n",
    "\n",
    "## The deck is unlimited in size. \n",
    "## There are no jokers. \n",
    "## The Jack/Queen/King all count as 10.\n",
    "## The the Ace can count as 11 or 1.\n",
    "## Use the following list as the deck of cards:\n",
    "## cards = [11, 2, 3, 4, 5, 6, 7, 8, 9, 10, 10, 10, 10]\n",
    "## The cards in the list have equal probability of being drawn.\n",
    "## Cards are not removed from the deck as they are drawn.\n",
    "## The computer is the dealer.\n",
    "\n",
    "# Hint 1: Go to this website and try out the Blackjack game: \n",
    "https://games.washingtonpost.com/games/blackjack/"
   ]
  },
  {
   "cell_type": "code",
   "execution_count": 2,
   "id": "9e8e8728",
   "metadata": {},
   "outputs": [],
   "source": [
    "import random as rd"
   ]
  },
  {
   "cell_type": "code",
   "execution_count": 3,
   "id": "ed4311f7",
   "metadata": {},
   "outputs": [],
   "source": [
    "def pickCard(cards):\n",
    "    cardNo = rd.choice(cards)\n",
    "    return cardNo"
   ]
  },
  {
   "cell_type": "code",
   "execution_count": 4,
   "id": "f6562268",
   "metadata": {},
   "outputs": [],
   "source": [
    "def sum(contestant):\n",
    "    ans = 0\n",
    "    aces = 0\n",
    "    for item in contestant:\n",
    "        if item in ['K', 'Q', 'J']:\n",
    "            ans += 10\n",
    "        elif item == 1:\n",
    "            aces += 1\n",
    "            ans += 11\n",
    "        else:\n",
    "            ans += item\n",
    "    \n",
    "    while ans > 21 and aces:\n",
    "        ans -= 10\n",
    "        aces -= 1\n",
    "    \n",
    "    return ans\n"
   ]
  },
  {
   "cell_type": "code",
   "execution_count": 9,
   "id": "a1c49bcf",
   "metadata": {},
   "outputs": [],
   "source": [
    "def blackjack():\n",
    "    cards = [1, 2, 3, 4, 5, 6, 7, 8, 9, 10, 'K', 'Q', 'J']\n",
    "    dealer = []\n",
    "    player = []\n",
    "    \n",
    "    player.append(pickCard(cards))\n",
    "    player.append(pickCard(cards))\n",
    "    dealer.append(pickCard(cards))\n",
    "    dealer.append(pickCard(cards))\n",
    "    \n",
    "    while(True):\n",
    "        \n",
    "        print(\"Your cards are: \",player)\n",
    "        print(\"Dealers cards are: \",dealer[0])\n",
    "        \n",
    "        \n",
    "        if(sum(player)>21):\n",
    "            print(\"dealer cards: \",dealer)\n",
    "            return f\"You Lost bust count {player}\"\n",
    "        \n",
    "        ch = input(\"Hit(0) or stand(1): \")\n",
    "        if ch=='0':\n",
    "            player.append(pickCard(cards))\n",
    "        else:\n",
    "            break\n",
    "    while sum(dealer)<17 :\n",
    "        dealer.append(pickCard(cards))\n",
    "    print(\"Dealer's cards are: \", dealer)\n",
    "    \n",
    "    if sum(dealer) > 21:\n",
    "        return f\"You Won! Dealer bust. Dealer's cards: {dealer}\"\n",
    "    elif sum(dealer) == sum(player):\n",
    "        return \"It's a draw!\"\n",
    "    elif sum(dealer) < sum(player):\n",
    "        return f\"You Won! Your cards: {player}, Dealer's cards: {dealer}\"\n",
    "    else:\n",
    "        return f\"You Lost! Dealer's cards: {dealer}\""
   ]
  },
  {
   "cell_type": "code",
   "execution_count": 10,
   "id": "9309623f",
   "metadata": {},
   "outputs": [
    {
     "name": "stdout",
     "output_type": "stream",
     "text": [
      "Your cards are:  ['Q', 10]\n",
      "Dealers cards are:  7\n",
      "Hit(0) or stand(1): 1\n",
      "Dealer's cards are:  [7, 'K']\n"
     ]
    },
    {
     "data": {
      "text/plain": [
       "\"You Won! Your cards: ['Q', 10], Dealer's cards: [7, 'K']\""
      ]
     },
     "execution_count": 10,
     "metadata": {},
     "output_type": "execute_result"
    }
   ],
   "source": [
    "blackjack()"
   ]
  },
  {
   "cell_type": "code",
   "execution_count": null,
   "id": "4d563334",
   "metadata": {},
   "outputs": [],
   "source": []
  }
 ],
 "metadata": {
  "kernelspec": {
   "display_name": "Python 3 (ipykernel)",
   "language": "python",
   "name": "python3"
  },
  "language_info": {
   "codemirror_mode": {
    "name": "ipython",
    "version": 3
   },
   "file_extension": ".py",
   "mimetype": "text/x-python",
   "name": "python",
   "nbconvert_exporter": "python",
   "pygments_lexer": "ipython3",
   "version": "3.11.1"
  }
 },
 "nbformat": 4,
 "nbformat_minor": 5
}
