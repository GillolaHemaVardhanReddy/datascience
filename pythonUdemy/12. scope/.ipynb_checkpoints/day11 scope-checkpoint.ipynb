{
 "cells": [
  {
   "cell_type": "markdown",
   "id": "57af373a",
   "metadata": {},
   "source": [
    "# Global and local scope"
   ]
  },
  {
   "cell_type": "code",
   "execution_count": 12,
   "id": "bc8dd114",
   "metadata": {},
   "outputs": [],
   "source": [
    "x = 1 # global variable"
   ]
  },
  {
   "cell_type": "code",
   "execution_count": 13,
   "id": "3524f069",
   "metadata": {},
   "outputs": [],
   "source": [
    "def test():\n",
    "    x = 2 # local scope\n",
    "    print(\"local scope x: \",x)"
   ]
  },
  {
   "cell_type": "code",
   "execution_count": 14,
   "id": "e86d8d71",
   "metadata": {},
   "outputs": [
    {
     "name": "stdout",
     "output_type": "stream",
     "text": [
      "1\n"
     ]
    }
   ],
   "source": [
    "print(x)"
   ]
  },
  {
   "cell_type": "code",
   "execution_count": 15,
   "id": "03b25356",
   "metadata": {},
   "outputs": [
    {
     "name": "stdout",
     "output_type": "stream",
     "text": [
      "local scope x:  2\n"
     ]
    }
   ],
   "source": [
    "test()"
   ]
  },
  {
   "cell_type": "markdown",
   "id": "e8dbec60",
   "metadata": {},
   "source": [
    "### There is no block scope in python"
   ]
  },
  {
   "cell_type": "markdown",
   "id": "bf6264f8",
   "metadata": {},
   "source": [
    "# modifying a global scope\n",
    "\n",
    "before code we changes x to 2 inside test but its not changing global x it is just creating new variable locally\n",
    "\n",
    "to change the global variable or update or access we use global keyword"
   ]
  },
  {
   "cell_type": "code",
   "execution_count": 23,
   "id": "b95a5e0e",
   "metadata": {},
   "outputs": [
    {
     "name": "stdout",
     "output_type": "stream",
     "text": [
      "10\n",
      "2\n"
     ]
    }
   ],
   "source": [
    "x = 10\n",
    "print(x)\n",
    "def test1():\n",
    "    global x \n",
    "    x = 2 \n",
    "test1()\n",
    "print(x) "
   ]
  },
  {
   "cell_type": "code",
   "execution_count": null,
   "id": "c8fa6a40",
   "metadata": {},
   "outputs": [],
   "source": []
  }
 ],
 "metadata": {
  "kernelspec": {
   "display_name": "Python 3 (ipykernel)",
   "language": "python",
   "name": "python3"
  },
  "language_info": {
   "codemirror_mode": {
    "name": "ipython",
    "version": 3
   },
   "file_extension": ".py",
   "mimetype": "text/x-python",
   "name": "python",
   "nbconvert_exporter": "python",
   "pygments_lexer": "ipython3",
   "version": "3.11.1"
  }
 },
 "nbformat": 4,
 "nbformat_minor": 5
}
