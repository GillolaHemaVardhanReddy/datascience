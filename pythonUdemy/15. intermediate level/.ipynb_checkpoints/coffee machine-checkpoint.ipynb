{
 "cells": [
  {
   "cell_type": "markdown",
   "id": "a13f93d3",
   "metadata": {},
   "source": [
    "# day 15 project"
   ]
  },
  {
   "cell_type": "code",
   "execution_count": 18,
   "id": "2b11d3c3",
   "metadata": {},
   "outputs": [],
   "source": [
    "from data import MENU as menu,resources as rs"
   ]
  },
  {
   "cell_type": "code",
   "execution_count": 19,
   "id": "016bfd2a",
   "metadata": {},
   "outputs": [],
   "source": [
    "def checkIng(items):\n",
    "    for item in items:\n",
    "        if items[item]>rs[item]:\n",
    "            print(f\"don't have sufficient {item}\")\n",
    "            return 1\n",
    "    return 0"
   ]
  },
  {
   "cell_type": "code",
   "execution_count": 20,
   "id": "cd8f1a76",
   "metadata": {},
   "outputs": [],
   "source": [
    "def checkCoins(cost,paid):\n",
    "    ans = cost-paid\n",
    "    if ans<0:\n",
    "        print(\"have paid more \",-1*ans,\" coins\")\n",
    "        return 0\n",
    "    elif ans>0:\n",
    "        print(\"coins not sufficient refund amoun \",ans,\" coins\")\n",
    "        return 1\n",
    "    else:\n",
    "        return 0"
   ]
  },
  {
   "cell_type": "code",
   "execution_count": 21,
   "id": "ac761061",
   "metadata": {},
   "outputs": [],
   "source": [
    "def reduceResource(items):\n",
    "    for item in items:\n",
    "        rs[item]-=items[item]\n",
    "    return"
   ]
  },
  {
   "cell_type": "code",
   "execution_count": 22,
   "id": "a8b322a3",
   "metadata": {},
   "outputs": [],
   "source": [
    "# Remember that quarters = $0.25, dimes = $0.10, nickles = $0.05, pennies = $0.01"
   ]
  },
  {
   "cell_type": "code",
   "execution_count": 23,
   "id": "52b98773",
   "metadata": {},
   "outputs": [],
   "source": [
    "def enterCoins():\n",
    "    coins = int(input(\"Enter quarters count: \"))*0.25\n",
    "    coins += int(input(\"Enter dimes count: \"))*0.1\n",
    "    coins += int(input(\"Enter pennies count: \"))*0.01\n",
    "    coins += int(input(\"Enter nickels count: \"))*0.05\n",
    "    return coins"
   ]
  },
  {
   "cell_type": "code",
   "execution_count": 24,
   "id": "30b6d756",
   "metadata": {
    "scrolled": true
   },
   "outputs": [],
   "source": [
    "def coffee():\n",
    "    while(True):\n",
    "        inp = input(\"What would you like? (espresso/latte/cappuccino): \")\n",
    "        if inp.lower()=='off':\n",
    "            break\n",
    "        elif inp.lower()=='report':\n",
    "            print(rs)\n",
    "        else:\n",
    "            if checkIng(menu[inp][\"ingredients\"]):\n",
    "                continue\n",
    "            coins = enterCoins()\n",
    "            if checkCoins(menu[inp][\"cost\"],coins):\n",
    "                continue\n",
    "            reduceResource(menu[inp][\"ingredients\"])"
   ]
  },
  {
   "cell_type": "code",
   "execution_count": 25,
   "id": "746984d7",
   "metadata": {},
   "outputs": [
    {
     "name": "stdout",
     "output_type": "stream",
     "text": [
      "What would you like? (espresso/latte/cappuccino): report\n",
      "{'water': 300, 'milk': 200, 'coffee': 100}\n",
      "What would you like? (espresso/latte/cappuccino): espresso\n",
      "Enter quarters count: 10\n",
      "Enter dimes count: 10\n",
      "Enter pennies count: 10\n",
      "Enter nickels count: 10\n",
      "have paid more  2.5999999999999996  coins\n",
      "What would you like? (espresso/latte/cappuccino): report\n",
      "{'water': 250, 'milk': 200, 'coffee': 82}\n",
      "What would you like? (espresso/latte/cappuccino): off\n"
     ]
    }
   ],
   "source": [
    "coffee()"
   ]
  },
  {
   "cell_type": "code",
   "execution_count": null,
   "id": "4be399ef",
   "metadata": {},
   "outputs": [],
   "source": []
  }
 ],
 "metadata": {
  "kernelspec": {
   "display_name": "Python 3 (ipykernel)",
   "language": "python",
   "name": "python3"
  },
  "language_info": {
   "codemirror_mode": {
    "name": "ipython",
    "version": 3
   },
   "file_extension": ".py",
   "mimetype": "text/x-python",
   "name": "python",
   "nbconvert_exporter": "python",
   "pygments_lexer": "ipython3",
   "version": "3.11.1"
  }
 },
 "nbformat": 4,
 "nbformat_minor": 5
}
