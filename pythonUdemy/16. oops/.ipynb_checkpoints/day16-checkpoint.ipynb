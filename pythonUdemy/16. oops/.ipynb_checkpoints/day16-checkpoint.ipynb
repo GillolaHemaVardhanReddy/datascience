{
 "cells": [
  {
   "cell_type": "markdown",
   "id": "2c6f50c1",
   "metadata": {},
   "source": [
    "# object oriented programming"
   ]
  },
  {
   "cell_type": "markdown",
   "id": "26b4f8bf",
   "metadata": {},
   "source": [
    "in oops **classes** and their **objects** plays main role  \n",
    "every **class** has their own **attributes** and **methods**  \n",
    "identifying the attributes and methods is important  \n",
    "class is a **blueprint** and objects are its **instances**\n",
    "\n",
    "object is created by syntax : carobject = carBluePrint()"
   ]
  },
  {
   "cell_type": "markdown",
   "id": "046924e8",
   "metadata": {},
   "source": [
    "## coffee machine project in oops"
   ]
  },
  {
   "cell_type": "code",
   "execution_count": 1,
   "id": "a831ec59",
   "metadata": {},
   "outputs": [],
   "source": [
    "class Resource:\n",
    "    \"\"\"this Resource class is used to add more resources along with their quantities\"\"\"\n",
    "    def __init__(self):\n",
    "        self.resources = {\n",
    "            \"water\": 300,\n",
    "            \"milk\": 200,\n",
    "            \"coffee\": 100,\n",
    "        }\n",
    "    \n",
    "    def get_resources(self):\n",
    "        \"\"\"Returns the current resources and their quantities.\"\"\"\n",
    "        ans = []\n",
    "        for key in self.resources:\n",
    "            ans.append(f\"{key} is {self.resources[key]}.Ltrs\")\n",
    "        return ans\n",
    "    def sufficient(self,drink):\n",
    "        \"\"\"Returns if ingredients are sufficient or not as boolean value\"\"\"\n",
    "        for key in self.resources:\n",
    "            if self.resources[key] < drink[key]:\n",
    "                print(f\"{key} is insufficient\")\n",
    "                return 0\n",
    "        return 1\n",
    "    def make_drink(self, drink):\n",
    "        \"\"\"Reduces the ingredients and returns.\"\"\"\n",
    "        for key, amount in drink.items():\n",
    "            self.resources[key] -= amount"
   ]
  },
  {
   "cell_type": "code",
   "execution_count": 2,
   "id": "44ec0daa",
   "metadata": {},
   "outputs": [],
   "source": [
    "class MenuItem:\n",
    "    \"\"\"Models each Menu Item.\"\"\"\n",
    "    def __init__(self, name, water, milk, coffee, cost):\n",
    "        self.name = name\n",
    "        self.cost = cost\n",
    "        self.ingredients = {\n",
    "            \"water\": water,\n",
    "            \"milk\": milk,\n",
    "            \"coffee\": coffee\n",
    "        }\n",
    "    def get_item(self):\n",
    "        return {\n",
    "            \"name\": self.name,\n",
    "            \"cost\": self.cost,\n",
    "            \"ingredients\": self.ingredients\n",
    "        }"
   ]
  },
  {
   "cell_type": "code",
   "execution_count": 3,
   "id": "89b01c81",
   "metadata": {},
   "outputs": [],
   "source": [
    "class Menu:\n",
    "    \"\"\"Models the Menu with drinks.\"\"\"\n",
    "    def __init__(self):\n",
    "        self.menu_items  = [\n",
    "            MenuItem(name=\"latte\", water=200, milk=150, coffee=24, cost=2.5),\n",
    "            MenuItem(name=\"espresso\", water=50, milk=0, coffee=18, cost=1.5),\n",
    "            MenuItem(name=\"cappuccino\", water=250, milk=50, coffee=24, cost=3),\n",
    "        ]\n",
    "\n",
    "    def get_items(self):\n",
    "        \"\"\"Returns all the names of the available menu items.\"\"\"\n",
    "        options = \"/\".join(item.name for item in self.menu_items)\n",
    "        return options\n",
    "    def find_drink(self, name):\n",
    "        \"\"\"Finds a drink by name.\"\"\"\n",
    "        for item in self.menu_items:\n",
    "            if item.name == name:\n",
    "                return item\n",
    "        print(\"Sorry, that item is not available.\")\n",
    "        return None"
   ]
  },
  {
   "cell_type": "code",
   "execution_count": 4,
   "id": "e029bc8c",
   "metadata": {},
   "outputs": [],
   "source": [
    "# Remember that quarters = $0.25, dimes = $0.10, nickles = $0.05, pennies = $0.01"
   ]
  },
  {
   "cell_type": "code",
   "execution_count": 12,
   "id": "1325331b",
   "metadata": {},
   "outputs": [],
   "source": [
    "class Money:\n",
    "    \"\"\"Handles monetary transactions for drink purchases.\"\"\"\n",
    "    \n",
    "    def __init__(self):\n",
    "        self.value = {\n",
    "            \"quarters\": 0.25,\n",
    "            \"dimes\": 0.10,\n",
    "            \"nickels\": 0.05,\n",
    "            \"pennies\": 0.01\n",
    "        }\n",
    "    \n",
    "    def calculate_total(self, coins):\n",
    "        \"\"\"Calculates the total amount of money based on the provided coins.\"\"\"\n",
    "        total_amount = sum(self.value[coin] * count for coin, count in coins.items())\n",
    "        return total_amount\n",
    "    \n",
    "    def process_transaction(self, paid, cost):\n",
    "        \"\"\"Checks if the paid amount is sufficient, returns balance if any, and handles refunds.\"\"\"\n",
    "        if paid < cost:\n",
    "            print(f\"Not sufficient amount. Money refunded: ${paid:.2f}\")\n",
    "            return False\n",
    "        elif paid > cost:\n",
    "            change = paid - cost\n",
    "            print(f\"Paid extra. Money refunded: ${change:.2f}\")\n",
    "            return True\n",
    "        else:\n",
    "            print(\"Transaction successful.\")\n",
    "            return True"
   ]
  },
  {
   "cell_type": "code",
   "execution_count": 13,
   "id": "29a50fb7",
   "metadata": {},
   "outputs": [],
   "source": [
    "def main():\n",
    "    resources = Resource()\n",
    "    menu = Menu()\n",
    "    money = Money()\n",
    "    while True:\n",
    "        inp = input(f'What would you like? ({menu.get_items()}): ').lower()\n",
    "        if inp == \"off\":\n",
    "            break\n",
    "        elif inp == \"report\":\n",
    "            for resource in resources.get_resources():\n",
    "                print(resource)\n",
    "        else:\n",
    "            drink = menu.find_drink(inp)\n",
    "            if drink:\n",
    "                if resources.sufficient(drink.ingredients):\n",
    "                    coins = {}\n",
    "                    print(\"Please insert the money: \")\n",
    "                    for key in money.value:\n",
    "                        coins[key] = int(input(f\"Enter no.of {key}: \"))\n",
    "                    val = money.calculate_total(coins)\n",
    "                    if money.process_transaction(val,drink.cost) :\n",
    "                        resources.make_drink(drink.ingredients)\n",
    "                        print(f\"Here is your {drink.name}. Enjoy!\")"
   ]
  },
  {
   "cell_type": "code",
   "execution_count": 14,
   "id": "45613b08",
   "metadata": {},
   "outputs": [
    {
     "name": "stdout",
     "output_type": "stream",
     "text": [
      "What would you like? (latte/espresso/cappuccino): report\n",
      "water is 300.Ltrs\n",
      "milk is 200.Ltrs\n",
      "coffee is 100.Ltrs\n",
      "What would you like? (latte/espresso/cappuccino): espresso\n",
      "Please insert the money: \n",
      "Enter no.of quarters: 10\n",
      "Enter no.of dimes: 10\n",
      "Enter no.of nickels: 10\n",
      "Enter no.of pennies: 10\n",
      "Paid extra. Money refunded: $2.60\n",
      "Here is your espresso. Enjoy!\n",
      "What would you like? (latte/espresso/cappuccino): report\n",
      "water is 250.Ltrs\n",
      "milk is 200.Ltrs\n",
      "coffee is 82.Ltrs\n",
      "What would you like? (latte/espresso/cappuccino): off\n"
     ]
    }
   ],
   "source": [
    "if __name__ == \"__main__\":\n",
    "    main()"
   ]
  },
  {
   "cell_type": "code",
   "execution_count": null,
   "id": "4c159f62",
   "metadata": {},
   "outputs": [],
   "source": []
  }
 ],
 "metadata": {
  "kernelspec": {
   "display_name": "Python 3 (ipykernel)",
   "language": "python",
   "name": "python3"
  },
  "language_info": {
   "codemirror_mode": {
    "name": "ipython",
    "version": 3
   },
   "file_extension": ".py",
   "mimetype": "text/x-python",
   "name": "python",
   "nbconvert_exporter": "python",
   "pygments_lexer": "ipython3",
   "version": "3.11.1"
  }
 },
 "nbformat": 4,
 "nbformat_minor": 5
}
