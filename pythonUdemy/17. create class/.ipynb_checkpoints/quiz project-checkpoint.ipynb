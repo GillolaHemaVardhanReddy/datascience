{
 "cells": [
  {
   "cell_type": "markdown",
   "id": "f9df21f9",
   "metadata": {},
   "source": [
    "# Quiz Project day 17"
   ]
  },
  {
   "cell_type": "code",
   "execution_count": 1,
   "id": "199460b8",
   "metadata": {},
   "outputs": [],
   "source": [
    "from data import question_data as d"
   ]
  },
  {
   "cell_type": "code",
   "execution_count": 3,
   "id": "a589ef3f",
   "metadata": {},
   "outputs": [],
   "source": [
    "class Question:\n",
    "    \"\"\"this class is blueprint for creating questions anlong with a predefined answer\"\"\"\n",
    "    def __init__(self, text, answer):\n",
    "        self.text = text\n",
    "        self.answer = answer\n",
    "    \n",
    "    def check_answer(self, submitted):\n",
    "        return self.answer == submitted"
   ]
  },
  {
   "cell_type": "code",
   "execution_count": 14,
   "id": "7a3db88c",
   "metadata": {},
   "outputs": [],
   "source": [
    "question_bank = []\n",
    "for item in d:\n",
    "    question_bank.append(Question(item['text'],item['answer']))"
   ]
  },
  {
   "cell_type": "code",
   "execution_count": 37,
   "id": "0355b8de",
   "metadata": {},
   "outputs": [],
   "source": [
    "class QuizBrain:\n",
    "    \"\"\"this class is used to check answer is correct and takes in attributes as question number and list of questions\"\"\"\n",
    "    def __init__(self, question_list):\n",
    "        self.q_no = 0\n",
    "        self.q_list = question_list\n",
    "        self.score = 0\n",
    "        \n",
    "    def still_has_questions(self):\n",
    "        return self.q_no < len(self.q_list)\n",
    "    \n",
    "    def next_question(self):\n",
    "        q = self.q_list[self.q_no]\n",
    "        self.q_no += 1\n",
    "        ans = input(f\"Q.{self.q_no}: {q.text} (True/False): \")\n",
    "        self.check_answer(ans,q.answer)\n",
    "        \n",
    "    def check_answer(self,submit,answer):\n",
    "        if submit.lower()==answer.lower() :\n",
    "            print(\"Right answer\")\n",
    "            self.score+=1\n",
    "        else:\n",
    "            print(\"Wrong answer\")\n",
    "        print(\"Right answer is :\",answer)\n",
    "        print(\"Your score is: {} / {}\".format(self.score,self.q_no))\n",
    "        print('\\n\\n')"
   ]
  },
  {
   "cell_type": "code",
   "execution_count": 38,
   "id": "e32bc512",
   "metadata": {},
   "outputs": [],
   "source": [
    "quiz = QuizBrain(question_bank)"
   ]
  },
  {
   "cell_type": "code",
   "execution_count": null,
   "id": "4e7bd694",
   "metadata": {},
   "outputs": [],
   "source": [
    "while quiz.still_has_questions():\n",
    "    quiz.next_question()\n",
    "print(\"you've completed all questions successfully\")\n",
    "print(\"your total score is {} / {}\".format(quiz.score,quiz.q_no))"
   ]
  }
 ],
 "metadata": {
  "kernelspec": {
   "display_name": "Python 3 (ipykernel)",
   "language": "python",
   "name": "python3"
  },
  "language_info": {
   "codemirror_mode": {
    "name": "ipython",
    "version": 3
   },
   "file_extension": ".py",
   "mimetype": "text/x-python",
   "name": "python",
   "nbconvert_exporter": "python",
   "pygments_lexer": "ipython3",
   "version": "3.11.1"
  }
 },
 "nbformat": 4,
 "nbformat_minor": 5
}
