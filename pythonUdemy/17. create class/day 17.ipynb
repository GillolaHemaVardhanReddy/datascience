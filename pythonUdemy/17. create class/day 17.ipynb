{
 "cells": [
  {
   "cell_type": "markdown",
   "id": "3662f3a8",
   "metadata": {},
   "source": [
    "# class\n",
    "\n",
    "**class** is a blueprint\n",
    "\n",
    "creating class syntax:\n",
    "\n",
    "class ClassName:\n",
    "\n",
    "## RULES\n",
    "\n",
    "1. PascalCase: name of the class must have everyword starting letter as capital eg. CapitalProfit"
   ]
  },
  {
   "cell_type": "code",
   "execution_count": 4,
   "id": "9d413371",
   "metadata": {},
   "outputs": [],
   "source": [
    "class User:\n",
    "    pass"
   ]
  },
  {
   "cell_type": "markdown",
   "id": "d1d81347",
   "metadata": {},
   "source": [
    "# Attributes\n",
    "\n",
    "**attributes** can be directly created using an object eg. object.new_attribute = val"
   ]
  },
  {
   "cell_type": "code",
   "execution_count": 7,
   "id": "a2799f93",
   "metadata": {},
   "outputs": [],
   "source": [
    "user1 = User()\n",
    "user1.name = \"hema\"\n",
    "user1.age = 21"
   ]
  },
  {
   "cell_type": "code",
   "execution_count": 8,
   "id": "663e3358",
   "metadata": {
    "scrolled": true
   },
   "outputs": [
    {
     "name": "stdout",
     "output_type": "stream",
     "text": [
      "User name is hema and his age is 21\n"
     ]
    }
   ],
   "source": [
    "print(f\"User name is {user1.name} and his age is {user1.age}\")"
   ]
  },
  {
   "cell_type": "markdown",
   "id": "44bc80b4",
   "metadata": {},
   "source": [
    "# Constructors\n",
    "\n",
    "**constructors** are used to manage attributes while creating an object\n",
    "\n",
    "instead of creating attributes manually like above we can just create them using constructor \n",
    "\n",
    "constructor is a part of class which decides what should happen when our object is created\n",
    "\n",
    "we create the constructor using a **special function** \\__init__(self,parameter1,parameter2,parameter3...)  \n",
    "This init function is called every time when we construct an object \n",
    "\n",
    "**self** referes to the current object"
   ]
  },
  {
   "cell_type": "code",
   "execution_count": 16,
   "id": "a709bbce",
   "metadata": {},
   "outputs": [],
   "source": [
    "class User:\n",
    "    def __init__(self,uid,uname):\n",
    "        self.uid = uid\n",
    "        self.uname = uname"
   ]
  },
  {
   "cell_type": "code",
   "execution_count": 18,
   "id": "e987c5c0",
   "metadata": {},
   "outputs": [],
   "source": [
    "user1 = User(20,\"hema\")"
   ]
  },
  {
   "cell_type": "code",
   "execution_count": 20,
   "id": "4647fea7",
   "metadata": {},
   "outputs": [
    {
     "name": "stdout",
     "output_type": "stream",
     "text": [
      "hema\n"
     ]
    }
   ],
   "source": [
    "print(user1.uname)"
   ]
  },
  {
   "cell_type": "markdown",
   "id": "659bb381",
   "metadata": {},
   "source": [
    "# Methods"
   ]
  },
  {
   "cell_type": "code",
   "execution_count": 21,
   "id": "18cffd89",
   "metadata": {},
   "outputs": [],
   "source": [
    "class User:\n",
    "    def __init__(self,uid,uname):\n",
    "        self.uid = uid\n",
    "        self.uname = uname\n",
    "        self.followers = 0\n",
    "        self.following = 0\n",
    "        \n",
    "    def follow(self,user):\n",
    "        user.followers += 1  \n",
    "        self.following += 1"
   ]
  },
  {
   "cell_type": "code",
   "execution_count": 28,
   "id": "2bf482a6",
   "metadata": {},
   "outputs": [
    {
     "name": "stdout",
     "output_type": "stream",
     "text": [
      "0\n",
      "0\n"
     ]
    }
   ],
   "source": [
    "user1 = User(122,\"hema\")\n",
    "print(user1.following)\n",
    "print(user1.followers)"
   ]
  },
  {
   "cell_type": "code",
   "execution_count": 29,
   "id": "1f82d60d",
   "metadata": {},
   "outputs": [
    {
     "name": "stdout",
     "output_type": "stream",
     "text": [
      "0\n",
      "0\n"
     ]
    }
   ],
   "source": [
    "user2 = User(123,\"raju\")\n",
    "print(user2.following)\n",
    "print(user2.followers)"
   ]
  },
  {
   "cell_type": "code",
   "execution_count": 30,
   "id": "2dae6940",
   "metadata": {},
   "outputs": [],
   "source": [
    "user1.follow(user2)"
   ]
  },
  {
   "cell_type": "code",
   "execution_count": 31,
   "id": "dbce4862",
   "metadata": {},
   "outputs": [
    {
     "name": "stdout",
     "output_type": "stream",
     "text": [
      "0\n",
      "1\n",
      "1\n",
      "0\n"
     ]
    }
   ],
   "source": [
    "print(user2.following)\n",
    "print(user2.followers)\n",
    "print(user1.following)\n",
    "print(user1.followers)"
   ]
  },
  {
   "cell_type": "code",
   "execution_count": null,
   "id": "bfe04fe5",
   "metadata": {},
   "outputs": [],
   "source": []
  }
 ],
 "metadata": {
  "kernelspec": {
   "display_name": "Python 3 (ipykernel)",
   "language": "python",
   "name": "python3"
  },
  "language_info": {
   "codemirror_mode": {
    "name": "ipython",
    "version": 3
   },
   "file_extension": ".py",
   "mimetype": "text/x-python",
   "name": "python",
   "nbconvert_exporter": "python",
   "pygments_lexer": "ipython3",
   "version": "3.11.1"
  }
 },
 "nbformat": 4,
 "nbformat_minor": 5
}
