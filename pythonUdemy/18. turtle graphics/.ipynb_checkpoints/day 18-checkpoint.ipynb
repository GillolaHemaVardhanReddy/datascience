{
 "cells": [
  {
   "cell_type": "markdown",
   "id": "0990790f",
   "metadata": {},
   "source": [
    "# python Turtle\n",
    "\n",
    "first import the Turtle class from turtle module\n",
    "\n",
    "**from module import className1,className2,..**"
   ]
  },
  {
   "cell_type": "code",
   "execution_count": 1,
   "id": "900da8d8",
   "metadata": {},
   "outputs": [],
   "source": [
    "from turtle import Turtle, Screen"
   ]
  },
  {
   "cell_type": "markdown",
   "id": "6bcb52c6",
   "metadata": {},
   "source": [
    "#### use the class Turtle to create object\n",
    "\n",
    "it helps us draw and works as a pencil\n",
    "\n",
    "#### and also cretae object for Screen\n",
    "\n",
    "it helps us to visualize the drawings on a separate screen"
   ]
  },
  {
   "cell_type": "code",
   "execution_count": 6,
   "id": "c25a8a4c",
   "metadata": {},
   "outputs": [],
   "source": [
    "pencil = Turtle() # a screen appears to sustain it and watch the drawings we use Screen at end\n",
    "pencil.shape(\"turtle\")"
   ]
  },
  {
   "cell_type": "code",
   "execution_count": 7,
   "id": "c0ebc152",
   "metadata": {},
   "outputs": [],
   "source": [
    "screen = Screen()\n",
    "screen.exitonclick() # close the drawing screen on click ony"
   ]
  }
 ],
 "metadata": {
  "kernelspec": {
   "display_name": "Python 3 (ipykernel)",
   "language": "python",
   "name": "python3"
  },
  "language_info": {
   "codemirror_mode": {
    "name": "ipython",
    "version": 3
   },
   "file_extension": ".py",
   "mimetype": "text/x-python",
   "name": "python",
   "nbconvert_exporter": "python",
   "pygments_lexer": "ipython3",
   "version": "3.11.1"
  }
 },
 "nbformat": 4,
 "nbformat_minor": 5
}
