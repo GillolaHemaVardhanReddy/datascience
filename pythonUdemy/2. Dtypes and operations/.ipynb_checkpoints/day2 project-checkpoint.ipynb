{
 "cells": [
  {
   "cell_type": "markdown",
   "id": "b7830f14",
   "metadata": {},
   "source": [
    "# TIP calculator"
   ]
  },
  {
   "cell_type": "code",
   "execution_count": 1,
   "id": "34fed5e8",
   "metadata": {
    "scrolled": true
   },
   "outputs": [
    {
     "name": "stdout",
     "output_type": "stream",
     "text": [
      "welcome to the tip calculator\n",
      "what was the total bill? 120\n",
      "how much tip would you give : 20\n",
      "how many people will split the bill? 7\n",
      "each person should pay is :  20.0\n"
     ]
    }
   ],
   "source": [
    "print(\"welcome to the tip calculator\")\n",
    "p = int(input(\"what was the total bill? \"))\n",
    "x = int(input(\"how much tip would you give : \"))\n",
    "p = p + x\n",
    "s = int(input(\"how many people will split the bill? \"))\n",
    "ans = p / s \n",
    "print(\"each person should pay is : \",ans)"
   ]
  }
 ],
 "metadata": {
  "kernelspec": {
   "display_name": "Python 3 (ipykernel)",
   "language": "python",
   "name": "python3"
  },
  "language_info": {
   "codemirror_mode": {
    "name": "ipython",
    "version": 3
   },
   "file_extension": ".py",
   "mimetype": "text/x-python",
   "name": "python",
   "nbconvert_exporter": "python",
   "pygments_lexer": "ipython3",
   "version": "3.11.1"
  }
 },
 "nbformat": 4,
 "nbformat_minor": 5
}
