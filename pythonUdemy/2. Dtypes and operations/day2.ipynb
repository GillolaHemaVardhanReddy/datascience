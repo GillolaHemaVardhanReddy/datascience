{
 "cells": [
  {
   "cell_type": "markdown",
   "id": "da5922e7",
   "metadata": {},
   "source": [
    "# premitive data types\n",
    "\n",
    "1. string\n",
    "2. integer\n",
    "3. float\n",
    "4. boolean"
   ]
  },
  {
   "cell_type": "markdown",
   "id": "4964b3f6",
   "metadata": {},
   "source": [
    "## string subscripting  \n",
    "it is just like accessing charecters in a string with indexes  \n",
    "variablename[index]"
   ]
  },
  {
   "cell_type": "code",
   "execution_count": 1,
   "id": "0a3c7686",
   "metadata": {},
   "outputs": [
    {
     "data": {
      "text/plain": [
       "'n'"
      ]
     },
     "execution_count": 1,
     "metadata": {},
     "output_type": "execute_result"
    }
   ],
   "source": [
    "x = \"nepolean\"\n",
    "x[0]"
   ]
  },
  {
   "cell_type": "markdown",
   "id": "e5199420",
   "metadata": {},
   "source": [
    "# integers"
   ]
  },
  {
   "cell_type": "code",
   "execution_count": 2,
   "id": "987e856c",
   "metadata": {},
   "outputs": [
    {
     "data": {
      "text/plain": [
       "35"
      ]
     },
     "execution_count": 2,
     "metadata": {},
     "output_type": "execute_result"
    }
   ],
   "source": [
    "x = 12\n",
    "y = 23\n",
    "x+y"
   ]
  },
  {
   "cell_type": "markdown",
   "id": "100d900b",
   "metadata": {},
   "source": [
    "### representing large integers"
   ]
  },
  {
   "cell_type": "code",
   "execution_count": 3,
   "id": "8cc3a0b7",
   "metadata": {},
   "outputs": [
    {
     "data": {
      "text/plain": [
       "123234456"
      ]
     },
     "execution_count": 3,
     "metadata": {},
     "output_type": "execute_result"
    }
   ],
   "source": [
    "x = 123_234_456\n",
    "x"
   ]
  },
  {
   "cell_type": "markdown",
   "id": "abd74b18",
   "metadata": {},
   "source": [
    "# Float"
   ]
  },
  {
   "cell_type": "code",
   "execution_count": 4,
   "id": "e10a7965",
   "metadata": {},
   "outputs": [
    {
     "data": {
      "text/plain": [
       "3.45"
      ]
     },
     "execution_count": 4,
     "metadata": {},
     "output_type": "execute_result"
    }
   ],
   "source": [
    "x = 3.45\n",
    "x"
   ]
  },
  {
   "cell_type": "markdown",
   "id": "1c5d9fd2",
   "metadata": {},
   "source": [
    "# boolean"
   ]
  },
  {
   "cell_type": "code",
   "execution_count": 5,
   "id": "de1341d4",
   "metadata": {},
   "outputs": [],
   "source": [
    "x = True\n",
    "y = False"
   ]
  },
  {
   "cell_type": "code",
   "execution_count": 6,
   "id": "2a69c441",
   "metadata": {},
   "outputs": [
    {
     "data": {
      "text/plain": [
       "True"
      ]
     },
     "execution_count": 6,
     "metadata": {},
     "output_type": "execute_result"
    }
   ],
   "source": [
    "x"
   ]
  },
  {
   "cell_type": "code",
   "execution_count": 7,
   "id": "102d093b",
   "metadata": {},
   "outputs": [
    {
     "data": {
      "text/plain": [
       "False"
      ]
     },
     "execution_count": 7,
     "metadata": {},
     "output_type": "execute_result"
    }
   ],
   "source": [
    "y"
   ]
  },
  {
   "cell_type": "markdown",
   "id": "e3946289",
   "metadata": {},
   "source": [
    "# type casting\n",
    "\n",
    "to check type of data use : type(variable)"
   ]
  },
  {
   "cell_type": "code",
   "execution_count": 8,
   "id": "2d3cf9c4",
   "metadata": {},
   "outputs": [
    {
     "data": {
      "text/plain": [
       "bool"
      ]
     },
     "execution_count": 8,
     "metadata": {},
     "output_type": "execute_result"
    }
   ],
   "source": [
    "type(x)"
   ]
  },
  {
   "cell_type": "code",
   "execution_count": 11,
   "id": "7176c14d",
   "metadata": {},
   "outputs": [
    {
     "data": {
      "text/plain": [
       "12"
      ]
     },
     "execution_count": 11,
     "metadata": {},
     "output_type": "execute_result"
    }
   ],
   "source": [
    "x = \"12\"\n",
    "int(x)"
   ]
  },
  {
   "cell_type": "markdown",
   "id": "7f5ae04f",
   "metadata": {},
   "source": [
    "#### can't cast real string"
   ]
  },
  {
   "cell_type": "code",
   "execution_count": 12,
   "id": "0be83b83",
   "metadata": {},
   "outputs": [
    {
     "ename": "ValueError",
     "evalue": "invalid literal for int() with base 10: 'hello'",
     "output_type": "error",
     "traceback": [
      "\u001b[1;31m---------------------------------------------------------------------------\u001b[0m",
      "\u001b[1;31mValueError\u001b[0m                                Traceback (most recent call last)",
      "Cell \u001b[1;32mIn[12], line 2\u001b[0m\n\u001b[0;32m      1\u001b[0m x \u001b[38;5;241m=\u001b[39m \u001b[38;5;124m\"\u001b[39m\u001b[38;5;124mhello\u001b[39m\u001b[38;5;124m\"\u001b[39m\n\u001b[1;32m----> 2\u001b[0m \u001b[38;5;28;43mint\u001b[39;49m\u001b[43m(\u001b[49m\u001b[43mx\u001b[49m\u001b[43m)\u001b[49m\n",
      "\u001b[1;31mValueError\u001b[0m: invalid literal for int() with base 10: 'hello'"
     ]
    }
   ],
   "source": [
    "x = \"hello\"\n",
    "int(x)"
   ]
  },
  {
   "cell_type": "markdown",
   "id": "7003dc40",
   "metadata": {},
   "source": [
    "# operations"
   ]
  },
  {
   "cell_type": "code",
   "execution_count": 20,
   "id": "e6b8a1c5",
   "metadata": {},
   "outputs": [],
   "source": [
    "x = 16\n",
    "y = 6"
   ]
  },
  {
   "cell_type": "code",
   "execution_count": 21,
   "id": "74216357",
   "metadata": {},
   "outputs": [
    {
     "data": {
      "text/plain": [
       "2.6666666666666665"
      ]
     },
     "execution_count": 21,
     "metadata": {},
     "output_type": "execute_result"
    }
   ],
   "source": [
    "x/y # returns float"
   ]
  },
  {
   "cell_type": "code",
   "execution_count": 22,
   "id": "ff693798",
   "metadata": {},
   "outputs": [
    {
     "data": {
      "text/plain": [
       "2"
      ]
     },
     "execution_count": 22,
     "metadata": {},
     "output_type": "execute_result"
    }
   ],
   "source": [
    "x//y # returns int floor"
   ]
  },
  {
   "cell_type": "code",
   "execution_count": 23,
   "id": "b056a292",
   "metadata": {},
   "outputs": [
    {
     "data": {
      "text/plain": [
       "4"
      ]
     },
     "execution_count": 23,
     "metadata": {},
     "output_type": "execute_result"
    }
   ],
   "source": [
    "2**2"
   ]
  },
  {
   "cell_type": "markdown",
   "id": "a69141dd",
   "metadata": {},
   "source": [
    "# BMI CALCULATOR\n",
    "\n",
    "BMI = weight/height^2"
   ]
  },
  {
   "cell_type": "code",
   "execution_count": 25,
   "id": "dc0c5d7b",
   "metadata": {},
   "outputs": [
    {
     "name": "stdout",
     "output_type": "stream",
     "text": [
      "enter your height: 6\n",
      "enter your weight: 36\n",
      "Your BMI is :  1.0\n"
     ]
    }
   ],
   "source": [
    "height = int(input(\"enter your height: \"))\n",
    "weight = int(input(\"enter your weight: \"))\n",
    "print(\"Your BMI is : \", weight/height**2)"
   ]
  },
  {
   "cell_type": "markdown",
   "id": "dad4d3b1",
   "metadata": {},
   "source": [
    "# F string"
   ]
  },
  {
   "cell_type": "code",
   "execution_count": 26,
   "id": "ca5a6870",
   "metadata": {},
   "outputs": [
    {
     "name": "stdout",
     "output_type": "stream",
     "text": [
      "your height is 6 and your weight is 36\n"
     ]
    }
   ],
   "source": [
    "print(f\"your height is {height} and your weight is {weight}\")"
   ]
  }
 ],
 "metadata": {
  "kernelspec": {
   "display_name": "Python 3 (ipykernel)",
   "language": "python",
   "name": "python3"
  },
  "language_info": {
   "codemirror_mode": {
    "name": "ipython",
    "version": 3
   },
   "file_extension": ".py",
   "mimetype": "text/x-python",
   "name": "python",
   "nbconvert_exporter": "python",
   "pygments_lexer": "ipython3",
   "version": "3.11.1"
  }
 },
 "nbformat": 4,
 "nbformat_minor": 5
}
