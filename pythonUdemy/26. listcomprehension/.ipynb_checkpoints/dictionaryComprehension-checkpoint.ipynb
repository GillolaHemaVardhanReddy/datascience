{
 "cells": [
  {
   "cell_type": "markdown",
   "id": "e19e21d9",
   "metadata": {},
   "source": [
    "# Dictionary Comprehension\n",
    "\n",
    "creating dictionary using list: syntax\n",
    "\n",
    "new_dict = {new_key:new_value for item in list}\n",
    "\n",
    "\n",
    "new_dict = {new_key:new_value for item in list if text}\n",
    "\n",
    "\n",
    "creating dictionary using other dictionary : syntax\n",
    "\n",
    "new_dict = {new_key:new_val for (key,value) in dict.items()}\n",
    "\n",
    "new_dict = {new_key:new_val for (key,value) in dict.items() if test}"
   ]
  },
  {
   "cell_type": "markdown",
   "id": "2c9bf382",
   "metadata": {},
   "source": [
    "#### dictionary using list "
   ]
  },
  {
   "cell_type": "code",
   "execution_count": 6,
   "id": "f8366ba1",
   "metadata": {},
   "outputs": [],
   "source": [
    "x = [\"hema\",\"rajesh\",\"jagan\",\"abhi\",\"arun\",\"vishnu\",\"rakesh\"]"
   ]
  },
  {
   "cell_type": "code",
   "execution_count": 7,
   "id": "e3cc9ced",
   "metadata": {},
   "outputs": [],
   "source": [
    "import random as rd"
   ]
  },
  {
   "cell_type": "code",
   "execution_count": 8,
   "id": "b501c08e",
   "metadata": {},
   "outputs": [],
   "source": [
    "newdict = {name:rd.randint(1,100) for name in x}"
   ]
  },
  {
   "cell_type": "code",
   "execution_count": 9,
   "id": "ad8845ba",
   "metadata": {},
   "outputs": [
    {
     "data": {
      "text/plain": [
       "{'hema': 3,\n",
       " 'rajesh': 14,\n",
       " 'jagan': 5,\n",
       " 'abhi': 81,\n",
       " 'arun': 44,\n",
       " 'vishnu': 93,\n",
       " 'rakesh': 56}"
      ]
     },
     "execution_count": 9,
     "metadata": {},
     "output_type": "execute_result"
    }
   ],
   "source": [
    "newdict"
   ]
  },
  {
   "cell_type": "markdown",
   "id": "e17499ef",
   "metadata": {},
   "source": [
    "#### dictionary using dictionary"
   ]
  },
  {
   "cell_type": "code",
   "execution_count": 11,
   "id": "8840aeb0",
   "metadata": {},
   "outputs": [
    {
     "data": {
      "text/plain": [
       "{'abhi': 81, 'arun': 44, 'vishnu': 93, 'rakesh': 56}"
      ]
     },
     "execution_count": 11,
     "metadata": {},
     "output_type": "execute_result"
    }
   ],
   "source": [
    "passed = {name:marks for (name,marks) in newdict.items() if marks>41}\n",
    "passed"
   ]
  },
  {
   "cell_type": "markdown",
   "id": "593a6beb",
   "metadata": {},
   "source": [
    "# challenge 1:\n",
    "\n",
    "take input string sentence create dictionary with words and its lengths of sentence"
   ]
  },
  {
   "cell_type": "code",
   "execution_count": 12,
   "id": "ada99244",
   "metadata": {},
   "outputs": [],
   "source": [
    "x = \"hello jane are you really into this kinda work\""
   ]
  },
  {
   "cell_type": "code",
   "execution_count": 14,
   "id": "92c273ed",
   "metadata": {},
   "outputs": [],
   "source": [
    "y = x.split(\" \")"
   ]
  },
  {
   "cell_type": "code",
   "execution_count": 15,
   "id": "4e189280",
   "metadata": {},
   "outputs": [],
   "source": [
    "d = {word:len(word) for word in y}"
   ]
  },
  {
   "cell_type": "code",
   "execution_count": 16,
   "id": "1e5265cf",
   "metadata": {},
   "outputs": [
    {
     "data": {
      "text/plain": [
       "{'hello': 5,\n",
       " 'jane': 4,\n",
       " 'are': 3,\n",
       " 'you': 3,\n",
       " 'really': 6,\n",
       " 'into': 4,\n",
       " 'this': 4,\n",
       " 'kinda': 5,\n",
       " 'work': 4}"
      ]
     },
     "execution_count": 16,
     "metadata": {},
     "output_type": "execute_result"
    }
   ],
   "source": [
    "d"
   ]
  }
 ],
 "metadata": {
  "kernelspec": {
   "display_name": "Python 3 (ipykernel)",
   "language": "python",
   "name": "python3"
  },
  "language_info": {
   "codemirror_mode": {
    "name": "ipython",
    "version": 3
   },
   "file_extension": ".py",
   "mimetype": "text/x-python",
   "name": "python",
   "nbconvert_exporter": "python",
   "pygments_lexer": "ipython3",
   "version": "3.11.1"
  }
 },
 "nbformat": 4,
 "nbformat_minor": 5
}
