{
 "cells": [
  {
   "cell_type": "markdown",
   "id": "e873eb45",
   "metadata": {},
   "source": [
    "# list comprehension\n",
    "\n",
    "newlist = [newitem for item in list]"
   ]
  },
  {
   "cell_type": "code",
   "execution_count": 1,
   "id": "3ac0a5f4",
   "metadata": {},
   "outputs": [],
   "source": [
    "num = [1,2,3,4]"
   ]
  },
  {
   "cell_type": "markdown",
   "id": "dc646767",
   "metadata": {},
   "source": [
    "adding 1 to all elemets of num list and creating new list named newlist"
   ]
  },
  {
   "cell_type": "code",
   "execution_count": 2,
   "id": "29e48e9d",
   "metadata": {},
   "outputs": [
    {
     "name": "stdout",
     "output_type": "stream",
     "text": [
      "[2, 3, 4, 5]\n"
     ]
    }
   ],
   "source": [
    "newlist = []\n",
    "for x in num:\n",
    "    newlist.append(x+1)\n",
    "print(newlist)"
   ]
  },
  {
   "cell_type": "markdown",
   "id": "3955b98d",
   "metadata": {},
   "source": [
    "same above problem using list comprehension"
   ]
  },
  {
   "cell_type": "code",
   "execution_count": 3,
   "id": "7079753a",
   "metadata": {},
   "outputs": [
    {
     "name": "stdout",
     "output_type": "stream",
     "text": [
      "[2, 3, 4, 5]\n"
     ]
    }
   ],
   "source": [
    "newlist = [x+1 for x in num]\n",
    "print(newlist)"
   ]
  },
  {
   "cell_type": "markdown",
   "id": "38e51723",
   "metadata": {},
   "source": [
    "### using list comprehension on strings"
   ]
  },
  {
   "cell_type": "code",
   "execution_count": 4,
   "id": "e9e93d74",
   "metadata": {},
   "outputs": [],
   "source": [
    "x = \"hello\""
   ]
  },
  {
   "cell_type": "code",
   "execution_count": 5,
   "id": "81641c3d",
   "metadata": {},
   "outputs": [
    {
     "name": "stdout",
     "output_type": "stream",
     "text": [
      "['h', 'e', 'l', 'l', 'o']\n"
     ]
    }
   ],
   "source": [
    "y = [ch for ch in x]\n",
    "print(y)"
   ]
  },
  {
   "cell_type": "markdown",
   "id": "71a71241",
   "metadata": {},
   "source": [
    "### using list comprehension on tuples"
   ]
  },
  {
   "cell_type": "code",
   "execution_count": 10,
   "id": "f65a283b",
   "metadata": {},
   "outputs": [],
   "source": [
    "x = (1,2,3,4)"
   ]
  },
  {
   "cell_type": "code",
   "execution_count": 11,
   "id": "63a6e60b",
   "metadata": {},
   "outputs": [
    {
     "data": {
      "text/plain": [
       "[2, 3, 4, 5]"
      ]
     },
     "execution_count": 11,
     "metadata": {},
     "output_type": "execute_result"
    }
   ],
   "source": [
    "y = [n+1 for n in x]\n",
    "y"
   ]
  },
  {
   "cell_type": "markdown",
   "id": "a0350868",
   "metadata": {},
   "source": [
    "### using list comprehension on range"
   ]
  },
  {
   "cell_type": "code",
   "execution_count": 12,
   "id": "9dfd24b5",
   "metadata": {},
   "outputs": [],
   "source": [
    "y = [n for n in range(1,10,2)]"
   ]
  },
  {
   "cell_type": "code",
   "execution_count": 13,
   "id": "ba455105",
   "metadata": {},
   "outputs": [
    {
     "data": {
      "text/plain": [
       "[1, 3, 5, 7, 9]"
      ]
     },
     "execution_count": 13,
     "metadata": {},
     "output_type": "execute_result"
    }
   ],
   "source": [
    "y"
   ]
  },
  {
   "cell_type": "markdown",
   "id": "a22e284d",
   "metadata": {},
   "source": [
    "# conditional list comprehension\n",
    "\n",
    "newlist = [newitem for item in list if test]"
   ]
  },
  {
   "cell_type": "code",
   "execution_count": 14,
   "id": "1137645a",
   "metadata": {},
   "outputs": [],
   "source": [
    "x = [1,12,3,5,7,20]"
   ]
  },
  {
   "cell_type": "markdown",
   "id": "cb119761",
   "metadata": {},
   "source": [
    "make a new list where each element is bigger than 5"
   ]
  },
  {
   "cell_type": "code",
   "execution_count": 15,
   "id": "c4906061",
   "metadata": {},
   "outputs": [
    {
     "data": {
      "text/plain": [
       "[12, 7, 20]"
      ]
     },
     "execution_count": 15,
     "metadata": {},
     "output_type": "execute_result"
    }
   ],
   "source": [
    "y = [n for n in x if n>5]\n",
    "y"
   ]
  },
  {
   "cell_type": "markdown",
   "id": "22b0d1ac",
   "metadata": {},
   "source": [
    "## challenge 1:\n",
    "\n",
    "create a list of squares from given list"
   ]
  },
  {
   "cell_type": "code",
   "execution_count": 20,
   "id": "2a017d49",
   "metadata": {},
   "outputs": [],
   "source": [
    "x = [1,1,3,4,4,5]"
   ]
  },
  {
   "cell_type": "code",
   "execution_count": 21,
   "id": "eb6194ef",
   "metadata": {},
   "outputs": [],
   "source": [
    "y = [n*n for n in x]"
   ]
  },
  {
   "cell_type": "code",
   "execution_count": 22,
   "id": "03fb07ff",
   "metadata": {},
   "outputs": [
    {
     "data": {
      "text/plain": [
       "[1, 1, 9, 16, 16, 25]"
      ]
     },
     "execution_count": 22,
     "metadata": {},
     "output_type": "execute_result"
    }
   ],
   "source": [
    "y"
   ]
  },
  {
   "cell_type": "markdown",
   "id": "8f94c1b9",
   "metadata": {},
   "source": [
    "## challenge 2:\n",
    "\n",
    "filter out even numbers"
   ]
  },
  {
   "cell_type": "code",
   "execution_count": 23,
   "id": "af942350",
   "metadata": {},
   "outputs": [],
   "source": [
    "x = [1,1,3,4,8,10,9]"
   ]
  },
  {
   "cell_type": "code",
   "execution_count": 24,
   "id": "d66221c2",
   "metadata": {},
   "outputs": [],
   "source": [
    "y = [n for n in x if not n&1]"
   ]
  },
  {
   "cell_type": "code",
   "execution_count": 25,
   "id": "0880352a",
   "metadata": {},
   "outputs": [
    {
     "data": {
      "text/plain": [
       "[4, 8, 10]"
      ]
     },
     "execution_count": 25,
     "metadata": {},
     "output_type": "execute_result"
    }
   ],
   "source": [
    "y"
   ]
  }
 ],
 "metadata": {
  "kernelspec": {
   "display_name": "Python 3 (ipykernel)",
   "language": "python",
   "name": "python3"
  },
  "language_info": {
   "codemirror_mode": {
    "name": "ipython",
    "version": 3
   },
   "file_extension": ".py",
   "mimetype": "text/x-python",
   "name": "python",
   "nbconvert_exporter": "python",
   "pygments_lexer": "ipython3",
   "version": "3.11.1"
  }
 },
 "nbformat": 4,
 "nbformat_minor": 5
}
