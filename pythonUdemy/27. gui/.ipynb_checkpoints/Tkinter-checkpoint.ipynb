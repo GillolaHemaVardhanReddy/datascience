{
 "cells": [
  {
   "cell_type": "markdown",
   "id": "93fa05bf",
   "metadata": {},
   "source": [
    "# Creating windows and labels"
   ]
  },
  {
   "cell_type": "raw",
   "id": "6f54bd54",
   "metadata": {},
   "source": [
    "first step is to import tkinter package"
   ]
  },
  {
   "cell_type": "code",
   "execution_count": 87,
   "id": "c9b6d3b6",
   "metadata": {},
   "outputs": [],
   "source": [
    "import tkinter"
   ]
  },
  {
   "cell_type": "raw",
   "id": "6c32a6c3",
   "metadata": {},
   "source": [
    "creating a window using Tk class\n",
    "why did the screen stay : because python created a window and \n",
    "next watches for other instructions and it didn't find any so it exits"
   ]
  },
  {
   "cell_type": "code",
   "execution_count": 88,
   "id": "ffea609e",
   "metadata": {},
   "outputs": [],
   "source": [
    "window = tkinter.Tk() # nothing happens if we run it \n",
    "window.title(\"my first GUI program\") # setting title\n",
    "window.minsize(width=500, height=300)"
   ]
  },
  {
   "cell_type": "raw",
   "id": "5f9e7093",
   "metadata": {},
   "source": [
    "Creating a label using tkinter"
   ]
  },
  {
   "cell_type": "code",
   "execution_count": 100,
   "id": "c251010e",
   "metadata": {},
   "outputs": [],
   "source": [
    "mylabel = tkinter.Label(text = \"username\",font=(\"Arial\",24,\"bold\"))"
   ]
  },
  {
   "cell_type": "raw",
   "id": "2e4e6300",
   "metadata": {},
   "source": [
    "when working with tkinter we have to create a component eg. a label\n",
    "then we have to specify how that component is going to be laied out on the sceen\n",
    "one of the easiest ways to lay out the component is  : labelname.pack()"
   ]
  },
  {
   "cell_type": "code",
   "execution_count": 101,
   "id": "416a18b4",
   "metadata": {},
   "outputs": [],
   "source": [
    "mylabel.pack(side=\"left\")"
   ]
  },
  {
   "cell_type": "code",
   "execution_count": 102,
   "id": "2ff3f0a2",
   "metadata": {},
   "outputs": [],
   "source": [
    "mylabel[\"text\"] = \"hema vardhan\""
   ]
  },
  {
   "cell_type": "markdown",
   "id": "2843de50",
   "metadata": {},
   "source": [
    "# creating button\n",
    "\n",
    "syntax:  \n",
    "tkinter.Button(text=\"some text for button\",command=funcname)\n",
    "\n",
    "here funcname is like action to do when clicked"
   ]
  },
  {
   "cell_type": "code",
   "execution_count": 103,
   "id": "b9eaf990",
   "metadata": {},
   "outputs": [],
   "source": [
    "# to give action for the button we create a function\n",
    "def clicked():\n",
    "    print(\"button clicked just nows\")"
   ]
  },
  {
   "cell_type": "code",
   "execution_count": 104,
   "id": "353aa82f",
   "metadata": {},
   "outputs": [],
   "source": [
    "button = tkinter.Button(text=\"click me\",command=clicked)\n",
    "button.pack(side=\"right\")"
   ]
  },
  {
   "cell_type": "markdown",
   "id": "96e8646a",
   "metadata": {},
   "source": [
    "### challenge : \n",
    "\n",
    "change text to \"button clicked\" when cliked the button"
   ]
  },
  {
   "cell_type": "code",
   "execution_count": 105,
   "id": "c4ea75ba",
   "metadata": {},
   "outputs": [],
   "source": [
    "def changelabel():\n",
    "    mylabel[\"text\"] = \"button got clicked\"\n",
    "button[\"command\"] = changelabel"
   ]
  },
  {
   "cell_type": "markdown",
   "id": "2d3aa7ef",
   "metadata": {},
   "source": [
    "## taking inputs using tk"
   ]
  },
  {
   "cell_type": "code",
   "execution_count": 106,
   "id": "42f8914f",
   "metadata": {},
   "outputs": [],
   "source": [
    "inp = tkinter.Entry()\n",
    "inp.pack()"
   ]
  },
  {
   "cell_type": "code",
   "execution_count": 107,
   "id": "b11e514f",
   "metadata": {
    "scrolled": true
   },
   "outputs": [
    {
     "name": "stdout",
     "output_type": "stream",
     "text": [
      "\n"
     ]
    }
   ],
   "source": [
    "# getting user input\n",
    "# userinp = inp.get()\n",
    "# print(userinp)"
   ]
  },
  {
   "cell_type": "markdown",
   "id": "a7334404",
   "metadata": {},
   "source": [
    "# challenge to get userinput and change label to it"
   ]
  },
  {
   "cell_type": "code",
   "execution_count": 108,
   "id": "bc9256dc",
   "metadata": {},
   "outputs": [],
   "source": [
    "def userlabel():\n",
    "    userinp = inp.get()\n",
    "    mylabel.config(text=userinp)\n",
    "button.config(command=userlabel)"
   ]
  },
  {
   "cell_type": "code",
   "execution_count": null,
   "id": "d42b3634",
   "metadata": {},
   "outputs": [],
   "source": []
  },
  {
   "cell_type": "markdown",
   "id": "3b44c2db",
   "metadata": {},
   "source": [
    "to keep screen continiously listening we use mainloop()"
   ]
  },
  {
   "cell_type": "code",
   "execution_count": 109,
   "id": "8b0c711b",
   "metadata": {},
   "outputs": [],
   "source": [
    "window.mainloop() # keep this line at the end of the program"
   ]
  },
  {
   "cell_type": "code",
   "execution_count": null,
   "id": "0684111c",
   "metadata": {},
   "outputs": [],
   "source": []
  }
 ],
 "metadata": {
  "kernelspec": {
   "display_name": "Python 3 (ipykernel)",
   "language": "python",
   "name": "python3"
  },
  "language_info": {
   "codemirror_mode": {
    "name": "ipython",
    "version": 3
   },
   "file_extension": ".py",
   "mimetype": "text/x-python",
   "name": "python",
   "nbconvert_exporter": "python",
   "pygments_lexer": "ipython3",
   "version": "3.11.1"
  }
 },
 "nbformat": 4,
 "nbformat_minor": 5
}
