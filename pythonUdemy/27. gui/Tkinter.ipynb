{
 "cells": [
  {
   "cell_type": "markdown",
   "id": "93fa05bf",
   "metadata": {},
   "source": [
    "# Creating windows and labels"
   ]
  },
  {
   "cell_type": "raw",
   "id": "6f54bd54",
   "metadata": {},
   "source": [
    "first step is to import tkinter package"
   ]
  },
  {
   "cell_type": "code",
   "execution_count": 87,
   "id": "c9b6d3b6",
   "metadata": {},
   "outputs": [],
   "source": [
    "import tkinter"
   ]
  },
  {
   "cell_type": "raw",
   "id": "6c32a6c3",
   "metadata": {},
   "source": [
    "creating a window using Tk class\n",
    "why did the screen stay : because python created a window and \n",
    "next watches for other instructions and it didn't find any so it exits"
   ]
  },
  {
   "cell_type": "code",
   "execution_count": 111,
   "id": "ffea609e",
   "metadata": {},
   "outputs": [],
   "source": [
    "window = tkinter.Tk() # nothing happens if we run it \n",
    "window.title(\"my first GUI program\") # setting title\n",
    "window.minsize(width=500, height=300)"
   ]
  },
  {
   "cell_type": "raw",
   "id": "5f9e7093",
   "metadata": {},
   "source": [
    "Creating a label using tkinter"
   ]
  },
  {
   "cell_type": "code",
   "execution_count": 112,
   "id": "c251010e",
   "metadata": {},
   "outputs": [],
   "source": [
    "mylabel = tkinter.Label(text = \"username\",font=(\"Arial\",24,\"bold\"))"
   ]
  },
  {
   "cell_type": "raw",
   "id": "2e4e6300",
   "metadata": {},
   "source": [
    "when working with tkinter we have to create a component eg. a label\n",
    "then we have to specify how that component is going to be laied out on the sceen\n",
    "one of the easiest ways to lay out the component is  : labelname.pack()"
   ]
  },
  {
   "cell_type": "code",
   "execution_count": 113,
   "id": "416a18b4",
   "metadata": {},
   "outputs": [],
   "source": [
    "mylabel.pack(side=\"left\")"
   ]
  },
  {
   "cell_type": "code",
   "execution_count": 114,
   "id": "064e3017",
   "metadata": {},
   "outputs": [],
   "source": [
    "mylabel[\"text\"] = \"hema vardhan\""
   ]
  },
  {
   "cell_type": "markdown",
   "id": "02b1d58e",
   "metadata": {},
   "source": [
    "# creating button\n",
    "\n",
    "syntax:  \n",
    "tkinter.Button(text=\"some text for button\",command=funcname)\n",
    "\n",
    "here funcname is like action to do when clicked"
   ]
  },
  {
   "cell_type": "code",
   "execution_count": 115,
   "id": "f38280b8",
   "metadata": {},
   "outputs": [],
   "source": [
    "# to give action for the button we create a function\n",
    "def clicked():\n",
    "    print(\"button clicked just nows\")"
   ]
  },
  {
   "cell_type": "code",
   "execution_count": 116,
   "id": "13995260",
   "metadata": {},
   "outputs": [],
   "source": [
    "button = tkinter.Button(text=\"click me\",command=clicked)\n",
    "button.pack(side=\"right\")"
   ]
  },
  {
   "cell_type": "markdown",
   "id": "5cbc6972",
   "metadata": {},
   "source": [
    "### challenge : \n",
    "\n",
    "change text to \"button clicked\" when cliked the button"
   ]
  },
  {
   "cell_type": "code",
   "execution_count": 117,
   "id": "10d6d74f",
   "metadata": {},
   "outputs": [],
   "source": [
    "def changelabel():\n",
    "    mylabel[\"text\"] = \"button got clicked\"\n",
    "button[\"command\"] = changelabel"
   ]
  },
  {
   "cell_type": "markdown",
   "id": "fa7032a1",
   "metadata": {},
   "source": [
    "## taking inputs using tk"
   ]
  },
  {
   "cell_type": "code",
   "execution_count": 118,
   "id": "8911ae0d",
   "metadata": {},
   "outputs": [],
   "source": [
    "inp = tkinter.Entry()\n",
    "inp.pack()"
   ]
  },
  {
   "cell_type": "code",
   "execution_count": 119,
   "id": "1bc1e603",
   "metadata": {
    "scrolled": true
   },
   "outputs": [],
   "source": [
    "# getting user input\n",
    "# userinp = inp.get()\n",
    "# print(userinp)"
   ]
  },
  {
   "cell_type": "markdown",
   "id": "83e9ddbb",
   "metadata": {},
   "source": [
    "# challenge to get userinput and change label to it"
   ]
  },
  {
   "cell_type": "code",
   "execution_count": 120,
   "id": "1fd4504f",
   "metadata": {},
   "outputs": [],
   "source": [
    "def userlabel():\n",
    "    userinp = inp.get()\n",
    "    mylabel.config(text=userinp)\n",
    "button.config(command=userlabel)"
   ]
  },
  {
   "cell_type": "code",
   "execution_count": null,
   "id": "ecf545fb",
   "metadata": {},
   "outputs": [],
   "source": []
  },
  {
   "cell_type": "markdown",
   "id": "0efa75fb",
   "metadata": {},
   "source": [
    "to keep screen continiously listening we use mainloop()"
   ]
  },
  {
   "cell_type": "code",
   "execution_count": 121,
   "id": "8b0c711b",
   "metadata": {},
   "outputs": [],
   "source": [
    "window.mainloop() # keep this line at the end of the program"
   ]
  }
 ],
 "metadata": {
  "kernelspec": {
   "display_name": "Python 3 (ipykernel)",
   "language": "python",
   "name": "python3"
  },
  "language_info": {
   "codemirror_mode": {
    "name": "ipython",
    "version": 3
   },
   "file_extension": ".py",
   "mimetype": "text/x-python",
   "name": "python",
   "nbconvert_exporter": "python",
   "pygments_lexer": "ipython3",
   "version": "3.11.1"
  }
 },
 "nbformat": 4,
 "nbformat_minor": 5
}
