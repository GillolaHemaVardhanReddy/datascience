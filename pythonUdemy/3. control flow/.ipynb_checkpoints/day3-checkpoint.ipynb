{
 "cells": [
  {
   "cell_type": "markdown",
   "id": "4af6b68f",
   "metadata": {},
   "source": [
    "# control flow"
   ]
  },
  {
   "cell_type": "raw",
   "id": "ffcfeeb6",
   "metadata": {},
   "source": [
    "if condition :  \n",
    "    statements  \n",
    "else :  \n",
    "    statements"
   ]
  },
  {
   "cell_type": "code",
   "execution_count": 1,
   "id": "396d5bde",
   "metadata": {},
   "outputs": [
    {
     "name": "stdout",
     "output_type": "stream",
     "text": [
      "what is your height in your height in cm: 34\n",
      "eligible\n"
     ]
    }
   ],
   "source": [
    "height = int(input(\"what is your height in your height in cm: \"))\n",
    "if height>12:\n",
    "    print(\"eligible\")\n",
    "else:\n",
    "    print(\"not eligible\")"
   ]
  },
  {
   "cell_type": "code",
   "execution_count": 9,
   "id": "9179fdfc",
   "metadata": {},
   "outputs": [
    {
     "data": {
      "text/html": [
       "<h1>Comparision operator:</h1>\n",
       "    <table>\n",
       "        <tr>\n",
       "            <th>operator</th>\n",
       "            <th>Meaning</th>\n",
       "        </tr>\n",
       "        <tr>\n",
       "            <td>></td>\n",
       "            <td>Greater than</td>\n",
       "        </tr>\n",
       "        <tr>\n",
       "            <td><</td>\n",
       "            <td>Less than</td>\n",
       "        </tr>\n",
       "        <tr>\n",
       "            <td>>=</td>\n",
       "            <td>Greater than or equalTo</td>\n",
       "        </tr>\n",
       "        <tr>\n",
       "            <td><=</td>\n",
       "            <td>less than or equalTo</td>\n",
       "        </tr>\n",
       "        <tr>\n",
       "            <td>=</td>\n",
       "            <td>equalTo</td>\n",
       "        </tr>\n",
       "        <tr>\n",
       "            <td>!=</td>\n",
       "            <td>not equalTo</td>\n",
       "        </tr>\n",
       "        \n",
       "    </table>\n"
      ],
      "text/plain": [
       "<IPython.core.display.HTML object>"
      ]
     },
     "metadata": {},
     "output_type": "display_data"
    }
   ],
   "source": [
    "%%html\n",
    "<h1>Comparision operator:</h1>\n",
    "    <table>\n",
    "        <tr>\n",
    "            <th>operator</th>\n",
    "            <th>Meaning</th>\n",
    "        </tr>\n",
    "        <tr>\n",
    "            <td>></td>\n",
    "            <td>Greater than</td>\n",
    "        </tr>\n",
    "        <tr>\n",
    "            <td><</td>\n",
    "            <td>Less than</td>\n",
    "        </tr>\n",
    "        <tr>\n",
    "            <td>>=</td>\n",
    "            <td>Greater than or equalTo</td>\n",
    "        </tr>\n",
    "        <tr>\n",
    "            <td><=</td>\n",
    "            <td>less than or equalTo</td>\n",
    "        </tr>\n",
    "        <tr>\n",
    "            <td>=</td>\n",
    "            <td>equalTo</td>\n",
    "        </tr>\n",
    "        <tr>\n",
    "            <td>!=</td>\n",
    "            <td>not equalTo</td>\n",
    "        </tr>\n",
    "        \n",
    "    </table>"
   ]
  },
  {
   "cell_type": "markdown",
   "id": "e2c6cba2",
   "metadata": {},
   "source": [
    "# nested if"
   ]
  },
  {
   "cell_type": "code",
   "execution_count": 11,
   "id": "a9082d65",
   "metadata": {},
   "outputs": [
    {
     "name": "stdout",
     "output_type": "stream",
     "text": [
      "enter a number33\n",
      "div by 3\n"
     ]
    }
   ],
   "source": [
    "x = int(input(\"enter a number\"))\n",
    "if x%2==0:\n",
    "    print(\"even\")\n",
    "elif x%3==0:\n",
    "    print(\"div by 3\")\n",
    "else :\n",
    "    print(\"odd\")"
   ]
  },
  {
   "cell_type": "markdown",
   "id": "62751379",
   "metadata": {},
   "source": [
    "# BMI calculator"
   ]
  },
  {
   "cell_type": "code",
   "execution_count": 12,
   "id": "485849d6",
   "metadata": {},
   "outputs": [
    {
     "name": "stdout",
     "output_type": "stream",
     "text": [
      "enter height: 34\n",
      "enter weight: 41\n",
      "underweight\n"
     ]
    }
   ],
   "source": [
    "height = float(input(\"enter height: \"))\n",
    "weight = float(input(\"enter weight: \"))\n",
    "bmi = weight/height**2\n",
    "if bmi<18.5 :\n",
    "    print(\"underweight\")\n",
    "elif bmi>=35 :\n",
    "    print(\"clinical obese\")\n",
    "elif bmi>=30 :\n",
    "    print(\"obese\")\n",
    "elif bmi>=25 :\n",
    "    print(\"slightly overweight\")\n",
    "elif bmi>=18.5:\n",
    "    print(\"normal weight\")\n",
    "else:\n",
    "    print(\"under weight\")"
   ]
  },
  {
   "cell_type": "markdown",
   "id": "bd4f2c78",
   "metadata": {},
   "source": [
    "# logical operators\n",
    "\n",
    "AND  \n",
    "OR  \n",
    "NOT"
   ]
  }
 ],
 "metadata": {
  "kernelspec": {
   "display_name": "Python 3 (ipykernel)",
   "language": "python",
   "name": "python3"
  },
  "language_info": {
   "codemirror_mode": {
    "name": "ipython",
    "version": 3
   },
   "file_extension": ".py",
   "mimetype": "text/x-python",
   "name": "python",
   "nbconvert_exporter": "python",
   "pygments_lexer": "ipython3",
   "version": "3.11.1"
  }
 },
 "nbformat": 4,
 "nbformat_minor": 5
}
