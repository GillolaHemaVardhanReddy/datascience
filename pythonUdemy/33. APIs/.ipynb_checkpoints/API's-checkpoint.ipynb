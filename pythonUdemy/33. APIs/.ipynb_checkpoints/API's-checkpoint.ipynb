{
 "cells": [
  {
   "cell_type": "markdown",
   "id": "dd660a10",
   "metadata": {},
   "source": [
    "**API** : an application program interface is a set of commands, functions, protocols and objects <br>\n",
    "        that programmers can use to create software or interact with an external systerm\n",
    "\n",
    "example for API's:\n",
    "\n",
    "bank vault is the source \n",
    "\n",
    "you are some program\n",
    "\n",
    "here data is money\n",
    "\n",
    "API is cashier\n",
    "\n",
    "if we want any money then we cant take money directly from bank vault\n",
    "\n",
    "first we make request for cashier and if all our details are good then he gives us the money"
   ]
  },
  {
   "cell_type": "markdown",
   "id": "5804d74b",
   "metadata": {},
   "source": [
    "# Module required\n",
    "\n",
    "install requests module on pc using pip"
   ]
  },
  {
   "cell_type": "code",
   "execution_count": 1,
   "id": "cdaca8a1",
   "metadata": {},
   "outputs": [],
   "source": [
    "import requests as req"
   ]
  },
  {
   "cell_type": "markdown",
   "id": "f29ce919",
   "metadata": {},
   "source": [
    "### Getting response from api\n",
    "\n",
    "we use req.get(url=\"\")"
   ]
  },
  {
   "cell_type": "code",
   "execution_count": 16,
   "id": "0efcac61",
   "metadata": {},
   "outputs": [],
   "source": [
    "response = req.get(\"http://api.open-notify.org/iss-now.json\")\n",
    "response.raise_for_status()"
   ]
  },
  {
   "cell_type": "markdown",
   "id": "d871ecd3",
   "metadata": {},
   "source": [
    "# Response codes\n",
    "\n",
    "* 1xx : Hold on something is going on\n",
    "* 2xx : here you go everything is successful\n",
    "* 3xx : go away you dont have permission\n",
    "* 4xx : you screwed up\n",
    "* 5xx : I screwed up\n",
    "\n",
    "detailed status code on https://httpstatuses.com"
   ]
  },
  {
   "cell_type": "markdown",
   "id": "a8136f95",
   "metadata": {},
   "source": [
    "getting status code from response"
   ]
  },
  {
   "cell_type": "code",
   "execution_count": 7,
   "id": "492b0a23",
   "metadata": {},
   "outputs": [
    {
     "data": {
      "text/plain": [
       "200"
      ]
     },
     "execution_count": 7,
     "metadata": {},
     "output_type": "execute_result"
    }
   ],
   "source": [
    "response.status_code()"
   ]
  },
  {
   "cell_type": "markdown",
   "id": "d25c7747",
   "metadata": {},
   "source": [
    "### Raising exception for status code\n",
    "\n",
    "we can use method in response named raise_for_status(statuscode)"
   ]
  },
  {
   "cell_type": "code",
   "execution_count": 9,
   "id": "decf573b",
   "metadata": {},
   "outputs": [],
   "source": [
    "response.raise_for_status()"
   ]
  },
  {
   "cell_type": "code",
   "execution_count": 18,
   "id": "2596fe90",
   "metadata": {},
   "outputs": [],
   "source": [
    "data = response.json()\n",
    "location = data[\"iss_position\"][\"longitude\"] , data[\"iss_position\"][\"latitude\"]"
   ]
  },
  {
   "cell_type": "code",
   "execution_count": 19,
   "id": "b045d64e",
   "metadata": {},
   "outputs": [
    {
     "data": {
      "text/plain": [
       "('77.5456', '27.3803')"
      ]
     },
     "execution_count": 19,
     "metadata": {},
     "output_type": "execute_result"
    }
   ],
   "source": [
    "location"
   ]
  },
  {
   "cell_type": "code",
   "execution_count": null,
   "id": "57f7055b",
   "metadata": {},
   "outputs": [],
   "source": []
  }
 ],
 "metadata": {
  "kernelspec": {
   "display_name": "Python 3 (ipykernel)",
   "language": "python",
   "name": "python3"
  },
  "language_info": {
   "codemirror_mode": {
    "name": "ipython",
    "version": 3
   },
   "file_extension": ".py",
   "mimetype": "text/x-python",
   "name": "python",
   "nbconvert_exporter": "python",
   "pygments_lexer": "ipython3",
   "version": "3.11.1"
  }
 },
 "nbformat": 4,
 "nbformat_minor": 5
}
