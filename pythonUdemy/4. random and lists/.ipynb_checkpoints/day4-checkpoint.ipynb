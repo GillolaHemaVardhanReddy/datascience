{
 "cells": [
  {
   "cell_type": "markdown",
   "id": "8d36b7b7",
   "metadata": {},
   "source": [
    "# random module\n",
    "\n",
    "first import the random module"
   ]
  },
  {
   "cell_type": "code",
   "execution_count": 1,
   "id": "594bad29",
   "metadata": {},
   "outputs": [],
   "source": [
    "import random as rd"
   ]
  },
  {
   "cell_type": "markdown",
   "id": "0812ab49",
   "metadata": {},
   "source": [
    "### randint(a,b)\n",
    "\n",
    "it gives random integers between a and b"
   ]
  },
  {
   "cell_type": "code",
   "execution_count": 5,
   "id": "d49e80f8",
   "metadata": {},
   "outputs": [
    {
     "data": {
      "text/plain": [
       "2"
      ]
     },
     "execution_count": 5,
     "metadata": {},
     "output_type": "execute_result"
    }
   ],
   "source": [
    "rd.randint(1,4)"
   ]
  },
  {
   "cell_type": "markdown",
   "id": "42a89441",
   "metadata": {},
   "source": [
    "### random()\n",
    "\n",
    "it returns random float value between 0 till one excluding 1"
   ]
  },
  {
   "cell_type": "code",
   "execution_count": 7,
   "id": "b223e2f0",
   "metadata": {},
   "outputs": [
    {
     "data": {
      "text/plain": [
       "0.2157034702853361"
      ]
     },
     "execution_count": 7,
     "metadata": {},
     "output_type": "execute_result"
    }
   ],
   "source": [
    "rd.random()"
   ]
  },
  {
   "cell_type": "markdown",
   "id": "45986f40",
   "metadata": {},
   "source": [
    "#### heads or tails"
   ]
  },
  {
   "cell_type": "code",
   "execution_count": 18,
   "id": "0c061590",
   "metadata": {},
   "outputs": [
    {
     "name": "stdout",
     "output_type": "stream",
     "text": [
      "heads\n"
     ]
    }
   ],
   "source": [
    "x = rd.randint(0,1)\n",
    "print(\"heads\" if x==0 else \"tails\")"
   ]
  },
  {
   "cell_type": "markdown",
   "id": "16f06a31",
   "metadata": {},
   "source": [
    "# Lists"
   ]
  },
  {
   "cell_type": "code",
   "execution_count": 19,
   "id": "6a82b3a7",
   "metadata": {},
   "outputs": [],
   "source": [
    "y = [1,\"hello\",2.0]"
   ]
  },
  {
   "cell_type": "markdown",
   "id": "ccf689a6",
   "metadata": {},
   "source": [
    "### access elements"
   ]
  },
  {
   "cell_type": "code",
   "execution_count": 20,
   "id": "a913536a",
   "metadata": {},
   "outputs": [
    {
     "data": {
      "text/plain": [
       "1"
      ]
     },
     "execution_count": 20,
     "metadata": {},
     "output_type": "execute_result"
    }
   ],
   "source": [
    "y[0]"
   ]
  },
  {
   "cell_type": "code",
   "execution_count": 21,
   "id": "4caeeaa3",
   "metadata": {},
   "outputs": [
    {
     "data": {
      "text/plain": [
       "'hello'"
      ]
     },
     "execution_count": 21,
     "metadata": {},
     "output_type": "execute_result"
    }
   ],
   "source": [
    "y[1]"
   ]
  },
  {
   "cell_type": "code",
   "execution_count": 22,
   "id": "1b3a9cbf",
   "metadata": {},
   "outputs": [
    {
     "data": {
      "text/plain": [
       "2.0"
      ]
     },
     "execution_count": 22,
     "metadata": {},
     "output_type": "execute_result"
    }
   ],
   "source": [
    "y[-1]"
   ]
  },
  {
   "cell_type": "code",
   "execution_count": 23,
   "id": "4f9df6fa",
   "metadata": {},
   "outputs": [
    {
     "data": {
      "text/plain": [
       "'hello'"
      ]
     },
     "execution_count": 23,
     "metadata": {},
     "output_type": "execute_result"
    }
   ],
   "source": [
    "y[-2]"
   ]
  },
  {
   "cell_type": "markdown",
   "id": "c0ff3ab3",
   "metadata": {},
   "source": [
    "### slicing\n",
    "\n",
    "variableList[start:end:stride]"
   ]
  },
  {
   "cell_type": "code",
   "execution_count": 25,
   "id": "a51e6a4a",
   "metadata": {},
   "outputs": [
    {
     "data": {
      "text/plain": [
       "[1, 'hello']"
      ]
     },
     "execution_count": 25,
     "metadata": {},
     "output_type": "execute_result"
    }
   ],
   "source": [
    "y[:2]"
   ]
  },
  {
   "cell_type": "code",
   "execution_count": 29,
   "id": "ef73700e",
   "metadata": {},
   "outputs": [
    {
     "data": {
      "text/plain": [
       "[1, 2.0]"
      ]
     },
     "execution_count": 29,
     "metadata": {},
     "output_type": "execute_result"
    }
   ],
   "source": [
    "y[::2] # stride"
   ]
  },
  {
   "cell_type": "markdown",
   "id": "f6f4fd44",
   "metadata": {},
   "source": [
    "### append"
   ]
  },
  {
   "cell_type": "code",
   "execution_count": 27,
   "id": "0204f5ec",
   "metadata": {},
   "outputs": [],
   "source": [
    "y.append(\"hema\")"
   ]
  },
  {
   "cell_type": "code",
   "execution_count": 28,
   "id": "ad9767b6",
   "metadata": {},
   "outputs": [
    {
     "data": {
      "text/plain": [
       "[1, 'hello', 2.0, 'hema']"
      ]
     },
     "execution_count": 28,
     "metadata": {},
     "output_type": "execute_result"
    }
   ],
   "source": [
    "y"
   ]
  }
 ],
 "metadata": {
  "kernelspec": {
   "display_name": "Python 3 (ipykernel)",
   "language": "python",
   "name": "python3"
  },
  "language_info": {
   "codemirror_mode": {
    "name": "ipython",
    "version": 3
   },
   "file_extension": ".py",
   "mimetype": "text/x-python",
   "name": "python",
   "nbconvert_exporter": "python",
   "pygments_lexer": "ipython3",
   "version": "3.11.1"
  }
 },
 "nbformat": 4,
 "nbformat_minor": 5
}
