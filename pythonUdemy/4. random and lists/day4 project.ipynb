{
 "cells": [
  {
   "cell_type": "code",
   "execution_count": 10,
   "id": "659ff603",
   "metadata": {},
   "outputs": [
    {
     "name": "stdout",
     "output_type": "stream",
     "text": [
      "choose rock(0) paper(1) scissor(2): 2\n",
      "computer choose:  paper\n",
      "you win\n"
     ]
    }
   ],
   "source": [
    "import random as rd\n",
    "rock = '''\n",
    "    _______\n",
    "---'   ____)\n",
    "      (_____)\n",
    "      (_____)\n",
    "      (____)\n",
    "---.__(___)\n",
    "'''\n",
    "\n",
    "paper = '''\n",
    "    _______\n",
    "---'   ____)____\n",
    "          ______)\n",
    "          _______)\n",
    "         _______)\n",
    "---.__________)\n",
    "'''\n",
    "\n",
    "scissors = '''\n",
    "    _______\n",
    "---'   ____)____\n",
    "          ______)\n",
    "       __________)\n",
    "      (____)\n",
    "---.__(___)\n",
    "'''\n",
    "l = [\"rock\",\"paper\",\"scissor\"]\n",
    "c1 = int(input(\"choose rock(0) paper(1) scissor(2): \"))\n",
    "c2 = rd.randint(0,2)\n",
    "print(\"computer choose: \",l[c2])\n",
    "if c1==c2 :\n",
    "    print(\"draw\")\n",
    "elif c1==0 and c2==1 :\n",
    "    print(\"computer win\")\n",
    "elif c2==0 and c1==1 :\n",
    "    print(\"you win\")\n",
    "elif c1==0 and c2==2 :\n",
    "    print(\"you win\")\n",
    "elif c2==0 and c1==2 :\n",
    "    print(\"computer win\")\n",
    "elif c1==2 and c2==1 :\n",
    "    print(\"you win\")\n",
    "elif c2==2 and c1==1 :\n",
    "    print(\"computer win\")"
   ]
  },
  {
   "cell_type": "code",
   "execution_count": null,
   "id": "cb13c0cd",
   "metadata": {},
   "outputs": [],
   "source": []
  }
 ],
 "metadata": {
  "kernelspec": {
   "display_name": "Python 3 (ipykernel)",
   "language": "python",
   "name": "python3"
  },
  "language_info": {
   "codemirror_mode": {
    "name": "ipython",
    "version": 3
   },
   "file_extension": ".py",
   "mimetype": "text/x-python",
   "name": "python",
   "nbconvert_exporter": "python",
   "pygments_lexer": "ipython3",
   "version": "3.11.1"
  }
 },
 "nbformat": 4,
 "nbformat_minor": 5
}
