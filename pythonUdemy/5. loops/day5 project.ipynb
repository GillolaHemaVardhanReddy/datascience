{
 "cells": [
  {
   "cell_type": "markdown",
   "id": "360e49e5",
   "metadata": {},
   "source": [
    "# password generator"
   ]
  },
  {
   "cell_type": "code",
   "execution_count": 10,
   "id": "96c8da8a",
   "metadata": {},
   "outputs": [
    {
     "name": "stdout",
     "output_type": "stream",
     "text": [
      "Welcome to the PyPassword Generator!\n",
      "How many letters would you like in your password?\n",
      "2\n",
      "How many symbols would you like?\n",
      "2\n",
      "How many numbers would you like?\n",
      "2\n",
      "Your password is: 8m6U#(\n"
     ]
    }
   ],
   "source": [
    "import random as rd\n",
    "\n",
    "letters = ['a', 'b', 'c', 'd', 'e', 'f', 'g', 'h', 'i', 'j', 'k', 'l', 'm', 'n', 'o', 'p', 'q', 'r', 's', 't', 'u', 'v', 'w', 'x', 'y', 'z', \n",
    "           'A', 'B', 'C', 'D', 'E', 'F', 'G', 'H', 'I', 'J', 'K', 'L', 'M', 'N', 'O', 'P', 'Q', 'R', 'S', 'T', 'U', 'V', 'W', 'X', 'Y', 'Z']\n",
    "numbers = ['0', '1', '2', '3', '4', '5', '6', '7', '8', '9']\n",
    "symbols = ['!', '#', '$', '%', '&', '(', ')', '*', '+']\n",
    "\n",
    "print(\"Welcome to the PyPassword Generator!\")\n",
    "l = int(input(\"How many letters would you like in your password?\\n\")) \n",
    "s = int(input(\"How many symbols would you like?\\n\"))\n",
    "n = int(input(\"How many numbers would you like?\\n\"))\n",
    "\n",
    "password_list = []\n",
    "\n",
    "for _ in range(l):\n",
    "    password_list.append(rd.choice(letters))\n",
    "\n",
    "for _ in range(s):\n",
    "    password_list.append(rd.choice(symbols))\n",
    "\n",
    "for _ in range(n):\n",
    "    password_list.append(rd.choice(numbers))\n",
    "\n",
    "rd.shuffle(password_list)\n",
    "\n",
    "password = ''.join(password_list)\n",
    "print(f\"Your password is: {password}\")\n"
   ]
  },
  {
   "cell_type": "code",
   "execution_count": null,
   "id": "dd199e05",
   "metadata": {},
   "outputs": [],
   "source": []
  }
 ],
 "metadata": {
  "kernelspec": {
   "display_name": "Python 3 (ipykernel)",
   "language": "python",
   "name": "python3"
  },
  "language_info": {
   "codemirror_mode": {
    "name": "ipython",
    "version": 3
   },
   "file_extension": ".py",
   "mimetype": "text/x-python",
   "name": "python",
   "nbconvert_exporter": "python",
   "pygments_lexer": "ipython3",
   "version": "3.11.1"
  }
 },
 "nbformat": 4,
 "nbformat_minor": 5
}
