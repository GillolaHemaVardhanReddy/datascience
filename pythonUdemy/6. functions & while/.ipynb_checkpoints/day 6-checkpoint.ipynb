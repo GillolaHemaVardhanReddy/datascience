{
 "cells": [
  {
   "cell_type": "markdown",
   "id": "25f9bdf9",
   "metadata": {},
   "source": [
    "# Functions\n",
    "\n",
    "defining a function: syntax  \n",
    "def funcName:  \n",
    "<pre> statements\n",
    "\n",
    "function call is done : funcName()"
   ]
  },
  {
   "cell_type": "code",
   "execution_count": 1,
   "id": "d0dc0408",
   "metadata": {},
   "outputs": [
    {
     "name": "stdout",
     "output_type": "stream",
     "text": [
      "hello man!\n"
     ]
    }
   ],
   "source": [
    "def say():\n",
    "    print(\"hello man!\")\n",
    "say()"
   ]
  },
  {
   "cell_type": "markdown",
   "id": "298d54af",
   "metadata": {},
   "source": [
    "# While loop\n",
    "\n",
    "while something_is_true:\n",
    "<pre> doSomething"
   ]
  }
 ],
 "metadata": {
  "kernelspec": {
   "display_name": "Python 3 (ipykernel)",
   "language": "python",
   "name": "python3"
  },
  "language_info": {
   "codemirror_mode": {
    "name": "ipython",
    "version": 3
   },
   "file_extension": ".py",
   "mimetype": "text/x-python",
   "name": "python",
   "nbconvert_exporter": "python",
   "pygments_lexer": "ipython3",
   "version": "3.11.1"
  }
 },
 "nbformat": 4,
 "nbformat_minor": 5
}
