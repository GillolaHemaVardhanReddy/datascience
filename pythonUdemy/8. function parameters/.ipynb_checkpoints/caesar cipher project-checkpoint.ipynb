{
 "cells": [
  {
   "cell_type": "markdown",
   "id": "947efd7e",
   "metadata": {},
   "source": [
    "# caesar cipler\n",
    "\n",
    "when encoding we just shift the alphabets and then use those alphabets in place of original"
   ]
  },
  {
   "cell_type": "code",
   "execution_count": 23,
   "id": "5feb833c",
   "metadata": {},
   "outputs": [],
   "source": [
    "alphabet = ['a', 'b', 'c', 'd', 'e', 'f', 'g', 'h', 'i', 'j', 'k', 'l', 'm', 'n', 'o', 'p', 'q', 'r', 's', 't', 'u', 'v', 'w', 'x', 'y', 'z']"
   ]
  },
  {
   "cell_type": "code",
   "execution_count": 24,
   "id": "776e182b",
   "metadata": {},
   "outputs": [],
   "source": [
    "def encrypt(plain,shift):\n",
    "    cipher = \"\"\n",
    "    for letter in plain:\n",
    "        pos = alphabet.index(letter)\n",
    "        newpos = pos + shift\n",
    "        if newpos>26:\n",
    "            newpos = newpos%26\n",
    "        cipher+=alphabet[newpos]\n",
    "    print('cipher text is: ',cipher)"
   ]
  },
  {
   "cell_type": "code",
   "execution_count": 25,
   "id": "9c3af69f",
   "metadata": {},
   "outputs": [],
   "source": [
    "def decrypt(cipher,shift):\n",
    "    plain = \"\"\n",
    "    for letter in cipher:\n",
    "        pos = alphabet.index(letter)\n",
    "        newpos = pos - shift\n",
    "        if newpos<0:\n",
    "            newpos = 26-newpos\n",
    "        plain+=alphabet[newpos]\n",
    "    print('plain text is: ',plain)"
   ]
  },
  {
   "cell_type": "code",
   "execution_count": 26,
   "id": "df40db7e",
   "metadata": {},
   "outputs": [],
   "source": [
    "def ceasar():\n",
    "    direction = input(\"Type '1' to encrypt, type '0' to decrypt:\\n\")\n",
    "    text = input(\"Type your message:\\n\").lower()\n",
    "    shift = int(input(\"Type the shift number:\\n\"))\n",
    "    if direction=='1':\n",
    "        encrypt(text,shift)\n",
    "    else:\n",
    "        decrypt(text,shift)"
   ]
  },
  {
   "cell_type": "code",
   "execution_count": 27,
   "id": "870219fe",
   "metadata": {},
   "outputs": [
    {
     "name": "stdout",
     "output_type": "stream",
     "text": [
      "Type '1' to encrypt, type '0' to decrypt:\n",
      "\n",
      "Type your message:\n",
      "\n",
      "Type the shift number:\n",
      "\n"
     ]
    },
    {
     "ename": "ValueError",
     "evalue": "invalid literal for int() with base 10: ''",
     "output_type": "error",
     "traceback": [
      "\u001b[1;31m---------------------------------------------------------------------------\u001b[0m",
      "\u001b[1;31mValueError\u001b[0m                                Traceback (most recent call last)",
      "Cell \u001b[1;32mIn[27], line 1\u001b[0m\n\u001b[1;32m----> 1\u001b[0m \u001b[43mceasar\u001b[49m\u001b[43m(\u001b[49m\u001b[43m)\u001b[49m\n",
      "Cell \u001b[1;32mIn[26], line 4\u001b[0m, in \u001b[0;36mceasar\u001b[1;34m()\u001b[0m\n\u001b[0;32m      2\u001b[0m direction \u001b[38;5;241m=\u001b[39m \u001b[38;5;28minput\u001b[39m(\u001b[38;5;124m\"\u001b[39m\u001b[38;5;124mType \u001b[39m\u001b[38;5;124m'\u001b[39m\u001b[38;5;124m1\u001b[39m\u001b[38;5;124m'\u001b[39m\u001b[38;5;124m to encrypt, type \u001b[39m\u001b[38;5;124m'\u001b[39m\u001b[38;5;124m0\u001b[39m\u001b[38;5;124m'\u001b[39m\u001b[38;5;124m to decrypt:\u001b[39m\u001b[38;5;130;01m\\n\u001b[39;00m\u001b[38;5;124m\"\u001b[39m)\n\u001b[0;32m      3\u001b[0m text \u001b[38;5;241m=\u001b[39m \u001b[38;5;28minput\u001b[39m(\u001b[38;5;124m\"\u001b[39m\u001b[38;5;124mType your message:\u001b[39m\u001b[38;5;130;01m\\n\u001b[39;00m\u001b[38;5;124m\"\u001b[39m)\u001b[38;5;241m.\u001b[39mlower()\n\u001b[1;32m----> 4\u001b[0m shift \u001b[38;5;241m=\u001b[39m \u001b[38;5;28;43mint\u001b[39;49m\u001b[43m(\u001b[49m\u001b[38;5;28;43minput\u001b[39;49m\u001b[43m(\u001b[49m\u001b[38;5;124;43m\"\u001b[39;49m\u001b[38;5;124;43mType the shift number:\u001b[39;49m\u001b[38;5;130;43;01m\\n\u001b[39;49;00m\u001b[38;5;124;43m\"\u001b[39;49m\u001b[43m)\u001b[49m\u001b[43m)\u001b[49m\n\u001b[0;32m      5\u001b[0m \u001b[38;5;28;01mif\u001b[39;00m direction\u001b[38;5;241m==\u001b[39m\u001b[38;5;124m'\u001b[39m\u001b[38;5;124m1\u001b[39m\u001b[38;5;124m'\u001b[39m:\n\u001b[0;32m      6\u001b[0m     encrypt(text,shift)\n",
      "\u001b[1;31mValueError\u001b[0m: invalid literal for int() with base 10: ''"
     ]
    }
   ],
   "source": [
    "ceasar()"
   ]
  },
  {
   "cell_type": "markdown",
   "id": "411ca473",
   "metadata": {},
   "source": [
    "# optimised code"
   ]
  },
  {
   "cell_type": "code",
   "execution_count": 36,
   "id": "11919cbc",
   "metadata": {},
   "outputs": [],
   "source": [
    "def caesarcipher(text,shift,direction):\n",
    "    ans = \"\"\n",
    "    if(direction==0):\n",
    "        shift = -1*shift \n",
    "    for letter in text:\n",
    "        if(letter not in alphabet):\n",
    "            ans+=letter\n",
    "            continue\n",
    "        pos = alphabet.index(letter)\n",
    "        newpos = pos + shift\n",
    "        if newpos<0:\n",
    "            newpos = 26-newpos\n",
    "        if newpos>=26:\n",
    "            newpos = newpos%26\n",
    "        ans+=alphabet[newpos]\n",
    "    print('converted text is: ',ans)"
   ]
  },
  {
   "cell_type": "code",
   "execution_count": null,
   "id": "18cb0355",
   "metadata": {
    "scrolled": true
   },
   "outputs": [
    {
     "name": "stdout",
     "output_type": "stream",
     "text": [
      "Type '1' to encrypt, type '0' to decrypt:\n",
      "1\n",
      "Type your message:\n",
      "hema\n",
      "Type the shift number:\n",
      "2\n",
      "converted text is:  jgoc\n",
      "want to cipher new text yes(1) no(0): 1\n"
     ]
    }
   ],
   "source": [
    "while(True):\n",
    "    direction = input(\"Type '1' to encrypt, type '0' to decrypt:\\n\")\n",
    "    text = input(\"Type your message:\\n\").lower()\n",
    "    shift = int(input(\"Type the shift number:\\n\"))\n",
    "    caesarcipher(text,shift,direction)\n",
    "    if input(\"want to cipher new text yes(1) no(0): \") == 0 :\n",
    "        break;"
   ]
  },
  {
   "cell_type": "code",
   "execution_count": null,
   "id": "ef81d05e",
   "metadata": {},
   "outputs": [],
   "source": []
  }
 ],
 "metadata": {
  "kernelspec": {
   "display_name": "Python 3 (ipykernel)",
   "language": "python",
   "name": "python3"
  },
  "language_info": {
   "codemirror_mode": {
    "name": "ipython",
    "version": 3
   },
   "file_extension": ".py",
   "mimetype": "text/x-python",
   "name": "python",
   "nbconvert_exporter": "python",
   "pygments_lexer": "ipython3",
   "version": "3.11.1"
  }
 },
 "nbformat": 4,
 "nbformat_minor": 5
}
