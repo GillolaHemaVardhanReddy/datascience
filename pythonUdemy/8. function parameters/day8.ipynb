{
 "cells": [
  {
   "cell_type": "markdown",
   "id": "c2f68f42",
   "metadata": {},
   "source": [
    "# functions\n",
    "\n",
    "syntax :  \n",
    "def funcName(p1,p2,...):  \n",
    "<pre> statements"
   ]
  },
  {
   "cell_type": "code",
   "execution_count": 5,
   "id": "0cfac888",
   "metadata": {},
   "outputs": [],
   "source": [
    "def greet(name):\n",
    "    print(f\"hello {name}!\") # here name is parameter"
   ]
  },
  {
   "cell_type": "code",
   "execution_count": 6,
   "id": "65ab5be4",
   "metadata": {},
   "outputs": [
    {
     "name": "stdout",
     "output_type": "stream",
     "text": [
      "hello hema!\n"
     ]
    }
   ],
   "source": [
    "name = \"hema\"\n",
    "greet(name) # here name is argument"
   ]
  },
  {
   "cell_type": "markdown",
   "id": "6de9d84f",
   "metadata": {},
   "source": [
    "## positional vs keyword arguments"
   ]
  },
  {
   "cell_type": "raw",
   "id": "18aa1368",
   "metadata": {},
   "source": [
    "positional arguments are when we give arguments with no specific parameter name it just takes default parameter at that position in the function"
   ]
  },
  {
   "cell_type": "code",
   "execution_count": 7,
   "id": "cf5ce182",
   "metadata": {},
   "outputs": [],
   "source": [
    "def quest(name,place):\n",
    "    print(f\"hello {name} I'm also from {place}\")"
   ]
  },
  {
   "cell_type": "code",
   "execution_count": 8,
   "id": "8268e3f5",
   "metadata": {},
   "outputs": [
    {
     "name": "stdout",
     "output_type": "stream",
     "text": [
      "hello hema I'm also from nizambad\n"
     ]
    }
   ],
   "source": [
    "quest(\"hema\",\"nizambad\")"
   ]
  },
  {
   "cell_type": "code",
   "execution_count": 9,
   "id": "5cde8a40",
   "metadata": {},
   "outputs": [
    {
     "name": "stdout",
     "output_type": "stream",
     "text": [
      "hello nizambad I'm also from hema\n"
     ]
    }
   ],
   "source": [
    "quest(\"nizambad\",\"hema\")"
   ]
  },
  {
   "cell_type": "raw",
   "id": "f6788fbd",
   "metadata": {},
   "source": [
    "keyword arguments are arguments with parameter name specified in function call"
   ]
  },
  {
   "cell_type": "code",
   "execution_count": 10,
   "id": "a896d1ec",
   "metadata": {},
   "outputs": [
    {
     "name": "stdout",
     "output_type": "stream",
     "text": [
      "hello hema I'm also from nizambad\n"
     ]
    }
   ],
   "source": [
    "quest(place=\"nizambad\",name=\"hema\")"
   ]
  },
  {
   "cell_type": "code",
   "execution_count": null,
   "id": "d8b017fa",
   "metadata": {},
   "outputs": [],
   "source": []
  }
 ],
 "metadata": {
  "kernelspec": {
   "display_name": "Python 3 (ipykernel)",
   "language": "python",
   "name": "python3"
  },
  "language_info": {
   "codemirror_mode": {
    "name": "ipython",
    "version": 3
   },
   "file_extension": ".py",
   "mimetype": "text/x-python",
   "name": "python",
   "nbconvert_exporter": "python",
   "pygments_lexer": "ipython3",
   "version": "3.11.1"
  }
 },
 "nbformat": 4,
 "nbformat_minor": 5
}
