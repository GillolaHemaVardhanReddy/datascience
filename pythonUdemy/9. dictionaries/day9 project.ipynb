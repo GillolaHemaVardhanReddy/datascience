{
 "cells": [
  {
   "cell_type": "markdown",
   "id": "e198dfc6",
   "metadata": {},
   "source": [
    "# secret auction"
   ]
  },
  {
   "cell_type": "code",
   "execution_count": 2,
   "id": "93eca3fb",
   "metadata": {},
   "outputs": [],
   "source": [
    "from replit import clear"
   ]
  },
  {
   "cell_type": "code",
   "execution_count": 5,
   "id": "401a0db7",
   "metadata": {},
   "outputs": [],
   "source": [
    "bids = {}\n",
    "highest = {}\n",
    "def auction():\n",
    "    while(True):\n",
    "        x = input(\"enter your name: \")\n",
    "        y = int(input(\"enter your bid: \"))\n",
    "        bids[x] = y\n",
    "        if input(\"If there are any other to bid: yes(1) No(0)\")=='1' :\n",
    "            clear()\n",
    "        else:\n",
    "            highest[x] = bids[x]\n",
    "            clear()\n",
    "            break\n",
    "    for key in bids:\n",
    "        for k in highest:\n",
    "            if highest[k] < bids[key] :\n",
    "                highest[key] = bids[key]\n",
    "    print(highest)"
   ]
  },
  {
   "cell_type": "code",
   "execution_count": 6,
   "id": "fc291298",
   "metadata": {},
   "outputs": [
    {
     "name": "stdout",
     "output_type": "stream",
     "text": [
      "enter your name: hema\n",
      "enter your bid: 120\n",
      "If there are any other to bid: yes(1) No(0)1\n",
      "\u001b[H\u001b[2Jenter your name: raju\n",
      "enter your bid: 00\n",
      "If there are any other to bid: yes(1) No(0)1\n",
      "\u001b[H\u001b[2Jenter your name: jagan\n",
      "enter your bid: 200\n",
      "If there are any other to bid: yes(1) No(0)0\n",
      "\u001b[H\u001b[2J{'jagan': 200}\n"
     ]
    }
   ],
   "source": [
    "auction()"
   ]
  },
  {
   "cell_type": "code",
   "execution_count": null,
   "id": "947a51eb",
   "metadata": {},
   "outputs": [],
   "source": []
  }
 ],
 "metadata": {
  "kernelspec": {
   "display_name": "Python 3 (ipykernel)",
   "language": "python",
   "name": "python3"
  },
  "language_info": {
   "codemirror_mode": {
    "name": "ipython",
    "version": 3
   },
   "file_extension": ".py",
   "mimetype": "text/x-python",
   "name": "python",
   "nbconvert_exporter": "python",
   "pygments_lexer": "ipython3",
   "version": "3.11.1"
  }
 },
 "nbformat": 4,
 "nbformat_minor": 5
}
