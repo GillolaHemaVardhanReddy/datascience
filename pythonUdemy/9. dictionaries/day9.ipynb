{
 "cells": [
  {
   "cell_type": "markdown",
   "id": "c41e51e0",
   "metadata": {},
   "source": [
    "# DICTIONARIES\n",
    "\n",
    "every dictionary in python has a set of keyValue pair  \n",
    "keys must be unique  \n",
    "syntax:  \n",
    "<pre> {key1:value1,key2:value2....}"
   ]
  },
  {
   "cell_type": "code",
   "execution_count": 3,
   "id": "67b42d78",
   "metadata": {},
   "outputs": [],
   "source": [
    "x = {\n",
    "    \"hema\": 2002,\n",
    "    \"jagan\": 2003,\n",
    "    \"abhi\": 2001\n",
    "}"
   ]
  },
  {
   "cell_type": "markdown",
   "id": "cd6bd12a",
   "metadata": {},
   "source": [
    "## accessing values through keys"
   ]
  },
  {
   "cell_type": "code",
   "execution_count": 4,
   "id": "c5c75d0c",
   "metadata": {},
   "outputs": [
    {
     "data": {
      "text/plain": [
       "2002"
      ]
     },
     "execution_count": 4,
     "metadata": {},
     "output_type": "execute_result"
    }
   ],
   "source": [
    "x[\"hema\"]"
   ]
  },
  {
   "cell_type": "code",
   "execution_count": 6,
   "id": "6f82cd05",
   "metadata": {},
   "outputs": [
    {
     "ename": "KeyError",
     "evalue": "'raju'",
     "output_type": "error",
     "traceback": [
      "\u001b[1;31m---------------------------------------------------------------------------\u001b[0m",
      "\u001b[1;31mKeyError\u001b[0m                                  Traceback (most recent call last)",
      "Cell \u001b[1;32mIn[6], line 1\u001b[0m\n\u001b[1;32m----> 1\u001b[0m \u001b[43mx\u001b[49m\u001b[43m[\u001b[49m\u001b[38;5;124;43m\"\u001b[39;49m\u001b[38;5;124;43mraju\u001b[39;49m\u001b[38;5;124;43m\"\u001b[39;49m\u001b[43m]\u001b[49m\n",
      "\u001b[1;31mKeyError\u001b[0m: 'raju'"
     ]
    }
   ],
   "source": [
    "x[\"raju\"] # when we try to access key that is not pesent we get error"
   ]
  },
  {
   "cell_type": "code",
   "execution_count": 5,
   "id": "148c7adf",
   "metadata": {},
   "outputs": [
    {
     "data": {
      "text/plain": [
       "2002"
      ]
     },
     "execution_count": 5,
     "metadata": {},
     "output_type": "execute_result"
    }
   ],
   "source": [
    "x.get(\"hema\")"
   ]
  },
  {
   "cell_type": "code",
   "execution_count": 7,
   "id": "03f4d334",
   "metadata": {},
   "outputs": [],
   "source": [
    "x.get(\"raju\") # when we try to access key that is not pesent we dont get error when we use .get()"
   ]
  },
  {
   "cell_type": "markdown",
   "id": "2ace32e6",
   "metadata": {},
   "source": [
    "## Adding new key value pair"
   ]
  },
  {
   "cell_type": "code",
   "execution_count": 8,
   "id": "3146862f",
   "metadata": {},
   "outputs": [],
   "source": [
    "x[\"raju\"] = 2005"
   ]
  },
  {
   "cell_type": "code",
   "execution_count": 9,
   "id": "7569cf25",
   "metadata": {},
   "outputs": [
    {
     "data": {
      "text/plain": [
       "{'hema': 2002, 'jagan': 2003, 'abhi': 2001, 'raju': 2005}"
      ]
     },
     "execution_count": 9,
     "metadata": {},
     "output_type": "execute_result"
    }
   ],
   "source": [
    "x"
   ]
  },
  {
   "cell_type": "markdown",
   "id": "374fd751",
   "metadata": {},
   "source": [
    "## Editing value using keys"
   ]
  },
  {
   "cell_type": "code",
   "execution_count": 10,
   "id": "4cbff5ed",
   "metadata": {},
   "outputs": [],
   "source": [
    "x[\"raju\"] = 2000"
   ]
  },
  {
   "cell_type": "code",
   "execution_count": 11,
   "id": "b9c718ea",
   "metadata": {},
   "outputs": [
    {
     "data": {
      "text/plain": [
       "{'hema': 2002, 'jagan': 2003, 'abhi': 2001, 'raju': 2000}"
      ]
     },
     "execution_count": 11,
     "metadata": {},
     "output_type": "execute_result"
    }
   ],
   "source": [
    "x"
   ]
  },
  {
   "cell_type": "markdown",
   "id": "6b7a4023",
   "metadata": {},
   "source": [
    "## loop on dictionary"
   ]
  },
  {
   "cell_type": "code",
   "execution_count": 14,
   "id": "a338bda0",
   "metadata": {},
   "outputs": [
    {
     "name": "stdout",
     "output_type": "stream",
     "text": [
      "hema\n",
      "2002\n",
      "jagan\n",
      "2003\n",
      "abhi\n",
      "2001\n",
      "raju\n",
      "2000\n"
     ]
    }
   ],
   "source": [
    "for item in x:\n",
    "    print(item)  # item points to only keys\n",
    "    print(x[item]) # this gives value"
   ]
  },
  {
   "cell_type": "markdown",
   "id": "808edfe4",
   "metadata": {},
   "source": [
    "## nesting list/dictionary in dictionary"
   ]
  },
  {
   "cell_type": "code",
   "execution_count": 15,
   "id": "a082de0a",
   "metadata": {},
   "outputs": [],
   "source": [
    "x = {\n",
    "    \"a\": [2002,2003,2004],\n",
    "    \"b\": {\"hema\":2002,\"jagan\":2003}\n",
    "}"
   ]
  },
  {
   "cell_type": "code",
   "execution_count": 16,
   "id": "56009886",
   "metadata": {},
   "outputs": [
    {
     "data": {
      "text/plain": [
       "{'a': [2002, 2003, 2004], 'b': {'hema': 2002, 'jagan': 2003}}"
      ]
     },
     "execution_count": 16,
     "metadata": {},
     "output_type": "execute_result"
    }
   ],
   "source": [
    "x"
   ]
  },
  {
   "cell_type": "markdown",
   "id": "0b6ecd5a",
   "metadata": {},
   "source": [
    "#### LIST of dictionaries"
   ]
  },
  {
   "cell_type": "code",
   "execution_count": 17,
   "id": "a959305c",
   "metadata": {},
   "outputs": [],
   "source": [
    "y = [{\"a\":1,\"b\":2},{\"hema\":2002,\"abhi\":2003}]"
   ]
  },
  {
   "cell_type": "code",
   "execution_count": 18,
   "id": "0691d6bb",
   "metadata": {},
   "outputs": [
    {
     "data": {
      "text/plain": [
       "[{'a': 1, 'b': 2}, {'hema': 2002, 'abhi': 2003}]"
      ]
     },
     "execution_count": 18,
     "metadata": {},
     "output_type": "execute_result"
    }
   ],
   "source": [
    "y"
   ]
  }
 ],
 "metadata": {
  "kernelspec": {
   "display_name": "Python 3 (ipykernel)",
   "language": "python",
   "name": "python3"
  },
  "language_info": {
   "codemirror_mode": {
    "name": "ipython",
    "version": 3
   },
   "file_extension": ".py",
   "mimetype": "text/x-python",
   "name": "python",
   "nbconvert_exporter": "python",
   "pygments_lexer": "ipython3",
   "version": "3.11.1"
  }
 },
 "nbformat": 4,
 "nbformat_minor": 5
}
